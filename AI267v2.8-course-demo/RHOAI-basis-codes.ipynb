{
 "cells": [
  {
   "cell_type": "markdown",
   "id": "7df7b45e-2365-4fe4-9cc2-b81f36763a8e",
   "metadata": {},
   "source": [
    "# 🦾🧠 Red Hat OpenShift AI 上的 AI/ML 概念与代码示例"
   ]
  },
  {
   "cell_type": "markdown",
   "id": "5ea98021-5380-4a31-bb25-ada4870f3d53",
   "metadata": {},
   "source": [
    "## 机器学习中的基本概念\n",
    "- 特征（features）\n",
    "- 目标变量（target variables）：标记数据（可包含连续的数值）\n",
    "- 超参数（hyperparameters）\n",
    "- 模型（model）\n",
    "- 训练（training）\n",
    "- 推理（inference）\n",
    "- 评估（evalution）：为了评估训练后数据集中的预期值与模型生成的实际值之间的偏差，计算偏差或性能使用均方根误差、精确率与召回率等指标。"
   ]
  },
  {
   "cell_type": "markdown",
   "id": "688b6a1d-05fb-4250-bf0b-1a756291261d",
   "metadata": {},
   "source": [
    "## 机器学习类型\n",
    "- 监督学习：\n",
    "  - 此类学习方式会从标记的数据中学习\n",
    "  - 模型类型：线性回归、逻辑回归、支持向量机（`SVM`）、决策树、随机森林、神经网络\n",
    "- 无监督学习：\n",
    "  - 此类学习方式会从未标记的数据中学习，以发现数据中隐藏的结构或见解，而无需有关目标的明确指导。在这种情况下，数据集不包含目标变量。\n",
    "  - 模型类型：K 均值聚类、K 最邻近（`KNN`）、主成分分析（`PCA`）、自动编码神经网络\n",
    "  - 大语言模型（`LLM`）属于无监督学习范畴"
   ]
  },
  {
   "cell_type": "markdown",
   "id": "21682341-dd35-4a9f-8b22-4d049b691736",
   "metadata": {},
   "source": [
    "## 机器学习架构的概念\n",
    "  \n",
    "  ![desired-conceptual-ml-architecture](images/desired-conceptual-ml-architecture.png)\n",
    "  \n",
    "- 在顶部，可看到一个典型的项目生命周期，其中设置了业务目标，数据工程师致力于收集和准备数据，以便为数据科学家开发 ML 模型做好准备。\n",
    "- 接下来，数据科学家与软件开发人员合作，将 ML 模型部署到应用程序开发过程中。\n",
    "- 最后，部署了人工智能/机器学习驱动的智能应用程序，机器学习模型开始根据它看到的新数据进行推理（做出预测）。\n",
    "- 必须持续监控和管理生产中的 ML 模型，以确保它们做出正确的预测，并根据需要进行再训练。"
   ]
  },
  {
   "cell_type": "markdown",
   "id": "16ee85a5-5946-46d1-8a58-690268b3a471",
   "metadata": {},
   "source": [
    "## 高层次的 (High-level) RHOAI 整体架构\n",
    "  ![01-rhoai-advanced-architecture.jpg](images/01-rhoai-advanced-architecture.jpg)\n",
    "  RHOAI 中模型开发与训练位于 workbench 中进行，它在整个 MLOps 中具有核心的地位。以下列举了 workbench 的镜像来源与架构：\n",
    "  ![workbench-architecture](images/workbench-architecture.png)\n",
    "  \n",
    "  🔥 RHOAI 基于的上游项目：\n",
    "  - 数据科学管道项目（Data Science Pipelines）基于 `Tekton` 与 [Kubeflow](https://www.kubeflow.org/) 上游项目，可使用 `Elyra` GUI 可视化创建管道。\n",
    "  - RHOAI 基于开放数据中心（[Open Data Hub](https://opendatahub.io/), `ODH`）上游项目\n",
    "    ![open-data-hub-arch](images/open-data-hub-arch.png)\n",
    "    - **Open Data Hub Dashboard**：Web 仪表板，显示已安装的开放数据中心组件，易于访问组件 UI 和文档。\n",
    "    - **ODH Notebook Controller**：Kubernetes 环境中 Jupyter Notebook 的安全管理，建立在 Kubeflow Notebook Controller 之上，支持 OAuth。\n",
    "    - **Jupyter Notebooks**：为 GPU 工作负载提供 Python 支持的 JupyterLab notebook。\n",
    "    - **Data Science Pipelines**：支持 Kubeflow Pipeline SDK 和 Tekton 的端到端 MLOps 工作流的管道解决方案。\n",
    "    - **Model Mesh**：ModelMesh 服务是用于管理 ModelMesh 的控制器，ModelMesh 是一个通用的模型，服务于管理/路由层。"
   ]
  },
  {
   "cell_type": "markdown",
   "id": "91cc050b-b141-4fd7-b056-f8a07b1f625f",
   "metadata": {},
   "source": [
    "## 典型的机器学习模型训练过程\n",
    "\n",
    "  ![04-machine-learning-model-by-zomi-details.png](images/04-machine-learning-model-by-zomi.png)"
   ]
  },
  {
   "cell_type": "markdown",
   "id": "d84d0a3f-0603-4fee-8562-0d2a0907b196",
   "metadata": {},
   "source": [
    "- 机器学习模型训练的常用评估指标：\n",
    "\n",
    "  在机器学习中，AC、SN 和 MCC 是评估分类模型性能的不同的统计指标。它们通常用于衡量模型预测结果与真实标签之间的一致性。以下是每个指标的详细解释：\n",
    "  \n",
    "  - **AC (Accuracy)**:\n",
    "    - 准确率（Accuracy）是最常用的性能指标之一，它衡量的是模型正确预测的样本数占总样本数的比例。\n",
    "    - 计算公式为：$$\\text{AC} = \\frac{\\text{TP} + \\text{TN}}{\\text{TP} + \\text{TN} + \\text{FP} + \\text{FN}}$$ 其中TP是真正例（True Positives），TN 是真负例（True Negatives），FP 是假正例（False Positives），FN 是假负例（False Negatives）。\n",
    "    - 准确率很容易理解和计算，但它可能不适用于类别不平衡的数据集，因为它对所有类别的权重相同。\n",
    "  - **SN (Sensitivity)**:\n",
    "    - 灵敏度（Sensitivity），也称为真正率（True Positive Rate, TPR）或召回率（Recall），衡量的是模型正确识别正例（例如，疾病、欺诈行为等）的能力。\n",
    "    - 计算公式为：$$\\text{SN} = \\frac{\\text{TP}}{\\text{TP} + \\text{FN}}$$\n",
    "    - 在正例相对较少但非常重要的情况下，如医疗诊断，灵敏度是一个关键指标。 \n",
    "  - **MCC (Matthews Correlation Coefficient)**:\n",
    "    - 马修斯相关系数（Matthews Correlation Coefficient, MCC）是一个介于 -1 和 1 之间的指标，用于衡量分类模型的质量。MCC 考虑了所有四个混淆矩阵（confusion matrix）的组成部分（TP, TN, FP, FN），因此它提供了一个平衡的性能度量。\n",
    "    - 计算公式为：$$\\text{MCC} = \\frac{\\text{TP} \\times \\text{TN} - \\text{FP} \\times \\text{FN}}{\\sqrt{(\\text{TP} + \\text{FP}) \\times (\\text{TP} + \\text{FN}) \\times (\\text{TN} + \\text{FP}) \\times (\\text{TN} + \\text{FN})}}$$\n",
    "    - MCC 值越高，表示模型的性能越好。MCC 为 1 表示完美预测，0 表示随机预测，-1 表示完全错误的预测。\n",
    "    - MCC 特别适用于类别不平衡的数据集，因为它不依赖于任何特定类别的预测。"
   ]
  },
  {
   "cell_type": "markdown",
   "id": "715a27de-f7ce-4223-a6fe-38f9b3555cef",
   "metadata": {},
   "source": [
    "- 在机器学习中，均方误差（Mean Squared Error, MSE）和均方根误差（Root Mean Squared Error, RMSE）是用来衡量模型预测值与实际值之间差异的常用指标，尤其在回归任务中。\n",
    "\n",
    "  - MSE (Mean Squared Error)：\n",
    "    MSE 是预测误差的平方和的平均值，它可以公式化为：\n",
    "    $$\\text{MSE} = \\frac{1}{n} \\sum_{i=1}^{n} (y_i - \\hat{y}_i)^2$$ 其中：\n",
    "    - $n$ 是样本数量。\n",
    "    - $y_i$ 是第 $i$ 个真实值。\n",
    "    - $\\hat{y}_i$ 是第 $i$ 个预测值。\n",
    "\n",
    "    MSE 的值越小，表示模型的预测越准确。MSE 对于较大的误差给予更大的惩罚（因为误差是平方的），这使得模型更加关注减少较大的预测误差。\n",
    "\n",
    "  - RMSE (Root Mean Squared Error)：\n",
    "    RMSE 是 MSE 的平方根，它可以公式化为：\n",
    "    $$\\text{RMSE} = \\sqrt{\\frac{1}{n} \\sum_{i=1}^{n} (y_i - \\hat{y}_i)^2}$$\n",
    " \n",
    "    RMSE 与 MSE 相似，但它将误差的单位还原为原始数据的单位，使得误差更直观。RMSE 同样对较大的误差给予较大的惩罚。\n",
    "\n",
    "  - MSE 与 RMSE 的关系：\n",
    "    - RMSE 是 MSE 的平方根，因此它们衡量的是相同的误差，但 RMSE 的单位与原始数据的单位相同，而 MSE 的单位是原始数据单位的平方。\n",
    "    - 由于平方根是一个凸函数，RMSE 对异常值的敏感度低于 MSE。这意味着在存在异常值的情况下，RMSE 可能不会像 MSE 那样显著增加。\n",
    "\n",
    "- 应用场景：\n",
    "  - **MSE**：当你需要一个对大误差有更大惩罚的指标时，或者当你想要优化的损失函数是二次损失时，MSE 是一个好选择。\n",
    "  - **RMSE**：当你需要一个与数据在同一量纲上的误差指标时，RMSE 更合适。它通常用于金融和天气预报等领域。\n",
    "\n",
    "- 在实际应用中，选择 MSE 还是 RMSE 取决于具体问题的需求和对异常值的敏感度。通常，这些指标会与其他指标（如 MAE - Mean Absolute Error）一起使用，以全面评估模型的性能。"
   ]
  },
  {
   "cell_type": "markdown",
   "id": "31952b60-8fa7-486d-a7e4-1680c25a7015",
   "metadata": {},
   "source": [
    "## 🔥 RHOAI 中的 AI/ML 工作流示意\n",
    "  ![02-ml-workflow-in-rhoai.jpg](images/02-ml-workflow-in-rhoai.png)\n",
    "  \n",
    "- RHOAI 中的组件通过 operator 的方式进行部署安装\n",
    "- RHOAI GPU 功能需要 `NVIDIA GPU Operator`\n",
    "- RHOAI 工作台（workbench）作为 OpenShift Pod 运行，专为机器学习和数据科学而设计。\n",
    "- 为此，工作台包含 `JupyterLab Notebook` 执行环境、标准数据科学库（如 TensorFlow）和 GPU 加速功能等。\n",
    "- 在 RHOAI 中，数据科学管道是以自动化方式执行脚本或 Jupyter Notebook 的工作流。\n",
    "- `JupyterLab` 的前身被称为 Jupyter Notebook\n",
    "- RHOAI 提供工作台镜像，以便使用 `TensorFlow`、`PyTorch` 和 `Scikit-learn` 等常用库来训练模型。\n",
    "- AI 模型、机器学习模型（或简称模型）是机器学习工作流训练阶段产生的主要制品\n",
    "- 通常，开发人员还需要 HTTP API 或类似的 API，以便面向公众公开模型。\n",
    "- 在 RHOAI 中，模型服务器是自动部署模型的组件。\n",
    "- RHOAI 使用 [KServe](https://kserve.github.io/website) 作为模型服务平台，并支持 `OpenVINO`、`Triton`、文本生成推断服务器（`TGIS`）和 `Caikit` 等模型运行时。\n",
    "- 模型服务器使用数据连接从 S3 模型存储下载模型文件\n",
    "- 将模型服务器文件下载到容器中后，模型服务器会通过标准 REST 或 gRPC API 公开模型。"
   ]
  },
  {
   "cell_type": "markdown",
   "id": "b9715384-2b74-4b3c-8c6d-86dae6317c6c",
   "metadata": {},
   "source": [
    "## **MLOps** 典型流程\n",
    "  ![typical-MLOps-workflow](images/typical-MLOps-workflow.png)\n",
    "  ![ml-workflow](images/ml-workflow.jpg)"
   ]
  },
  {
   "cell_type": "markdown",
   "id": "65286c46-2337-433f-9075-3dbada01833e",
   "metadata": {},
   "source": [
    "## 关于 JupyterLab 与 Notebook 的使用"
   ]
  },
  {
   "cell_type": "code",
   "execution_count": 3,
   "id": "d713810b-714b-4275-8cc2-f5ea0eda420f",
   "metadata": {
    "collapsed": true,
    "jupyter": {
     "outputs_hidden": true
    }
   },
   "outputs": [
    {
     "name": "stdout",
     "output_type": "stream",
     "text": [
      "Active code page: 437\n",
      "Requirement already satisfied: pip in e:\\programme files 1\\lib\\site-packages (24.1)\n",
      "Collecting pip\n",
      "  Using cached pip-24.2-py3-none-any.whl.metadata (3.6 kB)\n",
      "Using cached pip-24.2-py3-none-any.whl (1.8 MB)\n",
      "Installing collected packages: pip\n",
      "  Attempting uninstall: pip\n",
      "    Found existing installation: pip 24.1\n",
      "    Uninstalling pip-24.1:\n",
      "      Successfully uninstalled pip-24.1\n",
      "Successfully installed pip-24.2\n"
     ]
    }
   ],
   "source": [
    "!python -m pip install --upgrade pip\n",
    "# 升级 pip 模块"
   ]
  },
  {
   "cell_type": "code",
   "execution_count": 4,
   "id": "5f4c7c29-7ca6-411b-852a-74ee73a03c9e",
   "metadata": {
    "collapsed": true,
    "jupyter": {
     "outputs_hidden": true
    },
    "scrolled": true
   },
   "outputs": [
    {
     "name": "stdout",
     "output_type": "stream",
     "text": [
      "Active code page: 437\n",
      "Requirement already satisfied: numpy in e:\\programme files 1\\lib\\site-packages (1.26.4)\n",
      "Requirement already satisfied: matplotlib in e:\\programme files 1\\lib\\site-packages (3.9.0)\n",
      "Requirement already satisfied: pandas in e:\\programme files 1\\lib\\site-packages (2.2.2)\n",
      "Requirement already satisfied: contourpy>=1.0.1 in e:\\programme files 1\\lib\\site-packages (from matplotlib) (1.2.1)\n",
      "Requirement already satisfied: cycler>=0.10 in e:\\programme files 1\\lib\\site-packages (from matplotlib) (0.12.1)\n",
      "Requirement already satisfied: fonttools>=4.22.0 in e:\\programme files 1\\lib\\site-packages (from matplotlib) (4.53.0)\n",
      "Requirement already satisfied: kiwisolver>=1.3.1 in e:\\programme files 1\\lib\\site-packages (from matplotlib) (1.4.5)\n",
      "Requirement already satisfied: packaging>=20.0 in e:\\programme files 1\\lib\\site-packages (from matplotlib) (24.1)\n",
      "Requirement already satisfied: pillow>=8 in e:\\programme files 1\\lib\\site-packages (from matplotlib) (10.3.0)\n",
      "Requirement already satisfied: pyparsing>=2.3.1 in e:\\programme files 1\\lib\\site-packages (from matplotlib) (3.1.2)\n",
      "Requirement already satisfied: python-dateutil>=2.7 in e:\\programme files 1\\lib\\site-packages (from matplotlib) (2.9.0.post0)\n",
      "Requirement already satisfied: pytz>=2020.1 in e:\\programme files 1\\lib\\site-packages (from pandas) (2024.1)\n",
      "Requirement already satisfied: tzdata>=2022.7 in e:\\programme files 1\\lib\\site-packages (from pandas) (2024.1)\n",
      "Requirement already satisfied: six>=1.5 in e:\\programme files 1\\lib\\site-packages (from python-dateutil>=2.7->matplotlib) (1.16.0)\n"
     ]
    }
   ],
   "source": [
    "!pip3 install --user numpy matplotlib pandas\n",
    "# 安装数据分析与机器学习基础模块"
   ]
  },
  {
   "cell_type": "code",
   "execution_count": 5,
   "id": "44a83971-18e4-4c76-93d8-b98cb7be8acf",
   "metadata": {
    "collapsed": true,
    "jupyter": {
     "outputs_hidden": true
    }
   },
   "outputs": [
    {
     "name": "stdout",
     "output_type": "stream",
     "text": [
      "Active code page: 437\n",
      "Requirement already satisfied: jupyterlab in e:\\programme files 1\\lib\\site-packages (4.2.2)\n",
      "Collecting jupyterlab\n",
      "  Downloading jupyterlab-4.2.5-py3-none-any.whl.metadata (16 kB)\n",
      "Requirement already satisfied: jupyterlab-git in e:\\programme files 1\\lib\\site-packages (0.50.1)\n",
      "Requirement already satisfied: async-lru>=1.0.0 in e:\\programme files 1\\lib\\site-packages (from jupyterlab) (2.0.4)\n",
      "Requirement already satisfied: httpx>=0.25.0 in e:\\programme files 1\\lib\\site-packages (from jupyterlab) (0.27.0)\n",
      "Requirement already satisfied: ipykernel>=6.5.0 in e:\\programme files 1\\lib\\site-packages (from jupyterlab) (6.29.4)\n",
      "Requirement already satisfied: jinja2>=3.0.3 in e:\\programme files 1\\lib\\site-packages (from jupyterlab) (3.1.4)\n",
      "Requirement already satisfied: jupyter-core in e:\\programme files 1\\lib\\site-packages (from jupyterlab) (5.7.2)\n",
      "Requirement already satisfied: jupyter-lsp>=2.0.0 in e:\\programme files 1\\lib\\site-packages (from jupyterlab) (2.2.5)\n",
      "Requirement already satisfied: jupyter-server<3,>=2.4.0 in e:\\programme files 1\\lib\\site-packages (from jupyterlab) (2.14.1)\n",
      "Requirement already satisfied: jupyterlab-server<3,>=2.27.1 in e:\\programme files 1\\lib\\site-packages (from jupyterlab) (2.27.2)\n",
      "Requirement already satisfied: notebook-shim>=0.2 in e:\\programme files 1\\lib\\site-packages (from jupyterlab) (0.2.4)\n",
      "Requirement already satisfied: packaging in e:\\programme files 1\\lib\\site-packages (from jupyterlab) (24.1)\n",
      "Requirement already satisfied: setuptools>=40.1.0 in e:\\programme files 1\\lib\\site-packages (from jupyterlab) (69.2.0)\n",
      "Requirement already satisfied: tornado>=6.2.0 in e:\\programme files 1\\lib\\site-packages (from jupyterlab) (6.4.1)\n",
      "Requirement already satisfied: traitlets in e:\\programme files 1\\lib\\site-packages (from jupyterlab) (5.14.3)\n",
      "Requirement already satisfied: nbdime~=4.0.1 in e:\\programme files 1\\lib\\site-packages (from jupyterlab-git) (4.0.1)\n",
      "Requirement already satisfied: nbformat in e:\\programme files 1\\lib\\site-packages (from jupyterlab-git) (5.10.4)\n",
      "Requirement already satisfied: pexpect in e:\\programme files 1\\lib\\site-packages (from jupyterlab-git) (4.9.0)\n",
      "Requirement already satisfied: anyio in e:\\programme files 1\\lib\\site-packages (from httpx>=0.25.0->jupyterlab) (4.4.0)\n",
      "Requirement already satisfied: certifi in e:\\programme files 1\\lib\\site-packages (from httpx>=0.25.0->jupyterlab) (2024.2.2)\n",
      "Requirement already satisfied: httpcore==1.* in e:\\programme files 1\\lib\\site-packages (from httpx>=0.25.0->jupyterlab) (1.0.5)\n",
      "Requirement already satisfied: idna in e:\\programme files 1\\lib\\site-packages (from httpx>=0.25.0->jupyterlab) (3.6)\n",
      "Requirement already satisfied: sniffio in e:\\programme files 1\\lib\\site-packages (from httpx>=0.25.0->jupyterlab) (1.3.1)\n",
      "Requirement already satisfied: h11<0.15,>=0.13 in e:\\programme files 1\\lib\\site-packages (from httpcore==1.*->httpx>=0.25.0->jupyterlab) (0.14.0)\n",
      "Requirement already satisfied: comm>=0.1.1 in e:\\programme files 1\\lib\\site-packages (from ipykernel>=6.5.0->jupyterlab) (0.2.2)\n",
      "Requirement already satisfied: debugpy>=1.6.5 in e:\\programme files 1\\lib\\site-packages (from ipykernel>=6.5.0->jupyterlab) (1.8.1)\n",
      "Requirement already satisfied: ipython>=7.23.1 in e:\\programme files 1\\lib\\site-packages (from ipykernel>=6.5.0->jupyterlab) (8.25.0)\n",
      "Requirement already satisfied: jupyter-client>=6.1.12 in e:\\programme files 1\\lib\\site-packages (from ipykernel>=6.5.0->jupyterlab) (8.6.2)\n",
      "Requirement already satisfied: matplotlib-inline>=0.1 in e:\\programme files 1\\lib\\site-packages (from ipykernel>=6.5.0->jupyterlab) (0.1.7)\n",
      "Requirement already satisfied: nest-asyncio in e:\\programme files 1\\lib\\site-packages (from ipykernel>=6.5.0->jupyterlab) (1.6.0)\n",
      "Requirement already satisfied: psutil in e:\\programme files 1\\lib\\site-packages (from ipykernel>=6.5.0->jupyterlab) (6.0.0)\n",
      "Requirement already satisfied: pyzmq>=24 in e:\\programme files 1\\lib\\site-packages (from ipykernel>=6.5.0->jupyterlab) (26.0.3)\n",
      "Requirement already satisfied: MarkupSafe>=2.0 in e:\\programme files 1\\lib\\site-packages (from jinja2>=3.0.3->jupyterlab) (2.1.5)\n",
      "Requirement already satisfied: platformdirs>=2.5 in e:\\programme files 1\\lib\\site-packages (from jupyter-core->jupyterlab) (4.2.2)\n",
      "Requirement already satisfied: pywin32>=300 in e:\\programme files 1\\lib\\site-packages (from jupyter-core->jupyterlab) (306)\n",
      "Requirement already satisfied: argon2-cffi>=21.1 in e:\\programme files 1\\lib\\site-packages (from jupyter-server<3,>=2.4.0->jupyterlab) (23.1.0)\n",
      "Requirement already satisfied: jupyter-events>=0.9.0 in e:\\programme files 1\\lib\\site-packages (from jupyter-server<3,>=2.4.0->jupyterlab) (0.10.0)\n",
      "Requirement already satisfied: jupyter-server-terminals>=0.4.4 in e:\\programme files 1\\lib\\site-packages (from jupyter-server<3,>=2.4.0->jupyterlab) (0.5.3)\n",
      "Requirement already satisfied: nbconvert>=6.4.4 in e:\\programme files 1\\lib\\site-packages (from jupyter-server<3,>=2.4.0->jupyterlab) (7.16.4)\n",
      "Requirement already satisfied: overrides>=5.0 in e:\\programme files 1\\lib\\site-packages (from jupyter-server<3,>=2.4.0->jupyterlab) (7.7.0)\n",
      "Requirement already satisfied: prometheus-client>=0.9 in e:\\programme files 1\\lib\\site-packages (from jupyter-server<3,>=2.4.0->jupyterlab) (0.20.0)\n",
      "Requirement already satisfied: pywinpty>=2.0.1 in e:\\programme files 1\\lib\\site-packages (from jupyter-server<3,>=2.4.0->jupyterlab) (2.0.13)\n",
      "Requirement already satisfied: send2trash>=1.8.2 in e:\\programme files 1\\lib\\site-packages (from jupyter-server<3,>=2.4.0->jupyterlab) (1.8.3)\n",
      "Requirement already satisfied: terminado>=0.8.3 in e:\\programme files 1\\lib\\site-packages (from jupyter-server<3,>=2.4.0->jupyterlab) (0.18.1)\n",
      "Requirement already satisfied: websocket-client>=1.7 in e:\\programme files 1\\lib\\site-packages (from jupyter-server<3,>=2.4.0->jupyterlab) (1.8.0)\n",
      "Requirement already satisfied: babel>=2.10 in e:\\programme files 1\\lib\\site-packages (from jupyterlab-server<3,>=2.27.1->jupyterlab) (2.15.0)\n",
      "Requirement already satisfied: json5>=0.9.0 in e:\\programme files 1\\lib\\site-packages (from jupyterlab-server<3,>=2.27.1->jupyterlab) (0.9.25)\n",
      "Requirement already satisfied: jsonschema>=4.18.0 in e:\\programme files 1\\lib\\site-packages (from jupyterlab-server<3,>=2.27.1->jupyterlab) (4.22.0)\n",
      "Requirement already satisfied: requests>=2.31 in e:\\programme files 1\\lib\\site-packages (from jupyterlab-server<3,>=2.27.1->jupyterlab) (2.31.0)\n",
      "Requirement already satisfied: colorama in e:\\programme files 1\\lib\\site-packages (from nbdime~=4.0.1->jupyterlab-git) (0.4.6)\n",
      "Requirement already satisfied: gitpython!=2.1.4,!=2.1.5,!=2.1.6 in e:\\programme files 1\\lib\\site-packages (from nbdime~=4.0.1->jupyterlab-git) (3.1.43)\n",
      "Requirement already satisfied: jupyter-server-mathjax>=0.2.2 in e:\\programme files 1\\lib\\site-packages (from nbdime~=4.0.1->jupyterlab-git) (0.2.6)\n",
      "Requirement already satisfied: pygments in e:\\programme files 1\\lib\\site-packages (from nbdime~=4.0.1->jupyterlab-git) (2.18.0)\n",
      "Requirement already satisfied: fastjsonschema>=2.15 in e:\\programme files 1\\lib\\site-packages (from nbformat->jupyterlab-git) (2.20.0)\n",
      "Requirement already satisfied: ptyprocess>=0.5 in e:\\programme files 1\\lib\\site-packages (from pexpect->jupyterlab-git) (0.7.0)\n",
      "Requirement already satisfied: argon2-cffi-bindings in e:\\programme files 1\\lib\\site-packages (from argon2-cffi>=21.1->jupyter-server<3,>=2.4.0->jupyterlab) (21.2.0)\n",
      "Requirement already satisfied: gitdb<5,>=4.0.1 in e:\\programme files 1\\lib\\site-packages (from gitpython!=2.1.4,!=2.1.5,!=2.1.6->nbdime~=4.0.1->jupyterlab-git) (4.0.11)\n",
      "Requirement already satisfied: decorator in e:\\programme files 1\\lib\\site-packages (from ipython>=7.23.1->ipykernel>=6.5.0->jupyterlab) (5.1.1)\n",
      "Requirement already satisfied: jedi>=0.16 in e:\\programme files 1\\lib\\site-packages (from ipython>=7.23.1->ipykernel>=6.5.0->jupyterlab) (0.19.1)\n",
      "Requirement already satisfied: prompt-toolkit<3.1.0,>=3.0.41 in e:\\programme files 1\\lib\\site-packages (from ipython>=7.23.1->ipykernel>=6.5.0->jupyterlab) (3.0.47)\n",
      "Requirement already satisfied: stack-data in e:\\programme files 1\\lib\\site-packages (from ipython>=7.23.1->ipykernel>=6.5.0->jupyterlab) (0.6.3)\n",
      "Requirement already satisfied: attrs>=22.2.0 in e:\\programme files 1\\lib\\site-packages (from jsonschema>=4.18.0->jupyterlab-server<3,>=2.27.1->jupyterlab) (23.2.0)\n",
      "Requirement already satisfied: jsonschema-specifications>=2023.03.6 in e:\\programme files 1\\lib\\site-packages (from jsonschema>=4.18.0->jupyterlab-server<3,>=2.27.1->jupyterlab) (2023.12.1)\n",
      "Requirement already satisfied: referencing>=0.28.4 in e:\\programme files 1\\lib\\site-packages (from jsonschema>=4.18.0->jupyterlab-server<3,>=2.27.1->jupyterlab) (0.35.1)\n",
      "Requirement already satisfied: rpds-py>=0.7.1 in e:\\programme files 1\\lib\\site-packages (from jsonschema>=4.18.0->jupyterlab-server<3,>=2.27.1->jupyterlab) (0.18.1)\n",
      "Requirement already satisfied: python-dateutil>=2.8.2 in e:\\programme files 1\\lib\\site-packages (from jupyter-client>=6.1.12->ipykernel>=6.5.0->jupyterlab) (2.9.0.post0)\n",
      "Requirement already satisfied: python-json-logger>=2.0.4 in e:\\programme files 1\\lib\\site-packages (from jupyter-events>=0.9.0->jupyter-server<3,>=2.4.0->jupyterlab) (2.0.7)\n",
      "Requirement already satisfied: pyyaml>=5.3 in e:\\programme files 1\\lib\\site-packages (from jupyter-events>=0.9.0->jupyter-server<3,>=2.4.0->jupyterlab) (6.0.1)\n",
      "Requirement already satisfied: rfc3339-validator in e:\\programme files 1\\lib\\site-packages (from jupyter-events>=0.9.0->jupyter-server<3,>=2.4.0->jupyterlab) (0.1.4)\n",
      "Requirement already satisfied: rfc3986-validator>=0.1.1 in e:\\programme files 1\\lib\\site-packages (from jupyter-events>=0.9.0->jupyter-server<3,>=2.4.0->jupyterlab) (0.1.1)\n",
      "Requirement already satisfied: beautifulsoup4 in e:\\programme files 1\\lib\\site-packages (from nbconvert>=6.4.4->jupyter-server<3,>=2.4.0->jupyterlab) (4.12.3)\n",
      "Requirement already satisfied: bleach!=5.0.0 in e:\\programme files 1\\lib\\site-packages (from nbconvert>=6.4.4->jupyter-server<3,>=2.4.0->jupyterlab) (6.1.0)\n",
      "Requirement already satisfied: defusedxml in e:\\programme files 1\\lib\\site-packages (from nbconvert>=6.4.4->jupyter-server<3,>=2.4.0->jupyterlab) (0.7.1)\n",
      "Requirement already satisfied: jupyterlab-pygments in e:\\programme files 1\\lib\\site-packages (from nbconvert>=6.4.4->jupyter-server<3,>=2.4.0->jupyterlab) (0.3.0)\n",
      "Requirement already satisfied: mistune<4,>=2.0.3 in e:\\programme files 1\\lib\\site-packages (from nbconvert>=6.4.4->jupyter-server<3,>=2.4.0->jupyterlab) (3.0.2)\n",
      "Requirement already satisfied: nbclient>=0.5.0 in e:\\programme files 1\\lib\\site-packages (from nbconvert>=6.4.4->jupyter-server<3,>=2.4.0->jupyterlab) (0.10.0)\n",
      "Requirement already satisfied: pandocfilters>=1.4.1 in e:\\programme files 1\\lib\\site-packages (from nbconvert>=6.4.4->jupyter-server<3,>=2.4.0->jupyterlab) (1.5.1)\n",
      "Requirement already satisfied: tinycss2 in e:\\programme files 1\\lib\\site-packages (from nbconvert>=6.4.4->jupyter-server<3,>=2.4.0->jupyterlab) (1.3.0)\n",
      "Requirement already satisfied: charset-normalizer<4,>=2 in e:\\programme files 1\\lib\\site-packages (from requests>=2.31->jupyterlab-server<3,>=2.27.1->jupyterlab) (3.3.2)\n",
      "Requirement already satisfied: urllib3<3,>=1.21.1 in e:\\programme files 1\\lib\\site-packages (from requests>=2.31->jupyterlab-server<3,>=2.27.1->jupyterlab) (2.2.1)\n",
      "Requirement already satisfied: six>=1.9.0 in e:\\programme files 1\\lib\\site-packages (from bleach!=5.0.0->nbconvert>=6.4.4->jupyter-server<3,>=2.4.0->jupyterlab) (1.16.0)\n",
      "Requirement already satisfied: webencodings in e:\\programme files 1\\lib\\site-packages (from bleach!=5.0.0->nbconvert>=6.4.4->jupyter-server<3,>=2.4.0->jupyterlab) (0.5.1)\n",
      "Requirement already satisfied: smmap<6,>=3.0.1 in e:\\programme files 1\\lib\\site-packages (from gitdb<5,>=4.0.1->gitpython!=2.1.4,!=2.1.5,!=2.1.6->nbdime~=4.0.1->jupyterlab-git) (5.0.1)\n",
      "Requirement already satisfied: parso<0.9.0,>=0.8.3 in e:\\programme files 1\\lib\\site-packages (from jedi>=0.16->ipython>=7.23.1->ipykernel>=6.5.0->jupyterlab) (0.8.4)\n",
      "Requirement already satisfied: fqdn in e:\\programme files 1\\lib\\site-packages (from jsonschema[format-nongpl]>=4.18.0->jupyter-events>=0.9.0->jupyter-server<3,>=2.4.0->jupyterlab) (1.5.1)\n",
      "Requirement already satisfied: isoduration in e:\\programme files 1\\lib\\site-packages (from jsonschema[format-nongpl]>=4.18.0->jupyter-events>=0.9.0->jupyter-server<3,>=2.4.0->jupyterlab) (20.11.0)\n",
      "Requirement already satisfied: jsonpointer>1.13 in e:\\programme files 1\\lib\\site-packages (from jsonschema[format-nongpl]>=4.18.0->jupyter-events>=0.9.0->jupyter-server<3,>=2.4.0->jupyterlab) (3.0.0)\n",
      "Requirement already satisfied: uri-template in e:\\programme files 1\\lib\\site-packages (from jsonschema[format-nongpl]>=4.18.0->jupyter-events>=0.9.0->jupyter-server<3,>=2.4.0->jupyterlab) (1.3.0)\n",
      "Requirement already satisfied: webcolors>=1.11 in e:\\programme files 1\\lib\\site-packages (from jsonschema[format-nongpl]>=4.18.0->jupyter-events>=0.9.0->jupyter-server<3,>=2.4.0->jupyterlab) (24.6.0)\n",
      "Requirement already satisfied: wcwidth in e:\\programme files 1\\lib\\site-packages (from prompt-toolkit<3.1.0,>=3.0.41->ipython>=7.23.1->ipykernel>=6.5.0->jupyterlab) (0.2.13)\n",
      "Requirement already satisfied: cffi>=1.0.1 in e:\\programme files 1\\lib\\site-packages (from argon2-cffi-bindings->argon2-cffi>=21.1->jupyter-server<3,>=2.4.0->jupyterlab) (1.16.0)\n",
      "Requirement already satisfied: soupsieve>1.2 in e:\\programme files 1\\lib\\site-packages (from beautifulsoup4->nbconvert>=6.4.4->jupyter-server<3,>=2.4.0->jupyterlab) (2.5)\n",
      "Requirement already satisfied: executing>=1.2.0 in e:\\programme files 1\\lib\\site-packages (from stack-data->ipython>=7.23.1->ipykernel>=6.5.0->jupyterlab) (2.0.1)\n",
      "Requirement already satisfied: asttokens>=2.1.0 in e:\\programme files 1\\lib\\site-packages (from stack-data->ipython>=7.23.1->ipykernel>=6.5.0->jupyterlab) (2.4.1)\n",
      "Requirement already satisfied: pure-eval in e:\\programme files 1\\lib\\site-packages (from stack-data->ipython>=7.23.1->ipykernel>=6.5.0->jupyterlab) (0.2.2)\n",
      "Requirement already satisfied: pycparser in e:\\programme files 1\\lib\\site-packages (from cffi>=1.0.1->argon2-cffi-bindings->argon2-cffi>=21.1->jupyter-server<3,>=2.4.0->jupyterlab) (2.22)\n",
      "Requirement already satisfied: arrow>=0.15.0 in e:\\programme files 1\\lib\\site-packages (from isoduration->jsonschema[format-nongpl]>=4.18.0->jupyter-events>=0.9.0->jupyter-server<3,>=2.4.0->jupyterlab) (1.3.0)\n",
      "Requirement already satisfied: types-python-dateutil>=2.8.10 in e:\\programme files 1\\lib\\site-packages (from arrow>=0.15.0->isoduration->jsonschema[format-nongpl]>=4.18.0->jupyter-events>=0.9.0->jupyter-server<3,>=2.4.0->jupyterlab) (2.9.0.20240316)\n",
      "Downloading jupyterlab-4.2.5-py3-none-any.whl (11.6 MB)\n",
      "   ---------------------------------------- 0.0/11.6 MB ? eta -:--:--\n",
      "   ---------------------------------------- 0.0/11.6 MB ? eta -:--:--\n",
      "   ---------------------------------------- 0.0/11.6 MB ? eta -:--:--\n",
      "   ---------------------------------------- 0.0/11.6 MB ? eta -:--:--\n",
      "    --------------------------------------- 0.3/11.6 MB ? eta -:--:--\n",
      "    --------------------------------------- 0.3/11.6 MB ? eta -:--:--\n",
      "    --------------------------------------- 0.3/11.6 MB ? eta -:--:--\n",
      "   - -------------------------------------- 0.5/11.6 MB 430.4 kB/s eta 0:00:26\n",
      "   - -------------------------------------- 0.5/11.6 MB 430.4 kB/s eta 0:00:26\n",
      "   - -------------------------------------- 0.5/11.6 MB 430.4 kB/s eta 0:00:26\n",
      "   -- ------------------------------------- 0.8/11.6 MB 385.8 kB/s eta 0:00:29\n",
      "   -- ------------------------------------- 0.8/11.6 MB 385.8 kB/s eta 0:00:29\n",
      "   -- ------------------------------------- 0.8/11.6 MB 385.8 kB/s eta 0:00:29\n",
      "   --- ------------------------------------ 1.0/11.6 MB 423.0 kB/s eta 0:00:26\n",
      "   --- ------------------------------------ 1.0/11.6 MB 423.0 kB/s eta 0:00:26\n",
      "   --- ------------------------------------ 1.0/11.6 MB 423.0 kB/s eta 0:00:26\n",
      "   ---- ----------------------------------- 1.3/11.6 MB 430.1 kB/s eta 0:00:25\n",
      "   ---- ----------------------------------- 1.3/11.6 MB 430.1 kB/s eta 0:00:25\n",
      "   ---- ----------------------------------- 1.3/11.6 MB 430.1 kB/s eta 0:00:25\n",
      "   ----- ---------------------------------- 1.6/11.6 MB 430.2 kB/s eta 0:00:24\n",
      "   ----- ---------------------------------- 1.6/11.6 MB 430.2 kB/s eta 0:00:24\n",
      "   ------ --------------------------------- 1.8/11.6 MB 426.5 kB/s eta 0:00:23\n",
      "   ------ --------------------------------- 1.8/11.6 MB 426.5 kB/s eta 0:00:23\n",
      "   ------ --------------------------------- 1.8/11.6 MB 426.5 kB/s eta 0:00:23\n",
      "   ------ --------------------------------- 1.8/11.6 MB 426.5 kB/s eta 0:00:23\n",
      "   ------- -------------------------------- 2.1/11.6 MB 415.0 kB/s eta 0:00:24\n",
      "   ------- -------------------------------- 2.1/11.6 MB 415.0 kB/s eta 0:00:24\n",
      "   -------- ------------------------------- 2.4/11.6 MB 427.5 kB/s eta 0:00:22\n",
      "   -------- ------------------------------- 2.4/11.6 MB 427.5 kB/s eta 0:00:22\n",
      "   -------- ------------------------------- 2.4/11.6 MB 427.5 kB/s eta 0:00:22\n",
      "   --------- ------------------------------ 2.6/11.6 MB 430.2 kB/s eta 0:00:21\n",
      "   --------- ------------------------------ 2.6/11.6 MB 430.2 kB/s eta 0:00:21\n",
      "   --------- ------------------------------ 2.6/11.6 MB 430.2 kB/s eta 0:00:21\n",
      "   --------- ------------------------------ 2.9/11.6 MB 435.7 kB/s eta 0:00:21\n",
      "   --------- ------------------------------ 2.9/11.6 MB 435.7 kB/s eta 0:00:21\n",
      "   ---------- ----------------------------- 3.1/11.6 MB 437.3 kB/s eta 0:00:20\n",
      "   ---------- ----------------------------- 3.1/11.6 MB 437.3 kB/s eta 0:00:20\n",
      "   ---------- ----------------------------- 3.1/11.6 MB 437.3 kB/s eta 0:00:20\n",
      "   ----------- ---------------------------- 3.4/11.6 MB 436.7 kB/s eta 0:00:19\n",
      "   ----------- ---------------------------- 3.4/11.6 MB 436.7 kB/s eta 0:00:19\n",
      "   ----------- ---------------------------- 3.4/11.6 MB 436.7 kB/s eta 0:00:19\n",
      "   ------------ --------------------------- 3.7/11.6 MB 437.1 kB/s eta 0:00:19\n",
      "   ------------ --------------------------- 3.7/11.6 MB 437.1 kB/s eta 0:00:19\n",
      "   ------------ --------------------------- 3.7/11.6 MB 437.1 kB/s eta 0:00:19\n",
      "   ------------- -------------------------- 3.9/11.6 MB 438.2 kB/s eta 0:00:18\n",
      "   ------------- -------------------------- 3.9/11.6 MB 438.2 kB/s eta 0:00:18\n",
      "   ------------- -------------------------- 3.9/11.6 MB 438.2 kB/s eta 0:00:18\n",
      "   -------------- ------------------------- 4.2/11.6 MB 438.4 kB/s eta 0:00:17\n",
      "   -------------- ------------------------- 4.2/11.6 MB 438.4 kB/s eta 0:00:17\n",
      "   -------------- ------------------------- 4.2/11.6 MB 438.4 kB/s eta 0:00:17\n",
      "   --------------- ------------------------ 4.5/11.6 MB 430.2 kB/s eta 0:00:17\n",
      "   --------------- ------------------------ 4.5/11.6 MB 430.2 kB/s eta 0:00:17\n",
      "   --------------- ------------------------ 4.5/11.6 MB 430.2 kB/s eta 0:00:17\n",
      "   ---------------- ----------------------- 4.7/11.6 MB 430.8 kB/s eta 0:00:17\n",
      "   ---------------- ----------------------- 4.7/11.6 MB 430.8 kB/s eta 0:00:17\n",
      "   ---------------- ----------------------- 4.7/11.6 MB 430.8 kB/s eta 0:00:17\n",
      "   ---------------- ----------------------- 4.7/11.6 MB 430.8 kB/s eta 0:00:17\n",
      "   ----------------- ---------------------- 5.0/11.6 MB 425.3 kB/s eta 0:00:16\n",
      "   ----------------- ---------------------- 5.0/11.6 MB 425.3 kB/s eta 0:00:16\n",
      "   ----------------- ---------------------- 5.0/11.6 MB 425.3 kB/s eta 0:00:16\n",
      "   ------------------ --------------------- 5.2/11.6 MB 425.6 kB/s eta 0:00:16\n",
      "   ------------------ --------------------- 5.2/11.6 MB 425.6 kB/s eta 0:00:16\n",
      "   ------------------ --------------------- 5.2/11.6 MB 425.6 kB/s eta 0:00:16\n",
      "   ------------------ --------------------- 5.5/11.6 MB 419.4 kB/s eta 0:00:15\n",
      "   ------------------ --------------------- 5.5/11.6 MB 419.4 kB/s eta 0:00:15\n",
      "   ------------------ --------------------- 5.5/11.6 MB 419.4 kB/s eta 0:00:15\n",
      "   ------------------- -------------------- 5.8/11.6 MB 419.4 kB/s eta 0:00:15\n",
      "   ------------------- -------------------- 5.8/11.6 MB 419.4 kB/s eta 0:00:15\n",
      "   ------------------- -------------------- 5.8/11.6 MB 419.4 kB/s eta 0:00:15\n",
      "   -------------------- ------------------- 6.0/11.6 MB 424.2 kB/s eta 0:00:14\n",
      "   -------------------- ------------------- 6.0/11.6 MB 424.2 kB/s eta 0:00:14\n",
      "   -------------------- ------------------- 6.0/11.6 MB 424.2 kB/s eta 0:00:14\n",
      "   --------------------- ------------------ 6.3/11.6 MB 424.0 kB/s eta 0:00:13\n",
      "   --------------------- ------------------ 6.3/11.6 MB 424.0 kB/s eta 0:00:13\n",
      "   ---------------------- ----------------- 6.6/11.6 MB 428.3 kB/s eta 0:00:12\n",
      "   ---------------------- ----------------- 6.6/11.6 MB 428.3 kB/s eta 0:00:12\n",
      "   ---------------------- ----------------- 6.6/11.6 MB 428.3 kB/s eta 0:00:12\n",
      "   ----------------------- ---------------- 6.8/11.6 MB 428.9 kB/s eta 0:00:12\n",
      "   ----------------------- ---------------- 6.8/11.6 MB 428.9 kB/s eta 0:00:12\n",
      "   ------------------------ --------------- 7.1/11.6 MB 429.3 kB/s eta 0:00:11\n",
      "   ------------------------ --------------- 7.1/11.6 MB 429.3 kB/s eta 0:00:11\n",
      "   ------------------------ --------------- 7.1/11.6 MB 429.3 kB/s eta 0:00:11\n",
      "   ------------------------- -------------- 7.3/11.6 MB 429.8 kB/s eta 0:00:11\n",
      "   ------------------------- -------------- 7.3/11.6 MB 429.8 kB/s eta 0:00:11\n",
      "   ------------------------- -------------- 7.3/11.6 MB 429.8 kB/s eta 0:00:11\n",
      "   ------------------------- -------------- 7.3/11.6 MB 429.8 kB/s eta 0:00:11\n",
      "   -------------------------- ------------- 7.6/11.6 MB 425.5 kB/s eta 0:00:10\n",
      "   -------------------------- ------------- 7.6/11.6 MB 425.5 kB/s eta 0:00:10\n",
      "   -------------------------- ------------- 7.6/11.6 MB 425.5 kB/s eta 0:00:10\n",
      "   --------------------------- ------------ 7.9/11.6 MB 421.6 kB/s eta 0:00:09\n",
      "   --------------------------- ------------ 7.9/11.6 MB 421.6 kB/s eta 0:00:09\n",
      "   --------------------------- ------------ 7.9/11.6 MB 421.6 kB/s eta 0:00:09\n",
      "   --------------------------- ------------ 8.1/11.6 MB 422.9 kB/s eta 0:00:09\n",
      "   ---------------------------- ----------- 8.4/11.6 MB 433.4 kB/s eta 0:00:08\n",
      "   ----------------------------- ---------- 8.7/11.6 MB 440.4 kB/s eta 0:00:07\n",
      "   ----------------------------- ---------- 8.7/11.6 MB 440.4 kB/s eta 0:00:07\n",
      "   ------------------------------ --------- 8.9/11.6 MB 444.0 kB/s eta 0:00:07\n",
      "   ------------------------------- -------- 9.2/11.6 MB 454.5 kB/s eta 0:00:06\n",
      "   -------------------------------- ------- 9.4/11.6 MB 463.1 kB/s eta 0:00:05\n",
      "   --------------------------------- ------ 9.7/11.6 MB 468.6 kB/s eta 0:00:05\n",
      "   ----------------------------------- ---- 10.2/11.6 MB 491.2 kB/s eta 0:00:03\n",
      "   ------------------------------------ --- 10.7/11.6 MB 509.6 kB/s eta 0:00:02\n",
      "   ------------------------------------- -- 11.0/11.6 MB 518.7 kB/s eta 0:00:02\n",
      "   -------------------------------------- - 11.3/11.6 MB 527.8 kB/s eta 0:00:01\n",
      "   ---------------------------------------  11.5/11.6 MB 533.2 kB/s eta 0:00:01\n",
      "   ---------------------------------------- 11.6/11.6 MB 535.9 kB/s eta 0:00:00\n",
      "Installing collected packages: jupyterlab\n",
      "  Attempting uninstall: jupyterlab\n",
      "    Found existing installation: jupyterlab 4.2.2\n",
      "    Uninstalling jupyterlab-4.2.2:\n"
     ]
    },
    {
     "name": "stderr",
     "output_type": "stream",
     "text": [
      "ERROR: Could not install packages due to an OSError: [WinError 32] 另一个程序正在使用此文件，进程无法访问。: 'e:\\\\programme files 1\\\\scripts\\\\jupyter-lab.exe'\n",
      "Consider using the `--user` option or check the permissions.\n",
      "\n"
     ]
    }
   ],
   "source": [
    "!pip3 install --upgrade jupyterlab jupyterlab-git\n",
    "# 安装 JupyterLab Git 扩展，安装完成后可在 Web 页面左侧边栏显示。"
   ]
  },
  {
   "cell_type": "code",
   "execution_count": 6,
   "id": "4902e234-e9ba-4f90-9ead-df2b1f34b09f",
   "metadata": {
    "collapsed": true,
    "jupyter": {
     "outputs_hidden": true
    }
   },
   "outputs": [
    {
     "name": "stdout",
     "output_type": "stream",
     "text": [
      "Active code page: 437"
     ]
    },
    {
     "name": "stderr",
     "output_type": "stream",
     "text": [
      "WARNING: Ignoring invalid distribution ~upyterlab (E:\\Programme Files 1\\Lib\\site-packages)\n",
      "WARNING: Ignoring invalid distribution ~upyterlab (E:\\Programme Files 1\\Lib\\site-packages)\n"
     ]
    },
    {
     "name": "stdout",
     "output_type": "stream",
     "text": [
      "\n",
      "Requirement already satisfied: scikit-learn in e:\\programme files 1\\lib\\site-packages (1.5.1)\n",
      "Requirement already satisfied: keras in e:\\programme files 1\\lib\\site-packages (3.4.1)\n",
      "Requirement already satisfied: tensorflow in e:\\programme files 1\\lib\\site-packages (2.16.2)\n",
      "Requirement already satisfied: torch in e:\\programme files 1\\lib\\site-packages (2.3.1)\n",
      "Requirement already satisfied: numpy>=1.19.5 in e:\\programme files 1\\lib\\site-packages (from scikit-learn) (1.26.4)\n",
      "Requirement already satisfied: scipy>=1.6.0 in e:\\programme files 1\\lib\\site-packages (from scikit-learn) (1.14.0)\n",
      "Requirement already satisfied: joblib>=1.2.0 in e:\\programme files 1\\lib\\site-packages (from scikit-learn) (1.4.2)\n",
      "Requirement already satisfied: threadpoolctl>=3.1.0 in e:\\programme files 1\\lib\\site-packages (from scikit-learn) (3.5.0)\n",
      "Requirement already satisfied: absl-py in e:\\programme files 1\\lib\\site-packages (from keras) (2.1.0)\n",
      "Requirement already satisfied: rich in e:\\programme files 1\\lib\\site-packages (from keras) (13.7.1)\n",
      "Requirement already satisfied: namex in e:\\programme files 1\\lib\\site-packages (from keras) (0.0.8)\n",
      "Requirement already satisfied: h5py in e:\\programme files 1\\lib\\site-packages (from keras) (3.11.0)\n",
      "Requirement already satisfied: optree in e:\\programme files 1\\lib\\site-packages (from keras) (0.12.1)\n",
      "Requirement already satisfied: ml-dtypes in e:\\programme files 1\\lib\\site-packages (from keras) (0.3.2)\n",
      "Requirement already satisfied: packaging in e:\\programme files 1\\lib\\site-packages (from keras) (24.1)\n",
      "Requirement already satisfied: tensorflow-intel==2.16.2 in e:\\programme files 1\\lib\\site-packages (from tensorflow) (2.16.2)\n",
      "Requirement already satisfied: astunparse>=1.6.0 in e:\\programme files 1\\lib\\site-packages (from tensorflow-intel==2.16.2->tensorflow) (1.6.3)\n",
      "Requirement already satisfied: flatbuffers>=23.5.26 in e:\\programme files 1\\lib\\site-packages (from tensorflow-intel==2.16.2->tensorflow) (24.3.25)\n",
      "Requirement already satisfied: gast!=0.5.0,!=0.5.1,!=0.5.2,>=0.2.1 in e:\\programme files 1\\lib\\site-packages (from tensorflow-intel==2.16.2->tensorflow) (0.6.0)\n",
      "Requirement already satisfied: google-pasta>=0.1.1 in e:\\programme files 1\\lib\\site-packages (from tensorflow-intel==2.16.2->tensorflow) (0.2.0)\n",
      "Requirement already satisfied: libclang>=13.0.0 in e:\\programme files 1\\lib\\site-packages (from tensorflow-intel==2.16.2->tensorflow) (18.1.1)\n",
      "Requirement already satisfied: opt-einsum>=2.3.2 in e:\\programme files 1\\lib\\site-packages (from tensorflow-intel==2.16.2->tensorflow) (3.3.0)\n",
      "Requirement already satisfied: protobuf!=4.21.0,!=4.21.1,!=4.21.2,!=4.21.3,!=4.21.4,!=4.21.5,<5.0.0dev,>=3.20.3 in e:\\programme files 1\\lib\\site-packages (from tensorflow-intel==2.16.2->tensorflow) (4.25.3)\n",
      "Requirement already satisfied: requests<3,>=2.21.0 in e:\\programme files 1\\lib\\site-packages (from tensorflow-intel==2.16.2->tensorflow) (2.31.0)\n",
      "Requirement already satisfied: setuptools in e:\\programme files 1\\lib\\site-packages (from tensorflow-intel==2.16.2->tensorflow) (69.2.0)\n",
      "Requirement already satisfied: six>=1.12.0 in e:\\programme files 1\\lib\\site-packages (from tensorflow-intel==2.16.2->tensorflow) (1.16.0)\n",
      "Requirement already satisfied: termcolor>=1.1.0 in e:\\programme files 1\\lib\\site-packages (from tensorflow-intel==2.16.2->tensorflow) (2.4.0)\n",
      "Requirement already satisfied: typing-extensions>=3.6.6 in e:\\programme files 1\\lib\\site-packages (from tensorflow-intel==2.16.2->tensorflow) (4.12.2)\n",
      "Requirement already satisfied: wrapt>=1.11.0 in e:\\programme files 1\\lib\\site-packages (from tensorflow-intel==2.16.2->tensorflow) (1.16.0)\n",
      "Requirement already satisfied: grpcio<2.0,>=1.24.3 in e:\\programme files 1\\lib\\site-packages (from tensorflow-intel==2.16.2->tensorflow) (1.64.1)\n",
      "Requirement already satisfied: tensorboard<2.17,>=2.16 in e:\\programme files 1\\lib\\site-packages (from tensorflow-intel==2.16.2->tensorflow) (2.16.2)\n",
      "Requirement already satisfied: filelock in e:\\programme files 1\\lib\\site-packages (from torch) (3.15.4)\n",
      "Requirement already satisfied: sympy in e:\\programme files 1\\lib\\site-packages (from torch) (1.12.1)\n",
      "Requirement already satisfied: networkx in e:\\programme files 1\\lib\\site-packages (from torch) (3.3)\n",
      "Requirement already satisfied: jinja2 in e:\\programme files 1\\lib\\site-packages (from torch) (3.1.4)\n",
      "Requirement already satisfied: fsspec in e:\\programme files 1\\lib\\site-packages (from torch) (2024.6.0)\n",
      "Requirement already satisfied: mkl<=2021.4.0,>=2021.1.1 in e:\\programme files 1\\lib\\site-packages (from torch) (2021.4.0)\n",
      "Requirement already satisfied: intel-openmp==2021.* in e:\\programme files 1\\lib\\site-packages (from mkl<=2021.4.0,>=2021.1.1->torch) (2021.4.0)\n",
      "Requirement already satisfied: tbb==2021.* in e:\\programme files 1\\lib\\site-packages (from mkl<=2021.4.0,>=2021.1.1->torch) (2021.13.0)\n",
      "Requirement already satisfied: MarkupSafe>=2.0 in e:\\programme files 1\\lib\\site-packages (from jinja2->torch) (2.1.5)\n",
      "Requirement already satisfied: markdown-it-py>=2.2.0 in e:\\programme files 1\\lib\\site-packages (from rich->keras) (3.0.0)\n",
      "Requirement already satisfied: pygments<3.0.0,>=2.13.0 in e:\\programme files 1\\lib\\site-packages (from rich->keras) (2.18.0)\n",
      "Requirement already satisfied: mpmath<1.4.0,>=1.1.0 in e:\\programme files 1\\lib\\site-packages (from sympy->torch) (1.3.0)\n",
      "Requirement already satisfied: wheel<1.0,>=0.23.0 in e:\\programme files 1\\lib\\site-packages (from astunparse>=1.6.0->tensorflow-intel==2.16.2->tensorflow) (0.43.0)\n",
      "Requirement already satisfied: mdurl~=0.1 in e:\\programme files 1\\lib\\site-packages (from markdown-it-py>=2.2.0->rich->keras) (0.1.2)\n",
      "Requirement already satisfied: charset-normalizer<4,>=2 in e:\\programme files 1\\lib\\site-packages (from requests<3,>=2.21.0->tensorflow-intel==2.16.2->tensorflow) (3.3.2)\n",
      "Requirement already satisfied: idna<4,>=2.5 in e:\\programme files 1\\lib\\site-packages (from requests<3,>=2.21.0->tensorflow-intel==2.16.2->tensorflow) (3.6)\n",
      "Requirement already satisfied: urllib3<3,>=1.21.1 in e:\\programme files 1\\lib\\site-packages (from requests<3,>=2.21.0->tensorflow-intel==2.16.2->tensorflow) (2.2.1)\n",
      "Requirement already satisfied: certifi>=2017.4.17 in e:\\programme files 1\\lib\\site-packages (from requests<3,>=2.21.0->tensorflow-intel==2.16.2->tensorflow) (2024.2.2)\n",
      "Requirement already satisfied: markdown>=2.6.8 in e:\\programme files 1\\lib\\site-packages (from tensorboard<2.17,>=2.16->tensorflow-intel==2.16.2->tensorflow) (3.6)\n",
      "Requirement already satisfied: tensorboard-data-server<0.8.0,>=0.7.0 in e:\\programme files 1\\lib\\site-packages (from tensorboard<2.17,>=2.16->tensorflow-intel==2.16.2->tensorflow) (0.7.2)\n",
      "Requirement already satisfied: werkzeug>=1.0.1 in e:\\programme files 1\\lib\\site-packages (from tensorboard<2.17,>=2.16->tensorflow-intel==2.16.2->tensorflow) (3.0.3)\n"
     ]
    }
   ],
   "source": [
    "!pip3 install --user scikit-learn keras tensorflow torch\n",
    "# 安装机器学习与深度学习库"
   ]
  },
  {
   "cell_type": "markdown",
   "id": "8a16e7c1-5fa5-4932-bfeb-1aaade92c139",
   "metadata": {},
   "source": [
    "## 部署 Red Hat OpenShift AI (RHOAI)"
   ]
  },
  {
   "cell_type": "markdown",
   "id": "6f635571-c725-4f4b-a6ad-b7064c17d0bc",
   "metadata": {},
   "source": [
    "- RHOAI operator 是 RHOAI 的主要组件，部署与管理所有依赖的 operator 与 组件。\n",
    "- RHOAI 部署涉及的 operator 如下所示：\n",
    "  - **RHOAI operator**\n",
    "  - **NVIDIA GPU and Node Feature Discovery operators**\n",
    "  - **Red Hat OpenShift Pipelines operator**\n",
    "  - **Red Hat OpenShift Serverless and Red Hat OpenShift Service Mesh operators**\n",
    "- RHOAI 通过 operator 的方式实现自定义资源（`CRD`）\n",
    "- 相关的自定义资源对象包括：\n",
    "  - `DataScienceCluster` CRD (DSC)：负责创建 FeatureTracker 对象与 DSCInitialization 对象。\n",
    "  - `FeatureTracker` CRD：负责保持对 operator 创建的 OpenShift 资源的引用，以实现未使用的资源对象的垃圾回收。\n",
    "  - `DSCInitialization` CRD：负责验证需要存在的所有 Kubernetes 对象，如 Namespace、ConfigMap、NetworkPolicy、Service、Role 等。\n",
    "- 因此，OpenShift 管理员只需创建 DataScienceCluster 资源即可，且一个集群中只能定义一个此资源对象。\n",
    "- 可在 DataScienceCluster 资源定义中选择组件的状态，即 Removed 或 Managed。"
   ]
  },
  {
   "cell_type": "markdown",
   "id": "bf68c550-c828-426e-8282-b35fd3a4f413",
   "metadata": {},
   "source": [
    "## 📊 NumPy、Pandas 与 Matplotlib 库在科学计算中的使用"
   ]
  },
  {
   "cell_type": "markdown",
   "id": "3cf7217b-ea39-444d-84af-083325c0da8f",
   "metadata": {},
   "source": [
    "数据探索与预处理常用库：`NumPy`、`Pandas`、`Scikit-learn`"
   ]
  },
  {
   "cell_type": "markdown",
   "id": "6bc45540-5854-4c93-8119-4c034d53df7f",
   "metadata": {},
   "source": [
    "### NumPy 数组"
   ]
  },
  {
   "cell_type": "markdown",
   "id": "be1c0976-4871-4f35-ace1-87da2f9ceea6",
   "metadata": {},
   "source": [
    "numpy 数组的属性与魔法命令"
   ]
  },
  {
   "cell_type": "code",
   "execution_count": 7,
   "id": "10ec39ed-5dfc-47f9-881a-3dfa2719e7c4",
   "metadata": {},
   "outputs": [],
   "source": [
    "#%time import numpy as np  # 魔法命令（行命令）将同一行作为参数\n",
    "import numpy as np"
   ]
  },
  {
   "cell_type": "code",
   "execution_count": 8,
   "id": "46d483fc-b8b1-4ab4-ad4b-545bc0ff0c0e",
   "metadata": {},
   "outputs": [],
   "source": [
    "data = np.array([[1, 2, 3], [4, 5, 6], [7, 8, 9]])"
   ]
  },
  {
   "cell_type": "code",
   "execution_count": 9,
   "id": "0473c1c0-8854-4241-949e-ab52eb3c62fd",
   "metadata": {
    "collapsed": true,
    "jupyter": {
     "outputs_hidden": true
    }
   },
   "outputs": [
    {
     "data": {
      "text/plain": [
       "array([[1, 2, 3],\n",
       "       [4, 5, 6],\n",
       "       [7, 8, 9]])"
      ]
     },
     "execution_count": 9,
     "metadata": {},
     "output_type": "execute_result"
    }
   ],
   "source": [
    "data"
   ]
  },
  {
   "cell_type": "code",
   "execution_count": 10,
   "id": "37cc89bc-aad9-4773-8d69-be2cf4f5790d",
   "metadata": {
    "collapsed": true,
    "jupyter": {
     "outputs_hidden": true
    }
   },
   "outputs": [
    {
     "data": {
      "text/plain": [
       "(3, 3)"
      ]
     },
     "execution_count": 10,
     "metadata": {},
     "output_type": "execute_result"
    }
   ],
   "source": [
    "data.shape  # shape 属性：3x3 矩阵"
   ]
  },
  {
   "cell_type": "code",
   "execution_count": 11,
   "id": "9a57fd01-a61b-4172-99e1-526f7f01683b",
   "metadata": {},
   "outputs": [],
   "source": [
    "matrix_a = np.array([[0, 1, 1], [1, 0, 0]])"
   ]
  },
  {
   "cell_type": "code",
   "execution_count": 12,
   "id": "8cf61388-fe82-492d-a755-94485a45642a",
   "metadata": {},
   "outputs": [
    {
     "data": {
      "text/plain": [
       "(2, 3)"
      ]
     },
     "execution_count": 12,
     "metadata": {},
     "output_type": "execute_result"
    }
   ],
   "source": [
    "matrix_a.shape  # 2x3 矩阵"
   ]
  },
  {
   "cell_type": "markdown",
   "id": "1618caae-5468-4e08-99fb-1b077c05a62e",
   "metadata": {},
   "source": [
    "numpy 数组的运算"
   ]
  },
  {
   "cell_type": "code",
   "execution_count": 14,
   "id": "aefa669c-7555-45e5-b2ef-1abd85b8918b",
   "metadata": {
    "collapsed": true,
    "jupyter": {
     "outputs_hidden": true
    }
   },
   "outputs": [
    {
     "data": {
      "text/plain": [
       "array([[False, False, False],\n",
       "       [False, False,  True],\n",
       "       [ True,  True,  True]])"
      ]
     },
     "execution_count": 14,
     "metadata": {},
     "output_type": "execute_result"
    }
   ],
   "source": [
    "data > 5"
   ]
  },
  {
   "cell_type": "code",
   "execution_count": 15,
   "id": "def05b43-0848-4a89-a808-dd627e25aca3",
   "metadata": {
    "collapsed": true,
    "jupyter": {
     "outputs_hidden": true
    }
   },
   "outputs": [
    {
     "data": {
      "text/plain": [
       "array([[10, 20, 30],\n",
       "       [40, 50, 60],\n",
       "       [70, 80, 90]])"
      ]
     },
     "execution_count": 15,
     "metadata": {},
     "output_type": "execute_result"
    }
   ],
   "source": [
    "data * 10"
   ]
  },
  {
   "cell_type": "code",
   "execution_count": 16,
   "id": "52a777c0-6d7c-4725-9a75-0eefca7aab21",
   "metadata": {
    "collapsed": true,
    "jupyter": {
     "outputs_hidden": true
    }
   },
   "outputs": [
    {
     "data": {
      "text/plain": [
       "array([[0.9, 1.8, 2.7],\n",
       "       [3.6, 4.5, 5.4],\n",
       "       [6.3, 7.2, 8.1]])"
      ]
     },
     "execution_count": 16,
     "metadata": {},
     "output_type": "execute_result"
    }
   ],
   "source": [
    "data - [[0.1,0.2,0.3], [0.4, 0.5, 0.6], [0.7, 0.8, 0.9]]"
   ]
  },
  {
   "cell_type": "markdown",
   "id": "4252e044-3922-4a68-b414-107e0f3921a1",
   "metadata": {},
   "source": [
    "numpy 数组的切片（slice）"
   ]
  },
  {
   "cell_type": "code",
   "execution_count": 17,
   "id": "29596841-4232-4b01-a0d4-28040643231b",
   "metadata": {
    "collapsed": true,
    "jupyter": {
     "outputs_hidden": true
    }
   },
   "outputs": [
    {
     "data": {
      "text/plain": [
       "array([[1, 2, 3],\n",
       "       [4, 5, 6]])"
      ]
     },
     "execution_count": 17,
     "metadata": {},
     "output_type": "execute_result"
    }
   ],
   "source": [
    "data[0:2]    # start:stop:step"
   ]
  },
  {
   "cell_type": "code",
   "execution_count": 18,
   "id": "2d54524d-4a9c-4a69-88f2-3d5b51655ea1",
   "metadata": {
    "collapsed": true,
    "jupyter": {
     "outputs_hidden": true
    }
   },
   "outputs": [
    {
     "data": {
      "text/plain": [
       "array([[1, 2],\n",
       "       [4, 5],\n",
       "       [7, 8]])"
      ]
     },
     "execution_count": 18,
     "metadata": {},
     "output_type": "execute_result"
    }
   ],
   "source": [
    "data[:, :-1]  # : 表示索引所有行，:-1 表示索引除最后一列外的所有列。"
   ]
  },
  {
   "cell_type": "markdown",
   "id": "bb34986f-94f4-4e08-b307-4b552131d075",
   "metadata": {},
   "source": [
    "### Pandas 数据探索与预处理"
   ]
  },
  {
   "cell_type": "markdown",
   "id": "3a802835-a8af-408a-8857-2d2429e9b909",
   "metadata": {},
   "source": [
    "- Pandas 提供 `DataFrame` 数据结构，将值存储于 NumPy 数组中。\n",
    "- Pandas 提供 `read_*` 函数，可从 CSV、XML、JSON、Parquet、HDF5 或 SQL 等多种格式来源加载数据。"
   ]
  },
  {
   "cell_type": "markdown",
   "id": "80491f1c-05bc-476c-b628-a505ff01651c",
   "metadata": {},
   "source": [
    "直接创建 DataFrame 数据结构，以 to_string() 方法返回。"
   ]
  },
  {
   "cell_type": "code",
   "execution_count": 20,
   "id": "550bd8d0-8f79-45ee-8e7c-dddccceaaa0b",
   "metadata": {},
   "outputs": [],
   "source": [
    "import pandas as pd"
   ]
  },
  {
   "cell_type": "code",
   "execution_count": 22,
   "id": "01c4e70c-dc03-49cc-8c2f-1849389ce0f7",
   "metadata": {},
   "outputs": [
    {
     "name": "stdout",
     "output_type": "stream",
     "text": [
      "   A  B\n",
      "0  1  4\n",
      "1  2  5\n",
      "2  3  6\n"
     ]
    }
   ],
   "source": [
    "df = pd.DataFrame({\n",
    "  \"A\": [1, 2, 3],\n",
    "  \"B\": [4, 5, 6]\n",
    "})\n",
    "\n",
    "print(df.to_string())"
   ]
  },
  {
   "cell_type": "markdown",
   "id": "d3db4d07-8794-4e5e-93a6-ff93ca26b8f6",
   "metadata": {},
   "source": [
    "read_csv() 函数、head() 方法、iloc 属性、values 属性"
   ]
  },
  {
   "cell_type": "code",
   "execution_count": 23,
   "id": "788ff9fa-4002-4ee5-accb-6979da1c6dd3",
   "metadata": {},
   "outputs": [
    {
     "data": {
      "text/html": [
       "<div>\n",
       "<style scoped>\n",
       "    .dataframe tbody tr th:only-of-type {\n",
       "        vertical-align: middle;\n",
       "    }\n",
       "\n",
       "    .dataframe tbody tr th {\n",
       "        vertical-align: top;\n",
       "    }\n",
       "\n",
       "    .dataframe thead th {\n",
       "        text-align: right;\n",
       "    }\n",
       "</style>\n",
       "<table border=\"1\" class=\"dataframe\">\n",
       "  <thead>\n",
       "    <tr style=\"text-align: right;\">\n",
       "      <th></th>\n",
       "      <th>yr</th>\n",
       "      <th>mo</th>\n",
       "      <th>dy</th>\n",
       "      <th>date</th>\n",
       "      <th>st</th>\n",
       "      <th>mag</th>\n",
       "      <th>inj</th>\n",
       "      <th>fat</th>\n",
       "      <th>slat</th>\n",
       "      <th>slon</th>\n",
       "      <th>elat</th>\n",
       "      <th>elon</th>\n",
       "      <th>len</th>\n",
       "      <th>wid</th>\n",
       "    </tr>\n",
       "  </thead>\n",
       "  <tbody>\n",
       "    <tr>\n",
       "      <th>0</th>\n",
       "      <td>1950</td>\n",
       "      <td>1</td>\n",
       "      <td>3</td>\n",
       "      <td>1950-01-03</td>\n",
       "      <td>IL</td>\n",
       "      <td>3</td>\n",
       "      <td>3</td>\n",
       "      <td>0</td>\n",
       "      <td>39.1000</td>\n",
       "      <td>-89.3000</td>\n",
       "      <td>39.1200</td>\n",
       "      <td>-89.2300</td>\n",
       "      <td>3.60</td>\n",
       "      <td>130</td>\n",
       "    </tr>\n",
       "    <tr>\n",
       "      <th>1</th>\n",
       "      <td>1950</td>\n",
       "      <td>1</td>\n",
       "      <td>3</td>\n",
       "      <td>1950-01-03</td>\n",
       "      <td>MO</td>\n",
       "      <td>3</td>\n",
       "      <td>3</td>\n",
       "      <td>0</td>\n",
       "      <td>38.7700</td>\n",
       "      <td>-90.2200</td>\n",
       "      <td>38.8300</td>\n",
       "      <td>-90.0300</td>\n",
       "      <td>9.50</td>\n",
       "      <td>150</td>\n",
       "    </tr>\n",
       "    <tr>\n",
       "      <th>2</th>\n",
       "      <td>1950</td>\n",
       "      <td>1</td>\n",
       "      <td>3</td>\n",
       "      <td>1950-01-03</td>\n",
       "      <td>OH</td>\n",
       "      <td>1</td>\n",
       "      <td>1</td>\n",
       "      <td>0</td>\n",
       "      <td>40.8800</td>\n",
       "      <td>-84.5800</td>\n",
       "      <td>0.0000</td>\n",
       "      <td>0.0000</td>\n",
       "      <td>0.10</td>\n",
       "      <td>10</td>\n",
       "    </tr>\n",
       "    <tr>\n",
       "      <th>3</th>\n",
       "      <td>1950</td>\n",
       "      <td>1</td>\n",
       "      <td>13</td>\n",
       "      <td>1950-01-13</td>\n",
       "      <td>AR</td>\n",
       "      <td>3</td>\n",
       "      <td>1</td>\n",
       "      <td>1</td>\n",
       "      <td>34.4000</td>\n",
       "      <td>-94.3700</td>\n",
       "      <td>0.0000</td>\n",
       "      <td>0.0000</td>\n",
       "      <td>0.60</td>\n",
       "      <td>17</td>\n",
       "    </tr>\n",
       "    <tr>\n",
       "      <th>4</th>\n",
       "      <td>1950</td>\n",
       "      <td>1</td>\n",
       "      <td>25</td>\n",
       "      <td>1950-01-25</td>\n",
       "      <td>IL</td>\n",
       "      <td>2</td>\n",
       "      <td>0</td>\n",
       "      <td>0</td>\n",
       "      <td>41.1700</td>\n",
       "      <td>-87.3300</td>\n",
       "      <td>0.0000</td>\n",
       "      <td>0.0000</td>\n",
       "      <td>0.10</td>\n",
       "      <td>100</td>\n",
       "    </tr>\n",
       "    <tr>\n",
       "      <th>...</th>\n",
       "      <td>...</td>\n",
       "      <td>...</td>\n",
       "      <td>...</td>\n",
       "      <td>...</td>\n",
       "      <td>...</td>\n",
       "      <td>...</td>\n",
       "      <td>...</td>\n",
       "      <td>...</td>\n",
       "      <td>...</td>\n",
       "      <td>...</td>\n",
       "      <td>...</td>\n",
       "      <td>...</td>\n",
       "      <td>...</td>\n",
       "      <td>...</td>\n",
       "    </tr>\n",
       "    <tr>\n",
       "      <th>67553</th>\n",
       "      <td>2021</td>\n",
       "      <td>12</td>\n",
       "      <td>30</td>\n",
       "      <td>2021-12-30</td>\n",
       "      <td>GA</td>\n",
       "      <td>1</td>\n",
       "      <td>0</td>\n",
       "      <td>0</td>\n",
       "      <td>31.1703</td>\n",
       "      <td>-83.3804</td>\n",
       "      <td>31.1805</td>\n",
       "      <td>-83.3453</td>\n",
       "      <td>2.19</td>\n",
       "      <td>150</td>\n",
       "    </tr>\n",
       "    <tr>\n",
       "      <th>67554</th>\n",
       "      <td>2021</td>\n",
       "      <td>12</td>\n",
       "      <td>30</td>\n",
       "      <td>2021-12-30</td>\n",
       "      <td>GA</td>\n",
       "      <td>1</td>\n",
       "      <td>0</td>\n",
       "      <td>0</td>\n",
       "      <td>31.6900</td>\n",
       "      <td>-82.7300</td>\n",
       "      <td>31.7439</td>\n",
       "      <td>-82.5412</td>\n",
       "      <td>11.71</td>\n",
       "      <td>300</td>\n",
       "    </tr>\n",
       "    <tr>\n",
       "      <th>67555</th>\n",
       "      <td>2021</td>\n",
       "      <td>12</td>\n",
       "      <td>31</td>\n",
       "      <td>2021-12-31</td>\n",
       "      <td>AL</td>\n",
       "      <td>1</td>\n",
       "      <td>0</td>\n",
       "      <td>0</td>\n",
       "      <td>34.2875</td>\n",
       "      <td>-85.7878</td>\n",
       "      <td>34.2998</td>\n",
       "      <td>-85.7805</td>\n",
       "      <td>0.95</td>\n",
       "      <td>50</td>\n",
       "    </tr>\n",
       "    <tr>\n",
       "      <th>67556</th>\n",
       "      <td>2021</td>\n",
       "      <td>12</td>\n",
       "      <td>31</td>\n",
       "      <td>2021-12-31</td>\n",
       "      <td>GA</td>\n",
       "      <td>1</td>\n",
       "      <td>0</td>\n",
       "      <td>0</td>\n",
       "      <td>33.7372</td>\n",
       "      <td>-84.9998</td>\n",
       "      <td>33.7625</td>\n",
       "      <td>-84.9633</td>\n",
       "      <td>2.75</td>\n",
       "      <td>150</td>\n",
       "    </tr>\n",
       "    <tr>\n",
       "      <th>67557</th>\n",
       "      <td>2021</td>\n",
       "      <td>12</td>\n",
       "      <td>31</td>\n",
       "      <td>2021-12-31</td>\n",
       "      <td>GA</td>\n",
       "      <td>1</td>\n",
       "      <td>6</td>\n",
       "      <td>0</td>\n",
       "      <td>33.5676</td>\n",
       "      <td>-83.9877</td>\n",
       "      <td>33.5842</td>\n",
       "      <td>-83.9498</td>\n",
       "      <td>2.50</td>\n",
       "      <td>75</td>\n",
       "    </tr>\n",
       "  </tbody>\n",
       "</table>\n",
       "<p>67558 rows × 14 columns</p>\n",
       "</div>"
      ],
      "text/plain": [
       "         yr  mo  dy        date  st  mag  inj  fat     slat     slon     elat  \\\n",
       "0      1950   1   3  1950-01-03  IL    3    3    0  39.1000 -89.3000  39.1200   \n",
       "1      1950   1   3  1950-01-03  MO    3    3    0  38.7700 -90.2200  38.8300   \n",
       "2      1950   1   3  1950-01-03  OH    1    1    0  40.8800 -84.5800   0.0000   \n",
       "3      1950   1  13  1950-01-13  AR    3    1    1  34.4000 -94.3700   0.0000   \n",
       "4      1950   1  25  1950-01-25  IL    2    0    0  41.1700 -87.3300   0.0000   \n",
       "...     ...  ..  ..         ...  ..  ...  ...  ...      ...      ...      ...   \n",
       "67553  2021  12  30  2021-12-30  GA    1    0    0  31.1703 -83.3804  31.1805   \n",
       "67554  2021  12  30  2021-12-30  GA    1    0    0  31.6900 -82.7300  31.7439   \n",
       "67555  2021  12  31  2021-12-31  AL    1    0    0  34.2875 -85.7878  34.2998   \n",
       "67556  2021  12  31  2021-12-31  GA    1    0    0  33.7372 -84.9998  33.7625   \n",
       "67557  2021  12  31  2021-12-31  GA    1    6    0  33.5676 -83.9877  33.5842   \n",
       "\n",
       "          elon    len  wid  \n",
       "0     -89.2300   3.60  130  \n",
       "1     -90.0300   9.50  150  \n",
       "2       0.0000   0.10   10  \n",
       "3       0.0000   0.60   17  \n",
       "4       0.0000   0.10  100  \n",
       "...        ...    ...  ...  \n",
       "67553 -83.3453   2.19  150  \n",
       "67554 -82.5412  11.71  300  \n",
       "67555 -85.7805   0.95   50  \n",
       "67556 -84.9633   2.75  150  \n",
       "67557 -83.9498   2.50   75  \n",
       "\n",
       "[67558 rows x 14 columns]"
      ]
     },
     "execution_count": 23,
     "metadata": {},
     "output_type": "execute_result"
    }
   ],
   "source": [
    "dataframe = pd.read_csv(\"./src_data/us_tornado_dataset_1950_2021.csv\")\n",
    "dataframe  # 以 DataFrame 形式返回整个 CSV 文件内容"
   ]
  },
  {
   "cell_type": "code",
   "execution_count": 24,
   "id": "ae794cef-4d9b-4cb5-af39-8e5efa698cdd",
   "metadata": {
    "scrolled": true
   },
   "outputs": [
    {
     "data": {
      "text/html": [
       "<div>\n",
       "<style scoped>\n",
       "    .dataframe tbody tr th:only-of-type {\n",
       "        vertical-align: middle;\n",
       "    }\n",
       "\n",
       "    .dataframe tbody tr th {\n",
       "        vertical-align: top;\n",
       "    }\n",
       "\n",
       "    .dataframe thead th {\n",
       "        text-align: right;\n",
       "    }\n",
       "</style>\n",
       "<table border=\"1\" class=\"dataframe\">\n",
       "  <thead>\n",
       "    <tr style=\"text-align: right;\">\n",
       "      <th></th>\n",
       "      <th>yr</th>\n",
       "      <th>mo</th>\n",
       "      <th>dy</th>\n",
       "      <th>date</th>\n",
       "      <th>st</th>\n",
       "      <th>mag</th>\n",
       "      <th>inj</th>\n",
       "      <th>fat</th>\n",
       "      <th>slat</th>\n",
       "      <th>slon</th>\n",
       "      <th>elat</th>\n",
       "      <th>elon</th>\n",
       "      <th>len</th>\n",
       "      <th>wid</th>\n",
       "    </tr>\n",
       "  </thead>\n",
       "  <tbody>\n",
       "    <tr>\n",
       "      <th>0</th>\n",
       "      <td>1950</td>\n",
       "      <td>1</td>\n",
       "      <td>3</td>\n",
       "      <td>1950-01-03</td>\n",
       "      <td>IL</td>\n",
       "      <td>3</td>\n",
       "      <td>3</td>\n",
       "      <td>0</td>\n",
       "      <td>39.10</td>\n",
       "      <td>-89.30</td>\n",
       "      <td>39.12</td>\n",
       "      <td>-89.23</td>\n",
       "      <td>3.6</td>\n",
       "      <td>130</td>\n",
       "    </tr>\n",
       "    <tr>\n",
       "      <th>1</th>\n",
       "      <td>1950</td>\n",
       "      <td>1</td>\n",
       "      <td>3</td>\n",
       "      <td>1950-01-03</td>\n",
       "      <td>MO</td>\n",
       "      <td>3</td>\n",
       "      <td>3</td>\n",
       "      <td>0</td>\n",
       "      <td>38.77</td>\n",
       "      <td>-90.22</td>\n",
       "      <td>38.83</td>\n",
       "      <td>-90.03</td>\n",
       "      <td>9.5</td>\n",
       "      <td>150</td>\n",
       "    </tr>\n",
       "    <tr>\n",
       "      <th>2</th>\n",
       "      <td>1950</td>\n",
       "      <td>1</td>\n",
       "      <td>3</td>\n",
       "      <td>1950-01-03</td>\n",
       "      <td>OH</td>\n",
       "      <td>1</td>\n",
       "      <td>1</td>\n",
       "      <td>0</td>\n",
       "      <td>40.88</td>\n",
       "      <td>-84.58</td>\n",
       "      <td>0.00</td>\n",
       "      <td>0.00</td>\n",
       "      <td>0.1</td>\n",
       "      <td>10</td>\n",
       "    </tr>\n",
       "    <tr>\n",
       "      <th>3</th>\n",
       "      <td>1950</td>\n",
       "      <td>1</td>\n",
       "      <td>13</td>\n",
       "      <td>1950-01-13</td>\n",
       "      <td>AR</td>\n",
       "      <td>3</td>\n",
       "      <td>1</td>\n",
       "      <td>1</td>\n",
       "      <td>34.40</td>\n",
       "      <td>-94.37</td>\n",
       "      <td>0.00</td>\n",
       "      <td>0.00</td>\n",
       "      <td>0.6</td>\n",
       "      <td>17</td>\n",
       "    </tr>\n",
       "    <tr>\n",
       "      <th>4</th>\n",
       "      <td>1950</td>\n",
       "      <td>1</td>\n",
       "      <td>25</td>\n",
       "      <td>1950-01-25</td>\n",
       "      <td>IL</td>\n",
       "      <td>2</td>\n",
       "      <td>0</td>\n",
       "      <td>0</td>\n",
       "      <td>41.17</td>\n",
       "      <td>-87.33</td>\n",
       "      <td>0.00</td>\n",
       "      <td>0.00</td>\n",
       "      <td>0.1</td>\n",
       "      <td>100</td>\n",
       "    </tr>\n",
       "  </tbody>\n",
       "</table>\n",
       "</div>"
      ],
      "text/plain": [
       "     yr  mo  dy        date  st  mag  inj  fat   slat   slon   elat   elon  \\\n",
       "0  1950   1   3  1950-01-03  IL    3    3    0  39.10 -89.30  39.12 -89.23   \n",
       "1  1950   1   3  1950-01-03  MO    3    3    0  38.77 -90.22  38.83 -90.03   \n",
       "2  1950   1   3  1950-01-03  OH    1    1    0  40.88 -84.58   0.00   0.00   \n",
       "3  1950   1  13  1950-01-13  AR    3    1    1  34.40 -94.37   0.00   0.00   \n",
       "4  1950   1  25  1950-01-25  IL    2    0    0  41.17 -87.33   0.00   0.00   \n",
       "\n",
       "   len  wid  \n",
       "0  3.6  130  \n",
       "1  9.5  150  \n",
       "2  0.1   10  \n",
       "3  0.6   17  \n",
       "4  0.1  100  "
      ]
     },
     "execution_count": 24,
     "metadata": {},
     "output_type": "execute_result"
    }
   ],
   "source": [
    "dataframe.head()  # 返回 DataFrame 的前 5 行信息"
   ]
  },
  {
   "cell_type": "code",
   "execution_count": 25,
   "id": "6ba3c326-d1b3-4bf9-829e-ea88b7789ad7",
   "metadata": {},
   "outputs": [
    {
     "data": {
      "text/html": [
       "<div>\n",
       "<style scoped>\n",
       "    .dataframe tbody tr th:only-of-type {\n",
       "        vertical-align: middle;\n",
       "    }\n",
       "\n",
       "    .dataframe tbody tr th {\n",
       "        vertical-align: top;\n",
       "    }\n",
       "\n",
       "    .dataframe thead th {\n",
       "        text-align: right;\n",
       "    }\n",
       "</style>\n",
       "<table border=\"1\" class=\"dataframe\">\n",
       "  <thead>\n",
       "    <tr style=\"text-align: right;\">\n",
       "      <th></th>\n",
       "      <th>yr</th>\n",
       "      <th>mo</th>\n",
       "      <th>dy</th>\n",
       "      <th>date</th>\n",
       "      <th>st</th>\n",
       "      <th>mag</th>\n",
       "      <th>inj</th>\n",
       "      <th>fat</th>\n",
       "      <th>slat</th>\n",
       "      <th>slon</th>\n",
       "      <th>elat</th>\n",
       "      <th>elon</th>\n",
       "      <th>len</th>\n",
       "    </tr>\n",
       "  </thead>\n",
       "  <tbody>\n",
       "    <tr>\n",
       "      <th>0</th>\n",
       "      <td>1950</td>\n",
       "      <td>1</td>\n",
       "      <td>3</td>\n",
       "      <td>1950-01-03</td>\n",
       "      <td>IL</td>\n",
       "      <td>3</td>\n",
       "      <td>3</td>\n",
       "      <td>0</td>\n",
       "      <td>39.1000</td>\n",
       "      <td>-89.3000</td>\n",
       "      <td>39.1200</td>\n",
       "      <td>-89.2300</td>\n",
       "      <td>3.60</td>\n",
       "    </tr>\n",
       "    <tr>\n",
       "      <th>1</th>\n",
       "      <td>1950</td>\n",
       "      <td>1</td>\n",
       "      <td>3</td>\n",
       "      <td>1950-01-03</td>\n",
       "      <td>MO</td>\n",
       "      <td>3</td>\n",
       "      <td>3</td>\n",
       "      <td>0</td>\n",
       "      <td>38.7700</td>\n",
       "      <td>-90.2200</td>\n",
       "      <td>38.8300</td>\n",
       "      <td>-90.0300</td>\n",
       "      <td>9.50</td>\n",
       "    </tr>\n",
       "    <tr>\n",
       "      <th>2</th>\n",
       "      <td>1950</td>\n",
       "      <td>1</td>\n",
       "      <td>3</td>\n",
       "      <td>1950-01-03</td>\n",
       "      <td>OH</td>\n",
       "      <td>1</td>\n",
       "      <td>1</td>\n",
       "      <td>0</td>\n",
       "      <td>40.8800</td>\n",
       "      <td>-84.5800</td>\n",
       "      <td>0.0000</td>\n",
       "      <td>0.0000</td>\n",
       "      <td>0.10</td>\n",
       "    </tr>\n",
       "    <tr>\n",
       "      <th>3</th>\n",
       "      <td>1950</td>\n",
       "      <td>1</td>\n",
       "      <td>13</td>\n",
       "      <td>1950-01-13</td>\n",
       "      <td>AR</td>\n",
       "      <td>3</td>\n",
       "      <td>1</td>\n",
       "      <td>1</td>\n",
       "      <td>34.4000</td>\n",
       "      <td>-94.3700</td>\n",
       "      <td>0.0000</td>\n",
       "      <td>0.0000</td>\n",
       "      <td>0.60</td>\n",
       "    </tr>\n",
       "    <tr>\n",
       "      <th>4</th>\n",
       "      <td>1950</td>\n",
       "      <td>1</td>\n",
       "      <td>25</td>\n",
       "      <td>1950-01-25</td>\n",
       "      <td>IL</td>\n",
       "      <td>2</td>\n",
       "      <td>0</td>\n",
       "      <td>0</td>\n",
       "      <td>41.1700</td>\n",
       "      <td>-87.3300</td>\n",
       "      <td>0.0000</td>\n",
       "      <td>0.0000</td>\n",
       "      <td>0.10</td>\n",
       "    </tr>\n",
       "    <tr>\n",
       "      <th>...</th>\n",
       "      <td>...</td>\n",
       "      <td>...</td>\n",
       "      <td>...</td>\n",
       "      <td>...</td>\n",
       "      <td>...</td>\n",
       "      <td>...</td>\n",
       "      <td>...</td>\n",
       "      <td>...</td>\n",
       "      <td>...</td>\n",
       "      <td>...</td>\n",
       "      <td>...</td>\n",
       "      <td>...</td>\n",
       "      <td>...</td>\n",
       "    </tr>\n",
       "    <tr>\n",
       "      <th>67553</th>\n",
       "      <td>2021</td>\n",
       "      <td>12</td>\n",
       "      <td>30</td>\n",
       "      <td>2021-12-30</td>\n",
       "      <td>GA</td>\n",
       "      <td>1</td>\n",
       "      <td>0</td>\n",
       "      <td>0</td>\n",
       "      <td>31.1703</td>\n",
       "      <td>-83.3804</td>\n",
       "      <td>31.1805</td>\n",
       "      <td>-83.3453</td>\n",
       "      <td>2.19</td>\n",
       "    </tr>\n",
       "    <tr>\n",
       "      <th>67554</th>\n",
       "      <td>2021</td>\n",
       "      <td>12</td>\n",
       "      <td>30</td>\n",
       "      <td>2021-12-30</td>\n",
       "      <td>GA</td>\n",
       "      <td>1</td>\n",
       "      <td>0</td>\n",
       "      <td>0</td>\n",
       "      <td>31.6900</td>\n",
       "      <td>-82.7300</td>\n",
       "      <td>31.7439</td>\n",
       "      <td>-82.5412</td>\n",
       "      <td>11.71</td>\n",
       "    </tr>\n",
       "    <tr>\n",
       "      <th>67555</th>\n",
       "      <td>2021</td>\n",
       "      <td>12</td>\n",
       "      <td>31</td>\n",
       "      <td>2021-12-31</td>\n",
       "      <td>AL</td>\n",
       "      <td>1</td>\n",
       "      <td>0</td>\n",
       "      <td>0</td>\n",
       "      <td>34.2875</td>\n",
       "      <td>-85.7878</td>\n",
       "      <td>34.2998</td>\n",
       "      <td>-85.7805</td>\n",
       "      <td>0.95</td>\n",
       "    </tr>\n",
       "    <tr>\n",
       "      <th>67556</th>\n",
       "      <td>2021</td>\n",
       "      <td>12</td>\n",
       "      <td>31</td>\n",
       "      <td>2021-12-31</td>\n",
       "      <td>GA</td>\n",
       "      <td>1</td>\n",
       "      <td>0</td>\n",
       "      <td>0</td>\n",
       "      <td>33.7372</td>\n",
       "      <td>-84.9998</td>\n",
       "      <td>33.7625</td>\n",
       "      <td>-84.9633</td>\n",
       "      <td>2.75</td>\n",
       "    </tr>\n",
       "    <tr>\n",
       "      <th>67557</th>\n",
       "      <td>2021</td>\n",
       "      <td>12</td>\n",
       "      <td>31</td>\n",
       "      <td>2021-12-31</td>\n",
       "      <td>GA</td>\n",
       "      <td>1</td>\n",
       "      <td>6</td>\n",
       "      <td>0</td>\n",
       "      <td>33.5676</td>\n",
       "      <td>-83.9877</td>\n",
       "      <td>33.5842</td>\n",
       "      <td>-83.9498</td>\n",
       "      <td>2.50</td>\n",
       "    </tr>\n",
       "  </tbody>\n",
       "</table>\n",
       "<p>67558 rows × 13 columns</p>\n",
       "</div>"
      ],
      "text/plain": [
       "         yr  mo  dy        date  st  mag  inj  fat     slat     slon     elat  \\\n",
       "0      1950   1   3  1950-01-03  IL    3    3    0  39.1000 -89.3000  39.1200   \n",
       "1      1950   1   3  1950-01-03  MO    3    3    0  38.7700 -90.2200  38.8300   \n",
       "2      1950   1   3  1950-01-03  OH    1    1    0  40.8800 -84.5800   0.0000   \n",
       "3      1950   1  13  1950-01-13  AR    3    1    1  34.4000 -94.3700   0.0000   \n",
       "4      1950   1  25  1950-01-25  IL    2    0    0  41.1700 -87.3300   0.0000   \n",
       "...     ...  ..  ..         ...  ..  ...  ...  ...      ...      ...      ...   \n",
       "67553  2021  12  30  2021-12-30  GA    1    0    0  31.1703 -83.3804  31.1805   \n",
       "67554  2021  12  30  2021-12-30  GA    1    0    0  31.6900 -82.7300  31.7439   \n",
       "67555  2021  12  31  2021-12-31  AL    1    0    0  34.2875 -85.7878  34.2998   \n",
       "67556  2021  12  31  2021-12-31  GA    1    0    0  33.7372 -84.9998  33.7625   \n",
       "67557  2021  12  31  2021-12-31  GA    1    6    0  33.5676 -83.9877  33.5842   \n",
       "\n",
       "          elon    len  \n",
       "0     -89.2300   3.60  \n",
       "1     -90.0300   9.50  \n",
       "2       0.0000   0.10  \n",
       "3       0.0000   0.60  \n",
       "4       0.0000   0.10  \n",
       "...        ...    ...  \n",
       "67553 -83.3453   2.19  \n",
       "67554 -82.5412  11.71  \n",
       "67555 -85.7805   0.95  \n",
       "67556 -84.9633   2.75  \n",
       "67557 -83.9498   2.50  \n",
       "\n",
       "[67558 rows x 13 columns]"
      ]
     },
     "execution_count": 25,
     "metadata": {},
     "output_type": "execute_result"
    }
   ],
   "source": [
    "another_dataframe = dataframe.iloc[:,:-1]  # 支持 NumPy 数组切片\n",
    "another_dataframe"
   ]
  },
  {
   "cell_type": "code",
   "execution_count": 26,
   "id": "7fd49b09-1eae-48e6-82cd-8c3c825e8f7f",
   "metadata": {},
   "outputs": [
    {
     "data": {
      "text/plain": [
       "array([[1950, 1, 3, ..., -89.23, 3.6, 130],\n",
       "       [1950, 1, 3, ..., -90.03, 9.5, 150],\n",
       "       [1950, 1, 3, ..., 0.0, 0.1, 10],\n",
       "       ...,\n",
       "       [2021, 12, 31, ..., -85.7805, 0.95, 50],\n",
       "       [2021, 12, 31, ..., -84.9633, 2.75, 150],\n",
       "       [2021, 12, 31, ..., -83.9498, 2.5, 75]], dtype=object)"
      ]
     },
     "execution_count": 26,
     "metadata": {},
     "output_type": "execute_result"
    }
   ],
   "source": [
    "dataframe.values  # 访问 DataFrame 数据结构"
   ]
  },
  {
   "cell_type": "markdown",
   "id": "a608a268-d14c-41b8-94c0-f1b5ada854af",
   "metadata": {},
   "source": [
    "利用索引进行输出"
   ]
  },
  {
   "cell_type": "code",
   "execution_count": 27,
   "id": "b315e5e5-a0ce-4066-ab2a-9bfa32be72d6",
   "metadata": {},
   "outputs": [
    {
     "data": {
      "text/html": [
       "<div>\n",
       "<style scoped>\n",
       "    .dataframe tbody tr th:only-of-type {\n",
       "        vertical-align: middle;\n",
       "    }\n",
       "\n",
       "    .dataframe tbody tr th {\n",
       "        vertical-align: top;\n",
       "    }\n",
       "\n",
       "    .dataframe thead th {\n",
       "        text-align: right;\n",
       "    }\n",
       "</style>\n",
       "<table border=\"1\" class=\"dataframe\">\n",
       "  <thead>\n",
       "    <tr style=\"text-align: right;\">\n",
       "      <th></th>\n",
       "      <th>yr</th>\n",
       "      <th>mo</th>\n",
       "      <th>dy</th>\n",
       "      <th>date</th>\n",
       "      <th>st</th>\n",
       "      <th>inj</th>\n",
       "      <th>fat</th>\n",
       "      <th>slat</th>\n",
       "      <th>slon</th>\n",
       "      <th>elat</th>\n",
       "      <th>elon</th>\n",
       "      <th>len</th>\n",
       "      <th>wid</th>\n",
       "    </tr>\n",
       "  </thead>\n",
       "  <tbody>\n",
       "    <tr>\n",
       "      <th>0</th>\n",
       "      <td>1950</td>\n",
       "      <td>1</td>\n",
       "      <td>3</td>\n",
       "      <td>1950-01-03</td>\n",
       "      <td>IL</td>\n",
       "      <td>3</td>\n",
       "      <td>0</td>\n",
       "      <td>39.1000</td>\n",
       "      <td>-89.3000</td>\n",
       "      <td>39.1200</td>\n",
       "      <td>-89.2300</td>\n",
       "      <td>3.60</td>\n",
       "      <td>130</td>\n",
       "    </tr>\n",
       "    <tr>\n",
       "      <th>1</th>\n",
       "      <td>1950</td>\n",
       "      <td>1</td>\n",
       "      <td>3</td>\n",
       "      <td>1950-01-03</td>\n",
       "      <td>MO</td>\n",
       "      <td>3</td>\n",
       "      <td>0</td>\n",
       "      <td>38.7700</td>\n",
       "      <td>-90.2200</td>\n",
       "      <td>38.8300</td>\n",
       "      <td>-90.0300</td>\n",
       "      <td>9.50</td>\n",
       "      <td>150</td>\n",
       "    </tr>\n",
       "    <tr>\n",
       "      <th>2</th>\n",
       "      <td>1950</td>\n",
       "      <td>1</td>\n",
       "      <td>3</td>\n",
       "      <td>1950-01-03</td>\n",
       "      <td>OH</td>\n",
       "      <td>1</td>\n",
       "      <td>0</td>\n",
       "      <td>40.8800</td>\n",
       "      <td>-84.5800</td>\n",
       "      <td>0.0000</td>\n",
       "      <td>0.0000</td>\n",
       "      <td>0.10</td>\n",
       "      <td>10</td>\n",
       "    </tr>\n",
       "    <tr>\n",
       "      <th>3</th>\n",
       "      <td>1950</td>\n",
       "      <td>1</td>\n",
       "      <td>13</td>\n",
       "      <td>1950-01-13</td>\n",
       "      <td>AR</td>\n",
       "      <td>1</td>\n",
       "      <td>1</td>\n",
       "      <td>34.4000</td>\n",
       "      <td>-94.3700</td>\n",
       "      <td>0.0000</td>\n",
       "      <td>0.0000</td>\n",
       "      <td>0.60</td>\n",
       "      <td>17</td>\n",
       "    </tr>\n",
       "    <tr>\n",
       "      <th>4</th>\n",
       "      <td>1950</td>\n",
       "      <td>1</td>\n",
       "      <td>25</td>\n",
       "      <td>1950-01-25</td>\n",
       "      <td>IL</td>\n",
       "      <td>0</td>\n",
       "      <td>0</td>\n",
       "      <td>41.1700</td>\n",
       "      <td>-87.3300</td>\n",
       "      <td>0.0000</td>\n",
       "      <td>0.0000</td>\n",
       "      <td>0.10</td>\n",
       "      <td>100</td>\n",
       "    </tr>\n",
       "    <tr>\n",
       "      <th>...</th>\n",
       "      <td>...</td>\n",
       "      <td>...</td>\n",
       "      <td>...</td>\n",
       "      <td>...</td>\n",
       "      <td>...</td>\n",
       "      <td>...</td>\n",
       "      <td>...</td>\n",
       "      <td>...</td>\n",
       "      <td>...</td>\n",
       "      <td>...</td>\n",
       "      <td>...</td>\n",
       "      <td>...</td>\n",
       "      <td>...</td>\n",
       "    </tr>\n",
       "    <tr>\n",
       "      <th>67553</th>\n",
       "      <td>2021</td>\n",
       "      <td>12</td>\n",
       "      <td>30</td>\n",
       "      <td>2021-12-30</td>\n",
       "      <td>GA</td>\n",
       "      <td>0</td>\n",
       "      <td>0</td>\n",
       "      <td>31.1703</td>\n",
       "      <td>-83.3804</td>\n",
       "      <td>31.1805</td>\n",
       "      <td>-83.3453</td>\n",
       "      <td>2.19</td>\n",
       "      <td>150</td>\n",
       "    </tr>\n",
       "    <tr>\n",
       "      <th>67554</th>\n",
       "      <td>2021</td>\n",
       "      <td>12</td>\n",
       "      <td>30</td>\n",
       "      <td>2021-12-30</td>\n",
       "      <td>GA</td>\n",
       "      <td>0</td>\n",
       "      <td>0</td>\n",
       "      <td>31.6900</td>\n",
       "      <td>-82.7300</td>\n",
       "      <td>31.7439</td>\n",
       "      <td>-82.5412</td>\n",
       "      <td>11.71</td>\n",
       "      <td>300</td>\n",
       "    </tr>\n",
       "    <tr>\n",
       "      <th>67555</th>\n",
       "      <td>2021</td>\n",
       "      <td>12</td>\n",
       "      <td>31</td>\n",
       "      <td>2021-12-31</td>\n",
       "      <td>AL</td>\n",
       "      <td>0</td>\n",
       "      <td>0</td>\n",
       "      <td>34.2875</td>\n",
       "      <td>-85.7878</td>\n",
       "      <td>34.2998</td>\n",
       "      <td>-85.7805</td>\n",
       "      <td>0.95</td>\n",
       "      <td>50</td>\n",
       "    </tr>\n",
       "    <tr>\n",
       "      <th>67556</th>\n",
       "      <td>2021</td>\n",
       "      <td>12</td>\n",
       "      <td>31</td>\n",
       "      <td>2021-12-31</td>\n",
       "      <td>GA</td>\n",
       "      <td>0</td>\n",
       "      <td>0</td>\n",
       "      <td>33.7372</td>\n",
       "      <td>-84.9998</td>\n",
       "      <td>33.7625</td>\n",
       "      <td>-84.9633</td>\n",
       "      <td>2.75</td>\n",
       "      <td>150</td>\n",
       "    </tr>\n",
       "    <tr>\n",
       "      <th>67557</th>\n",
       "      <td>2021</td>\n",
       "      <td>12</td>\n",
       "      <td>31</td>\n",
       "      <td>2021-12-31</td>\n",
       "      <td>GA</td>\n",
       "      <td>6</td>\n",
       "      <td>0</td>\n",
       "      <td>33.5676</td>\n",
       "      <td>-83.9877</td>\n",
       "      <td>33.5842</td>\n",
       "      <td>-83.9498</td>\n",
       "      <td>2.50</td>\n",
       "      <td>75</td>\n",
       "    </tr>\n",
       "  </tbody>\n",
       "</table>\n",
       "<p>67558 rows × 13 columns</p>\n",
       "</div>"
      ],
      "text/plain": [
       "         yr  mo  dy        date  st  inj  fat     slat     slon     elat  \\\n",
       "0      1950   1   3  1950-01-03  IL    3    0  39.1000 -89.3000  39.1200   \n",
       "1      1950   1   3  1950-01-03  MO    3    0  38.7700 -90.2200  38.8300   \n",
       "2      1950   1   3  1950-01-03  OH    1    0  40.8800 -84.5800   0.0000   \n",
       "3      1950   1  13  1950-01-13  AR    1    1  34.4000 -94.3700   0.0000   \n",
       "4      1950   1  25  1950-01-25  IL    0    0  41.1700 -87.3300   0.0000   \n",
       "...     ...  ..  ..         ...  ..  ...  ...      ...      ...      ...   \n",
       "67553  2021  12  30  2021-12-30  GA    0    0  31.1703 -83.3804  31.1805   \n",
       "67554  2021  12  30  2021-12-30  GA    0    0  31.6900 -82.7300  31.7439   \n",
       "67555  2021  12  31  2021-12-31  AL    0    0  34.2875 -85.7878  34.2998   \n",
       "67556  2021  12  31  2021-12-31  GA    0    0  33.7372 -84.9998  33.7625   \n",
       "67557  2021  12  31  2021-12-31  GA    6    0  33.5676 -83.9877  33.5842   \n",
       "\n",
       "          elon    len  wid  \n",
       "0     -89.2300   3.60  130  \n",
       "1     -90.0300   9.50  150  \n",
       "2       0.0000   0.10   10  \n",
       "3       0.0000   0.60   17  \n",
       "4       0.0000   0.10  100  \n",
       "...        ...    ...  ...  \n",
       "67553 -83.3453   2.19  150  \n",
       "67554 -82.5412  11.71  300  \n",
       "67555 -85.7805   0.95   50  \n",
       "67556 -84.9633   2.75  150  \n",
       "67557 -83.9498   2.50   75  \n",
       "\n",
       "[67558 rows x 13 columns]"
      ]
     },
     "execution_count": 27,
     "metadata": {},
     "output_type": "execute_result"
    }
   ],
   "source": [
    "x = dataframe.drop(\"mag\", axis=1)  # 排除 mag 索引的列\n",
    "x  # 打印 x 的行与列"
   ]
  },
  {
   "cell_type": "code",
   "execution_count": 28,
   "id": "69f5a5da-e5d3-4e3a-8633-c8dc087e4c0c",
   "metadata": {},
   "outputs": [
    {
     "data": {
      "text/plain": [
       "0        3\n",
       "1        3\n",
       "2        1\n",
       "3        3\n",
       "4        2\n",
       "        ..\n",
       "67553    1\n",
       "67554    1\n",
       "67555    1\n",
       "67556    1\n",
       "67557    1\n",
       "Name: mag, Length: 67558, dtype: int64"
      ]
     },
     "execution_count": 28,
     "metadata": {},
     "output_type": "execute_result"
    }
   ],
   "source": [
    "y = dataframe.mag  # 仅输出 mag 索引的列\n",
    "y  # 打印 y 的行与列（此处仅含有 1 列）"
   ]
  },
  {
   "cell_type": "markdown",
   "id": "d0d3c8ce-f9f1-4a7d-b5c8-f2cfa10057e4",
   "metadata": {},
   "source": [
    "使用条件表达式索引、count() 方法与 sum() 方法"
   ]
  },
  {
   "cell_type": "code",
   "execution_count": 29,
   "id": "6313cfb4-a352-47e7-9236-f70e386b3e5b",
   "metadata": {},
   "outputs": [
    {
     "data": {
      "text/plain": [
       "0        False\n",
       "1        False\n",
       "2         True\n",
       "3        False\n",
       "4        False\n",
       "         ...  \n",
       "67553     True\n",
       "67554     True\n",
       "67555     True\n",
       "67556     True\n",
       "67557     True\n",
       "Name: mag, Length: 67558, dtype: bool"
      ]
     },
     "execution_count": 29,
     "metadata": {},
     "output_type": "execute_result"
    }
   ],
   "source": [
    "y == 1"
   ]
  },
  {
   "cell_type": "code",
   "execution_count": 30,
   "id": "6c185a96-7b8e-4864-9a64-24845ab96d8b",
   "metadata": {},
   "outputs": [
    {
     "data": {
      "text/plain": [
       "22885"
      ]
     },
     "execution_count": 30,
     "metadata": {},
     "output_type": "execute_result"
    }
   ],
   "source": [
    "y[y == 1].count()  # 过滤 DataFrame：count() 方法统计输出值为 1 的个数"
   ]
  },
  {
   "cell_type": "code",
   "execution_count": 31,
   "id": "704b9f8b-73ab-4fa3-9ed9-073615efbd46",
   "metadata": {},
   "outputs": [
    {
     "data": {
      "text/plain": [
       "22885"
      ]
     },
     "execution_count": 31,
     "metadata": {},
     "output_type": "execute_result"
    }
   ],
   "source": [
    "(y == 1).sum()  # 不过滤 DataFrame：sum() 方法统计输出值为 1 的个数"
   ]
  },
  {
   "cell_type": "markdown",
   "id": "7e794024-032b-4b9c-ac63-3f2099319c63",
   "metadata": {},
   "source": [
    "利用 `corr()` 方法计算每一列之间的皮尔森相关系数"
   ]
  },
  {
   "cell_type": "code",
   "execution_count": 36,
   "id": "d6a14512-75fb-4e80-97c8-640efddeb241",
   "metadata": {},
   "outputs": [],
   "source": [
    "corrM = dataframe[[\"inj\",\"fat\",\"slat\",\"slon\",\"elat\",\"elon\",\"len\"]].corr()"
   ]
  },
  {
   "cell_type": "code",
   "execution_count": 37,
   "id": "02f4a34a-c116-4a4b-b823-fb35b9fe72a1",
   "metadata": {},
   "outputs": [
    {
     "data": {
      "text/html": [
       "<style type=\"text/css\">\n",
       "#T_9bc9c_row0_col0, #T_9bc9c_row1_col1, #T_9bc9c_row2_col2, #T_9bc9c_row3_col3, #T_9bc9c_row4_col4, #T_9bc9c_row5_col5, #T_9bc9c_row6_col6 {\n",
       "  background-color: #023858;\n",
       "  color: #f1f1f1;\n",
       "}\n",
       "#T_9bc9c_row0_col1, #T_9bc9c_row1_col0 {\n",
       "  background-color: #056caa;\n",
       "  color: #f1f1f1;\n",
       "}\n",
       "#T_9bc9c_row0_col2, #T_9bc9c_row1_col2 {\n",
       "  background-color: #e9e5f1;\n",
       "  color: #000000;\n",
       "}\n",
       "#T_9bc9c_row0_col3 {\n",
       "  background-color: #e1dfed;\n",
       "  color: #000000;\n",
       "}\n",
       "#T_9bc9c_row0_col4, #T_9bc9c_row1_col4, #T_9bc9c_row3_col4 {\n",
       "  background-color: #6da6cd;\n",
       "  color: #f1f1f1;\n",
       "}\n",
       "#T_9bc9c_row0_col5, #T_9bc9c_row1_col5 {\n",
       "  background-color: #7eadd1;\n",
       "  color: #f1f1f1;\n",
       "}\n",
       "#T_9bc9c_row0_col6 {\n",
       "  background-color: #96b6d7;\n",
       "  color: #000000;\n",
       "}\n",
       "#T_9bc9c_row1_col3 {\n",
       "  background-color: #e3e0ee;\n",
       "  color: #000000;\n",
       "}\n",
       "#T_9bc9c_row1_col6 {\n",
       "  background-color: #9cb9d9;\n",
       "  color: #000000;\n",
       "}\n",
       "#T_9bc9c_row2_col0 {\n",
       "  background-color: #fbf3f9;\n",
       "  color: #000000;\n",
       "}\n",
       "#T_9bc9c_row2_col1 {\n",
       "  background-color: #fbf4f9;\n",
       "  color: #000000;\n",
       "}\n",
       "#T_9bc9c_row2_col3, #T_9bc9c_row3_col2, #T_9bc9c_row4_col5, #T_9bc9c_row5_col0, #T_9bc9c_row5_col1, #T_9bc9c_row5_col4, #T_9bc9c_row5_col6 {\n",
       "  background-color: #fff7fb;\n",
       "  color: #000000;\n",
       "}\n",
       "#T_9bc9c_row2_col4 {\n",
       "  background-color: #4a98c5;\n",
       "  color: #f1f1f1;\n",
       "}\n",
       "#T_9bc9c_row2_col5 {\n",
       "  background-color: #80aed2;\n",
       "  color: #f1f1f1;\n",
       "}\n",
       "#T_9bc9c_row2_col6 {\n",
       "  background-color: #d9d8ea;\n",
       "  color: #000000;\n",
       "}\n",
       "#T_9bc9c_row3_col0 {\n",
       "  background-color: #f5eef6;\n",
       "  color: #000000;\n",
       "}\n",
       "#T_9bc9c_row3_col1 {\n",
       "  background-color: #f7f0f7;\n",
       "  color: #000000;\n",
       "}\n",
       "#T_9bc9c_row3_col5 {\n",
       "  background-color: #6ba5cd;\n",
       "  color: #f1f1f1;\n",
       "}\n",
       "#T_9bc9c_row3_col6 {\n",
       "  background-color: #ced0e6;\n",
       "  color: #000000;\n",
       "}\n",
       "#T_9bc9c_row4_col0 {\n",
       "  background-color: #f3edf5;\n",
       "  color: #000000;\n",
       "}\n",
       "#T_9bc9c_row4_col1 {\n",
       "  background-color: #f4eef6;\n",
       "  color: #000000;\n",
       "}\n",
       "#T_9bc9c_row4_col2 {\n",
       "  background-color: #bfc9e1;\n",
       "  color: #000000;\n",
       "}\n",
       "#T_9bc9c_row4_col3 {\n",
       "  background-color: #e0dded;\n",
       "  color: #000000;\n",
       "}\n",
       "#T_9bc9c_row4_col6 {\n",
       "  background-color: #8fb4d6;\n",
       "  color: #000000;\n",
       "}\n",
       "#T_9bc9c_row5_col2 {\n",
       "  background-color: #eee9f3;\n",
       "  color: #000000;\n",
       "}\n",
       "#T_9bc9c_row5_col3 {\n",
       "  background-color: #dfddec;\n",
       "  color: #000000;\n",
       "}\n",
       "#T_9bc9c_row6_col0 {\n",
       "  background-color: #c4cbe3;\n",
       "  color: #000000;\n",
       "}\n",
       "#T_9bc9c_row6_col1 {\n",
       "  background-color: #cccfe5;\n",
       "  color: #000000;\n",
       "}\n",
       "#T_9bc9c_row6_col2 {\n",
       "  background-color: #e7e3f0;\n",
       "  color: #000000;\n",
       "}\n",
       "#T_9bc9c_row6_col3 {\n",
       "  background-color: #dddbec;\n",
       "  color: #000000;\n",
       "}\n",
       "#T_9bc9c_row6_col4 {\n",
       "  background-color: #328dbf;\n",
       "  color: #f1f1f1;\n",
       "}\n",
       "#T_9bc9c_row6_col5 {\n",
       "  background-color: #adc1dd;\n",
       "  color: #000000;\n",
       "}\n",
       "</style>\n",
       "<table id=\"T_9bc9c\">\n",
       "  <thead>\n",
       "    <tr>\n",
       "      <th class=\"blank level0\" >&nbsp;</th>\n",
       "      <th id=\"T_9bc9c_level0_col0\" class=\"col_heading level0 col0\" >inj</th>\n",
       "      <th id=\"T_9bc9c_level0_col1\" class=\"col_heading level0 col1\" >fat</th>\n",
       "      <th id=\"T_9bc9c_level0_col2\" class=\"col_heading level0 col2\" >slat</th>\n",
       "      <th id=\"T_9bc9c_level0_col3\" class=\"col_heading level0 col3\" >slon</th>\n",
       "      <th id=\"T_9bc9c_level0_col4\" class=\"col_heading level0 col4\" >elat</th>\n",
       "      <th id=\"T_9bc9c_level0_col5\" class=\"col_heading level0 col5\" >elon</th>\n",
       "      <th id=\"T_9bc9c_level0_col6\" class=\"col_heading level0 col6\" >len</th>\n",
       "    </tr>\n",
       "  </thead>\n",
       "  <tbody>\n",
       "    <tr>\n",
       "      <th id=\"T_9bc9c_level0_row0\" class=\"row_heading level0 row0\" >inj</th>\n",
       "      <td id=\"T_9bc9c_row0_col0\" class=\"data row0 col0\" >1.000</td>\n",
       "      <td id=\"T_9bc9c_row0_col1\" class=\"data row0 col1\" >0.762</td>\n",
       "      <td id=\"T_9bc9c_row0_col2\" class=\"data row0 col2\" >-0.011</td>\n",
       "      <td id=\"T_9bc9c_row0_col3\" class=\"data row0 col3\" >0.032</td>\n",
       "      <td id=\"T_9bc9c_row0_col4\" class=\"data row0 col4\" >0.043</td>\n",
       "      <td id=\"T_9bc9c_row0_col5\" class=\"data row0 col5\" >-0.040</td>\n",
       "      <td id=\"T_9bc9c_row0_col6\" class=\"data row0 col6\" >0.257</td>\n",
       "    </tr>\n",
       "    <tr>\n",
       "      <th id=\"T_9bc9c_level0_row1\" class=\"row_heading level0 row1\" >fat</th>\n",
       "      <td id=\"T_9bc9c_row1_col0\" class=\"data row1 col0\" >0.762</td>\n",
       "      <td id=\"T_9bc9c_row1_col1\" class=\"data row1 col1\" >1.000</td>\n",
       "      <td id=\"T_9bc9c_row1_col2\" class=\"data row1 col2\" >-0.011</td>\n",
       "      <td id=\"T_9bc9c_row1_col3\" class=\"data row1 col3\" >0.022</td>\n",
       "      <td id=\"T_9bc9c_row1_col4\" class=\"data row1 col4\" >0.037</td>\n",
       "      <td id=\"T_9bc9c_row1_col5\" class=\"data row1 col5\" >-0.036</td>\n",
       "      <td id=\"T_9bc9c_row1_col6\" class=\"data row1 col6\" >0.238</td>\n",
       "    </tr>\n",
       "    <tr>\n",
       "      <th id=\"T_9bc9c_level0_row2\" class=\"row_heading level0 row2\" >slat</th>\n",
       "      <td id=\"T_9bc9c_row2_col0\" class=\"data row2 col0\" >-0.011</td>\n",
       "      <td id=\"T_9bc9c_row2_col1\" class=\"data row2 col1\" >-0.011</td>\n",
       "      <td id=\"T_9bc9c_row2_col2\" class=\"data row2 col2\" >1.000</td>\n",
       "      <td id=\"T_9bc9c_row2_col3\" class=\"data row2 col3\" >-0.173</td>\n",
       "      <td id=\"T_9bc9c_row2_col4\" class=\"data row2 col4\" >0.182</td>\n",
       "      <td id=\"T_9bc9c_row2_col5\" class=\"data row2 col5\" >-0.044</td>\n",
       "      <td id=\"T_9bc9c_row2_col6\" class=\"data row2 col6\" >-0.002</td>\n",
       "    </tr>\n",
       "    <tr>\n",
       "      <th id=\"T_9bc9c_level0_row3\" class=\"row_heading level0 row3\" >slon</th>\n",
       "      <td id=\"T_9bc9c_row3_col0\" class=\"data row3 col0\" >0.032</td>\n",
       "      <td id=\"T_9bc9c_row3_col1\" class=\"data row3 col1\" >0.022</td>\n",
       "      <td id=\"T_9bc9c_row3_col2\" class=\"data row3 col2\" >-0.173</td>\n",
       "      <td id=\"T_9bc9c_row3_col3\" class=\"data row3 col3\" >1.000</td>\n",
       "      <td id=\"T_9bc9c_row3_col4\" class=\"data row3 col4\" >0.040</td>\n",
       "      <td id=\"T_9bc9c_row3_col5\" class=\"data row3 col5\" >0.045</td>\n",
       "      <td id=\"T_9bc9c_row3_col6\" class=\"data row3 col6\" >0.052</td>\n",
       "    </tr>\n",
       "    <tr>\n",
       "      <th id=\"T_9bc9c_level0_row4\" class=\"row_heading level0 row4\" >elat</th>\n",
       "      <td id=\"T_9bc9c_row4_col0\" class=\"data row4 col0\" >0.043</td>\n",
       "      <td id=\"T_9bc9c_row4_col1\" class=\"data row4 col1\" >0.037</td>\n",
       "      <td id=\"T_9bc9c_row4_col2\" class=\"data row4 col2\" >0.182</td>\n",
       "      <td id=\"T_9bc9c_row4_col3\" class=\"data row4 col3\" >0.040</td>\n",
       "      <td id=\"T_9bc9c_row4_col4\" class=\"data row4 col4\" >1.000</td>\n",
       "      <td id=\"T_9bc9c_row4_col5\" class=\"data row4 col5\" >-0.973</td>\n",
       "      <td id=\"T_9bc9c_row4_col6\" class=\"data row4 col6\" >0.277</td>\n",
       "    </tr>\n",
       "    <tr>\n",
       "      <th id=\"T_9bc9c_level0_row5\" class=\"row_heading level0 row5\" >elon</th>\n",
       "      <td id=\"T_9bc9c_row5_col0\" class=\"data row5 col0\" >-0.040</td>\n",
       "      <td id=\"T_9bc9c_row5_col1\" class=\"data row5 col1\" >-0.036</td>\n",
       "      <td id=\"T_9bc9c_row5_col2\" class=\"data row5 col2\" >-0.044</td>\n",
       "      <td id=\"T_9bc9c_row5_col3\" class=\"data row5 col3\" >0.045</td>\n",
       "      <td id=\"T_9bc9c_row5_col4\" class=\"data row5 col4\" >-0.973</td>\n",
       "      <td id=\"T_9bc9c_row5_col5\" class=\"data row5 col5\" >1.000</td>\n",
       "      <td id=\"T_9bc9c_row5_col6\" class=\"data row5 col6\" >-0.272</td>\n",
       "    </tr>\n",
       "    <tr>\n",
       "      <th id=\"T_9bc9c_level0_row6\" class=\"row_heading level0 row6\" >len</th>\n",
       "      <td id=\"T_9bc9c_row6_col0\" class=\"data row6 col0\" >0.257</td>\n",
       "      <td id=\"T_9bc9c_row6_col1\" class=\"data row6 col1\" >0.238</td>\n",
       "      <td id=\"T_9bc9c_row6_col2\" class=\"data row6 col2\" >-0.002</td>\n",
       "      <td id=\"T_9bc9c_row6_col3\" class=\"data row6 col3\" >0.052</td>\n",
       "      <td id=\"T_9bc9c_row6_col4\" class=\"data row6 col4\" >0.277</td>\n",
       "      <td id=\"T_9bc9c_row6_col5\" class=\"data row6 col5\" >-0.272</td>\n",
       "      <td id=\"T_9bc9c_row6_col6\" class=\"data row6 col6\" >1.000</td>\n",
       "    </tr>\n",
       "  </tbody>\n",
       "</table>\n"
      ],
      "text/plain": [
       "<pandas.io.formats.style.Styler at 0x1ce723894c0>"
      ]
     },
     "execution_count": 37,
     "metadata": {},
     "output_type": "execute_result"
    }
   ],
   "source": [
    "corrM.style.background_gradient().format(precision=3)"
   ]
  },
  {
   "cell_type": "markdown",
   "id": "f74cef8c-a5b4-4cac-82b0-92e944d4d32e",
   "metadata": {},
   "source": [
    "**附注：**\n",
    "\n",
    "皮尔森相关系数（Pearson correlation coefficient），又称皮尔森积矩相关系数，是用来衡量两个变量之间线性相关程度的统计量。它的定义是基于两个变量的协方差和它们各自的标准差。皮尔森相关系数的值范围从 -1 到 1：\n",
    "\n",
    "- 当相关系数接近 1 时，表示两个变量之间存在强正相关关系，即一个变量的值增加时，另一个变量的值也倾向于增加。\n",
    "- 当相关系数接近 -1 时，表示两个变量之间存在强负相关关系，即一个变量的值增加时，另一个变量的值倾向于减少。\n",
    "- 当相关系数接近 0 时，表示两个变量之间没有线性相关关系。\n",
    "\n",
    "皮尔森相关系数的计算公式为：\n",
    "$$r = \\frac{\\sum_{i=1}^{n} (X_i - \\bar{X})(Y_i - \\bar{Y})}{\\sqrt{\\sum_{i=1}^{n} (X_i - \\bar{X})^2} \\sqrt{\\sum_{i=1}^{n} (Y_i - \\bar{Y})^2}}$$\n",
    "其中：\n",
    "- $r$ 是皮尔森相关系数。\n",
    "- $X_i$ 和 $Y_i$ 是两个变量的观测值。\n",
    "- $\\bar{X}$ 和 $\\bar{Y}$ 是两个变量的样本均值。\n",
    "- $n$ 是观测值的数量。\n",
    "\n",
    "皮尔森相关系数广泛应用于社会科学、自然科学等领域，用于研究变量之间的关系。然而，它只能衡量线性关系的强度，对于非线性关系，皮尔森相关系数可能无法准确反映变量之间的关联性。在这种情况下，可能需要使用其他统计方法，如斯皮尔曼等级相关系数或肯德尔等级相关系数。"
   ]
  },
  {
   "cell_type": "markdown",
   "id": "6a236f01-076e-4fd5-ba5c-ad03bb8f12f5",
   "metadata": {},
   "source": [
    "### Matplotlib"
   ]
  },
  {
   "cell_type": "markdown",
   "id": "ca7e2d74-9462-46b2-abb4-472d426b68cc",
   "metadata": {},
   "source": [
    "三次函数示例"
   ]
  },
  {
   "cell_type": "code",
   "execution_count": 13,
   "id": "1c66eac4-0a7d-46b0-b9a6-c56c2ebc1092",
   "metadata": {
    "collapsed": true,
    "jupyter": {
     "outputs_hidden": true
    },
    "scrolled": true
   },
   "outputs": [
    {
     "data": {
      "image/png": "[encoded data removed]",
      "text/plain": [
       "<Figure size 640x480 with 1 Axes>"
      ]
     },
     "metadata": {},
     "output_type": "display_data"
    },
    {
     "name": "stdout",
     "output_type": "stream",
     "text": [
      "CPU times: user 96.5 ms, sys: 148 ms, total: 244 ms\n",
      "Wall time: 111 ms\n"
     ]
    }
   ],
   "source": [
    "%%time\n",
    "import numpy as np\n",
    "import matplotlib.pyplot as plt\n",
    "\n",
    "x = np.array([1, 2, 3, 4, 5, 6, 7, 8, 9, 10])\n",
    "y = x ** 3\n",
    "\n",
    "plt.plot(x, y)\n",
    "plt.xlabel('x')\n",
    "plt.ylabel('y')\n",
    "plt.show()"
   ]
  },
  {
   "cell_type": "markdown",
   "id": "fcb52c2f-2bd7-4a1d-a061-64098ebfc555",
   "metadata": {},
   "source": [
    "正弦函数示例"
   ]
  },
  {
   "cell_type": "code",
   "execution_count": 15,
   "id": "ff8d5951-ffea-4f97-9b3b-0e59d78a8297",
   "metadata": {
    "collapsed": true,
    "editable": true,
    "jupyter": {
     "outputs_hidden": true
    },
    "scrolled": true,
    "slideshow": {
     "slide_type": ""
    },
    "tags": []
   },
   "outputs": [
    {
     "data": {
      "image/png": "[encoded data removed]",
      "text/plain": [
       "<Figure size 640x480 with 1 Axes>"
      ]
     },
     "metadata": {},
     "output_type": "display_data"
    },
    {
     "name": "stdout",
     "output_type": "stream",
     "text": [
      "CPU times: user 82.9 ms, sys: 172 ms, total: 255 ms\n",
      "Wall time: 106 ms\n"
     ]
    }
   ],
   "source": [
    "%%time\n",
    "# 魔法命令（单元格命令）将后续作为参数\n",
    "import numpy as np\n",
    "import matplotlib.pyplot as plt\n",
    "\n",
    "fig, ax = plt.subplots()\n",
    "ax.plot(x, y)\n",
    "\n",
    "x = np.arange(0, 7, 0.1)\n",
    "y = np.sin(x)\n",
    "\n",
    "ax.spines['left'].set_position('zero')\n",
    "ax.spines['bottom'].set_position('zero')\n",
    "\n",
    "plt.plot(x, y)\n",
    "plt.xlabel('x')\n",
    "plt.ylabel('y')\n",
    "plt.show()"
   ]
  },
  {
   "cell_type": "markdown",
   "id": "8f9e2ea4-0db9-4e21-8a69-ef05f9df896f",
   "metadata": {},
   "source": [
    "## 参考链接"
   ]
  },
  {
   "cell_type": "markdown",
   "id": "9777708a-1f58-4203-927c-984e7301a69a",
   "metadata": {},
   "source": [
    "- [现今的机器学习介绍](https://opensource.com/article/17/9/introduction-machine-learning)\n",
    "- [什么是 MLOps？](https://www.redhat.com/en/topics/ai/what-is-mlops)\n",
    "- [红帽 AI/ML 与 MLOps 客户成功故事](https://www.redhat.com/en/blog/red-hat-ai/ml-and-mlops-customer-success-stories)\n",
    "- [开发人员与数据科学家的五大协作方式](https://www.redhat.com/en/resources/top-5-ways-developers-collaborate-checklist)\n",
    "- [Jupyter 项目主页](https://jupyter.org/)\n",
    "- [JupyterLab 文档](https://jupyterlab.readthedocs.io/en/3.6.x/index.html)\n",
    "- [ipykernel](https://docs.jupyter.org/en/latest/projects/kernels.html#term-ipykernel)\n",
    "- [Jupyter 内核列表](https://github.com/jupyter/jupyter/wiki/Jupyter-kernels)\n",
    "- [Jupyter 内置魔法命令](https://ipython.readthedocs.io/en/stable/interactive/magics.html)\n",
    "- [Git 工作流](https://nvie.com/posts/a-successful-git-branching-model/)\n",
    "- [GitHub 工作流](https://docs.github.com/en/get-started/using-github/github-flow)\n",
    "- [基于主干的开发](https://trunkbaseddevelopment.com/)\n",
    "- [jupyterlab-git: 使用 Git 进行版本控制的 JupyterLab 扩展](https://github.com/jupyterlab/jupyterlab-git)\n",
    "- [nbdime: 比较和合并 Jupyter Notebook](https://nbdime.readthedocs.io/en/stable/)"
   ]
  }
 ],
 "metadata": {
  "kernelspec": {
   "display_name": "Python 3 (ipykernel)",
   "language": "python",
   "name": "python3"
  },
  "language_info": {
   "codemirror_mode": {
    "name": "ipython",
    "version": 3
   },
   "file_extension": ".py",
   "mimetype": "text/x-python",
   "name": "python",
   "nbconvert_exporter": "python",
   "pygments_lexer": "ipython3",
   "version": "3.12.2"
  }
 },
 "nbformat": 4,
 "nbformat_minor": 5
}
