{
 "cells": [
  {
   "cell_type": "markdown",
   "id": "7df7b45e-2365-4fe4-9cc2-b81f36763a8e",
   "metadata": {},
   "source": [
    "# 📊 Red Hat OpenShift AI 上的 AI/ML 基础概念与代码示意"
   ]
  },
  {
   "cell_type": "markdown",
   "id": "136fa220-b8a3-442a-9100-0f8a0a877dd2",
   "metadata": {},
   "source": [
    "## 重要概念"
   ]
  },
  {
   "cell_type": "markdown",
   "id": "5ea98021-5380-4a31-bb25-ada4870f3d53",
   "metadata": {},
   "source": [
    "- 机器学习中的基本概念：\n",
    "\n",
    "  - 特征（features）\n",
    "\n",
    "  - 目标变量（target variables）：标记数据（可包含连续的数值）\n",
    "\n",
    "  - 超参数（hyperparameters）\n",
    "\n",
    "  - 模型（model）  \n",
    "\n",
    "  - 训练（training）\n",
    "\n",
    "  - 推理（inference）\n",
    "\n",
    "  - 评估（evalution）：为了评估训练后数据集中的预期值与模型生成的实际值之间的偏差，计算偏差或性能使用均方根误差、精确率与召回率等指标。"
   ]
  },
  {
   "cell_type": "markdown",
   "id": "688b6a1d-05fb-4250-bf0b-1a756291261d",
   "metadata": {},
   "source": [
    "- 机器学习类型：\n",
    "\n",
    "  - 监督学习：\n",
    "\n",
    "    - 此类学习方式会从标记的数据中学习\n",
    "\n",
    "    - 模型类型：线性回归、逻辑回归、支持向量机（`SVM`）、决策树、随机森林、神经网络\n",
    "\n",
    "  - 无监督学习：\n",
    "\n",
    "    - 此类学习方式会从未标记的数据中学习，以发现数据中隐藏的结构或见解，而无需有关目标的明确指导。在这种情况下，数据集不包含目标变量。\n",
    "\n",
    "    - 模型类型：K 均值聚类、K 最邻近（`KNN`）、主成分分析（`PCA`）、自动编码神经网络\n",
    "\n",
    "    - 大语言模型（`LLM`）属于无监督学习范畴"
   ]
  },
  {
   "cell_type": "markdown",
   "id": "16ee85a5-5946-46d1-8a58-690268b3a471",
   "metadata": {},
   "source": [
    "- RHOAI 整体架构：\n",
    "\n",
    "  ![01-rhoai-advanced-architecture.jpg](pictures/01-rhoai-advanced-architecture.jpg)\n",
    "\n",
    "- 🔥 RHOAI 基于的上游项目：\n",
    "\n",
    "  - 数据科学管道项目（Data Science Pipelines）基于 `Tekton` 与 [Kubeflow](https://www.kubeflow.org/) 上游项目，可使用 `Elyra` GUI 可视化创建管道。\n",
    "\n",
    "  - RHOAI 基于开放数据中心（[Open Data Hub](https://opendatahub.io/), `ODH`）上游项目\n",
    "\n",
    "- RHOAI 中涵盖了典型的 AI/ML 工作流，如下所示：\n",
    "\n",
    "  ![04-machine-learning-model-by-zomi-details.png](pictures/04-machine-learning-model-by-zomi-details.png)"
   ]
  },
  {
   "cell_type": "markdown",
   "id": "31952b60-8fa7-486d-a7e4-1680c25a7015",
   "metadata": {},
   "source": [
    "- 🔥 RHOAI 中的 AI/ML 工作流示意：\n",
    "\n",
    "  ![02-ml-workflow-in-rhoai.jpg](pictures/02-ml-workflow-in-rhoai.jpg)\n",
    "\n",
    "  - RHOAI 中的组件通过 operator 的方式进行部署安装\n",
    "\n",
    "  - RHOAI GPU 功能需要 `NVIDIA GPU Operator`\n",
    "\n",
    "  - RHOAI 工作台（workbench）作为 OpenShift Pod 运行，专为机器学习和数据科学而设计。\n",
    "\n",
    "  - 为此，工作台包含 `JupyterLab Notebook` 执行环境、标准数据科学库（如 TensorFlow）和 GPU 加速功能等。\n",
    "\n",
    "  - 在 RHOAI 中，数据科学管道是以自动化方式执行脚本或 Jupyter Notebook 的工作流。\n",
    "\n",
    "  - `JupyterLab` 的前身被称为 Jupyter Notebook\n",
    "\n",
    "  - RHOAI 提供工作台镜像，以便使用 `TensorFlow`、`PyTorch` 和 `Scikit-learn` 等常用库来训练模型。\n",
    "\n",
    "  - AI 模型、机器学习模型（或简称模型）是机器学习工作流训练阶段产生的主要制品\n",
    "\n",
    "  - 通常，开发人员还需要 HTTP API 或类似的 API，以便面向公众公开模型。\n",
    "\n",
    "  - 在 RHOAI 中，模型服务器是自动部署模型的组件。\n",
    "\n",
    "  - RHOAI 使用 [KServe](https://kserve.github.io/website) 作为模型服务平台，并支持 `OpenVINO`、`Triton`、文本生成推断服务器（`TGIS`）和 `Caikit` 等模型运行时。\n",
    "\n",
    "  - 模型服务器使用数据连接从 S3 模型存储下载模型文件\n",
    "\n",
    "  - 将模型服务器文件下载到容器中后，模型服务器会通过标准 REST 或 gRPC API 公开模型。"
   ]
  },
  {
   "cell_type": "markdown",
   "id": "65286c46-2337-433f-9075-3dbada01833e",
   "metadata": {},
   "source": [
    "## 关于 JupyterLab 与 Notebook 的使用"
   ]
  },
  {
   "cell_type": "code",
   "execution_count": null,
   "id": "1c56c320-93cf-4267-9acc-1e81d5e49c9d",
   "metadata": {},
   "outputs": [],
   "source": [
    "$ pip3 install --upgrade jupyterlab jupyterlab-git\n",
    "# 安装 JupyterLab Git 扩展，安装完成后可在 Web 页面左侧边栏显示。"
   ]
  },
  {
   "cell_type": "markdown",
   "id": "8a16e7c1-5fa5-4932-bfeb-1aaade92c139",
   "metadata": {},
   "source": [
    "## 部署 Red Hat OpenShift AI (RHOAI)"
   ]
  },
  {
   "cell_type": "markdown",
   "id": "6f635571-c725-4f4b-a6ad-b7064c17d0bc",
   "metadata": {},
   "source": [
    "- RHOAI 通过 operator 的方式部署自定义资源（`CRD`）\n",
    "\n",
    "- 相关的自定义资源对象包括：\n",
    "\n",
    "  - `FeatureTracker` CRD：负责保持对 operator 创建的 OpenShift 资源的引用，以实现未使用的资源对象的垃圾回收。\n",
    "\n",
    "  - `DSCInitialization` CRD：负责验证需要存在的所有 Kubernetes 对象，如 Namespace、ConfigMap、NetworkPolicy、Service、Role 等。\n",
    "\n",
    "  - `DataScienceCluster` CRD (DSC)：负责创建 FeatureTracker 对象与 DSCInitialization 对象。\n",
    " \n",
    "- 因此，OpenShift 管理员只需创建 DataScienceCluster 资源即可，且一个集群中只能定义一个此资源对象。 "
   ]
  },
  {
   "cell_type": "markdown",
   "id": "bf68c550-c828-426e-8282-b35fd3a4f413",
   "metadata": {},
   "source": [
    "## NumPy、Pandas 与 Matplotlib 库在科学计算中的使用"
   ]
  },
  {
   "cell_type": "markdown",
   "id": "3cf7217b-ea39-444d-84af-083325c0da8f",
   "metadata": {},
   "source": [
    "- 数据探索与预处理常用库：`NumPy`、`Pandas`、`Scikit-learn`"
   ]
  },
  {
   "cell_type": "markdown",
   "id": "6bc45540-5854-4c93-8119-4c034d53df7f",
   "metadata": {},
   "source": [
    "### NumPy 数组"
   ]
  },
  {
   "cell_type": "markdown",
   "id": "be1c0976-4871-4f35-ace1-87da2f9ceea6",
   "metadata": {},
   "source": [
    "numpy 数组的属性与魔法命令"
   ]
  },
  {
   "cell_type": "code",
   "execution_count": 1,
   "id": "10ec39ed-5dfc-47f9-881a-3dfa2719e7c4",
   "metadata": {},
   "outputs": [
    {
     "name": "stdout",
     "output_type": "stream",
     "text": [
      "CPU times: user 48.5 ms, sys: 169 ms, total: 218 ms\n",
      "Wall time: 260 ms\n"
     ]
    },
    {
     "data": {
      "text/plain": [
       "(2, 3)"
      ]
     },
     "execution_count": 1,
     "metadata": {},
     "output_type": "execute_result"
    }
   ],
   "source": [
    "%time import numpy as np  # 魔法命令（行命令）将同一行作为参数\n",
    "\n",
    "data = np.array([[1, 2, 3], [4, 5, 6], [7, 8, 9]])\n",
    "data\n",
    "data.shape  # shape 属性：3x3 矩阵\n",
    "\n",
    "matrix_a = np.array([[0, 1, 1], [1, 0, 0]])\n",
    "matrix_a.shape  # 2x3 矩阵"
   ]
  },
  {
   "cell_type": "markdown",
   "id": "1618caae-5468-4e08-99fb-1b077c05a62e",
   "metadata": {},
   "source": [
    "numpy 数组的运算"
   ]
  },
  {
   "cell_type": "code",
   "execution_count": 2,
   "id": "00093d3a-790c-47f8-b4f4-ff79fa2651d6",
   "metadata": {
    "collapsed": true,
    "jupyter": {
     "outputs_hidden": true
    },
    "scrolled": true
   },
   "outputs": [
    {
     "data": {
      "text/plain": [
       "array([[0.9, 1.8, 2.7],\n",
       "       [3.6, 4.5, 5.4],\n",
       "       [6.3, 7.2, 8.1]])"
      ]
     },
     "execution_count": 2,
     "metadata": {},
     "output_type": "execute_result"
    }
   ],
   "source": [
    "import numpy as np\n",
    "\n",
    "data > 5\n",
    "data * 10\n",
    "data - [[0.1,0.2,0.3], [0.4, 0.5, 0.6], [0.7, 0.8, 0.9]]"
   ]
  },
  {
   "cell_type": "markdown",
   "id": "4252e044-3922-4a68-b414-107e0f3921a1",
   "metadata": {},
   "source": [
    "numpy 数组的切片（slice）"
   ]
  },
  {
   "cell_type": "code",
   "execution_count": 3,
   "id": "29596841-4232-4b01-a0d4-28040643231b",
   "metadata": {
    "collapsed": true,
    "jupyter": {
     "outputs_hidden": true
    }
   },
   "outputs": [
    {
     "data": {
      "text/plain": [
       "array([[1, 2],\n",
       "       [4, 5],\n",
       "       [7, 8]])"
      ]
     },
     "execution_count": 3,
     "metadata": {},
     "output_type": "execute_result"
    }
   ],
   "source": [
    "import numpy as np\n",
    "\n",
    "data[0:2]    # start:stop:step\n",
    "data[:, :-1]  # : 表示索引所有行，:-1 表示索引除最后一列外的所有列。"
   ]
  },
  {
   "cell_type": "markdown",
   "id": "bb34986f-94f4-4e08-b307-4b552131d075",
   "metadata": {},
   "source": [
    "### Pandas 数据探索与预处理"
   ]
  },
  {
   "cell_type": "markdown",
   "id": "3a802835-a8af-408a-8857-2d2429e9b909",
   "metadata": {},
   "source": [
    "- Pandas 提供 `DataFrame` 数据结构，将值存储于 NumPy 数组中。\n",
    "\n",
    "- Pandas 提供 `read_*` 函数，可从 CSV、XML、JSON、Parquet、HDF5 或 SQL 等多种格式来源加载数据。"
   ]
  },
  {
   "cell_type": "markdown",
   "id": "80491f1c-05bc-476c-b628-a505ff01651c",
   "metadata": {},
   "source": [
    "直接创建 DataFrame 数据结构，以 to_string() 方法返回。"
   ]
  },
  {
   "cell_type": "code",
   "execution_count": 5,
   "id": "550bd8d0-8f79-45ee-8e7c-dddccceaaa0b",
   "metadata": {
    "collapsed": true,
    "jupyter": {
     "outputs_hidden": true
    }
   },
   "outputs": [
    {
     "name": "stdout",
     "output_type": "stream",
     "text": [
      "   A  B\n",
      "0  1  4\n",
      "1  2  5\n",
      "2  3  6\n"
     ]
    }
   ],
   "source": [
    "import pandas as pd\n",
    "\n",
    "df = pd.DataFrame({\n",
    "  \"A\": [1, 2, 3],\n",
    "  \"B\": [4, 5, 6]\n",
    "})\n",
    "\n",
    "print(df.to_string())"
   ]
  },
  {
   "cell_type": "markdown",
   "id": "d3db4d07-8794-4e5e-93a6-ff93ca26b8f6",
   "metadata": {},
   "source": [
    "read_csv() 函数、head() 方法、iloc 属性、values 属性"
   ]
  },
  {
   "cell_type": "code",
   "execution_count": 6,
   "id": "788ff9fa-4002-4ee5-accb-6979da1c6dd3",
   "metadata": {
    "collapsed": true,
    "jupyter": {
     "outputs_hidden": true
    }
   },
   "outputs": [
    {
     "data": {
      "text/html": [
       "<div>\n",
       "<style scoped>\n",
       "    .dataframe tbody tr th:only-of-type {\n",
       "        vertical-align: middle;\n",
       "    }\n",
       "\n",
       "    .dataframe tbody tr th {\n",
       "        vertical-align: top;\n",
       "    }\n",
       "\n",
       "    .dataframe thead th {\n",
       "        text-align: right;\n",
       "    }\n",
       "</style>\n",
       "<table border=\"1\" class=\"dataframe\">\n",
       "  <thead>\n",
       "    <tr style=\"text-align: right;\">\n",
       "      <th></th>\n",
       "      <th>yr</th>\n",
       "      <th>mo</th>\n",
       "      <th>dy</th>\n",
       "      <th>date</th>\n",
       "      <th>st</th>\n",
       "      <th>mag</th>\n",
       "      <th>inj</th>\n",
       "      <th>fat</th>\n",
       "      <th>slat</th>\n",
       "      <th>slon</th>\n",
       "      <th>elat</th>\n",
       "      <th>elon</th>\n",
       "      <th>len</th>\n",
       "      <th>wid</th>\n",
       "    </tr>\n",
       "  </thead>\n",
       "  <tbody>\n",
       "    <tr>\n",
       "      <th>0</th>\n",
       "      <td>1950</td>\n",
       "      <td>1</td>\n",
       "      <td>3</td>\n",
       "      <td>1950-01-03</td>\n",
       "      <td>IL</td>\n",
       "      <td>3</td>\n",
       "      <td>3</td>\n",
       "      <td>0</td>\n",
       "      <td>39.1000</td>\n",
       "      <td>-89.3000</td>\n",
       "      <td>39.1200</td>\n",
       "      <td>-89.2300</td>\n",
       "      <td>3.60</td>\n",
       "      <td>130</td>\n",
       "    </tr>\n",
       "    <tr>\n",
       "      <th>1</th>\n",
       "      <td>1950</td>\n",
       "      <td>1</td>\n",
       "      <td>3</td>\n",
       "      <td>1950-01-03</td>\n",
       "      <td>MO</td>\n",
       "      <td>3</td>\n",
       "      <td>3</td>\n",
       "      <td>0</td>\n",
       "      <td>38.7700</td>\n",
       "      <td>-90.2200</td>\n",
       "      <td>38.8300</td>\n",
       "      <td>-90.0300</td>\n",
       "      <td>9.50</td>\n",
       "      <td>150</td>\n",
       "    </tr>\n",
       "    <tr>\n",
       "      <th>2</th>\n",
       "      <td>1950</td>\n",
       "      <td>1</td>\n",
       "      <td>3</td>\n",
       "      <td>1950-01-03</td>\n",
       "      <td>OH</td>\n",
       "      <td>1</td>\n",
       "      <td>1</td>\n",
       "      <td>0</td>\n",
       "      <td>40.8800</td>\n",
       "      <td>-84.5800</td>\n",
       "      <td>0.0000</td>\n",
       "      <td>0.0000</td>\n",
       "      <td>0.10</td>\n",
       "      <td>10</td>\n",
       "    </tr>\n",
       "    <tr>\n",
       "      <th>3</th>\n",
       "      <td>1950</td>\n",
       "      <td>1</td>\n",
       "      <td>13</td>\n",
       "      <td>1950-01-13</td>\n",
       "      <td>AR</td>\n",
       "      <td>3</td>\n",
       "      <td>1</td>\n",
       "      <td>1</td>\n",
       "      <td>34.4000</td>\n",
       "      <td>-94.3700</td>\n",
       "      <td>0.0000</td>\n",
       "      <td>0.0000</td>\n",
       "      <td>0.60</td>\n",
       "      <td>17</td>\n",
       "    </tr>\n",
       "    <tr>\n",
       "      <th>4</th>\n",
       "      <td>1950</td>\n",
       "      <td>1</td>\n",
       "      <td>25</td>\n",
       "      <td>1950-01-25</td>\n",
       "      <td>IL</td>\n",
       "      <td>2</td>\n",
       "      <td>0</td>\n",
       "      <td>0</td>\n",
       "      <td>41.1700</td>\n",
       "      <td>-87.3300</td>\n",
       "      <td>0.0000</td>\n",
       "      <td>0.0000</td>\n",
       "      <td>0.10</td>\n",
       "      <td>100</td>\n",
       "    </tr>\n",
       "    <tr>\n",
       "      <th>...</th>\n",
       "      <td>...</td>\n",
       "      <td>...</td>\n",
       "      <td>...</td>\n",
       "      <td>...</td>\n",
       "      <td>...</td>\n",
       "      <td>...</td>\n",
       "      <td>...</td>\n",
       "      <td>...</td>\n",
       "      <td>...</td>\n",
       "      <td>...</td>\n",
       "      <td>...</td>\n",
       "      <td>...</td>\n",
       "      <td>...</td>\n",
       "      <td>...</td>\n",
       "    </tr>\n",
       "    <tr>\n",
       "      <th>67553</th>\n",
       "      <td>2021</td>\n",
       "      <td>12</td>\n",
       "      <td>30</td>\n",
       "      <td>2021-12-30</td>\n",
       "      <td>GA</td>\n",
       "      <td>1</td>\n",
       "      <td>0</td>\n",
       "      <td>0</td>\n",
       "      <td>31.1703</td>\n",
       "      <td>-83.3804</td>\n",
       "      <td>31.1805</td>\n",
       "      <td>-83.3453</td>\n",
       "      <td>2.19</td>\n",
       "      <td>150</td>\n",
       "    </tr>\n",
       "    <tr>\n",
       "      <th>67554</th>\n",
       "      <td>2021</td>\n",
       "      <td>12</td>\n",
       "      <td>30</td>\n",
       "      <td>2021-12-30</td>\n",
       "      <td>GA</td>\n",
       "      <td>1</td>\n",
       "      <td>0</td>\n",
       "      <td>0</td>\n",
       "      <td>31.6900</td>\n",
       "      <td>-82.7300</td>\n",
       "      <td>31.7439</td>\n",
       "      <td>-82.5412</td>\n",
       "      <td>11.71</td>\n",
       "      <td>300</td>\n",
       "    </tr>\n",
       "    <tr>\n",
       "      <th>67555</th>\n",
       "      <td>2021</td>\n",
       "      <td>12</td>\n",
       "      <td>31</td>\n",
       "      <td>2021-12-31</td>\n",
       "      <td>AL</td>\n",
       "      <td>1</td>\n",
       "      <td>0</td>\n",
       "      <td>0</td>\n",
       "      <td>34.2875</td>\n",
       "      <td>-85.7878</td>\n",
       "      <td>34.2998</td>\n",
       "      <td>-85.7805</td>\n",
       "      <td>0.95</td>\n",
       "      <td>50</td>\n",
       "    </tr>\n",
       "    <tr>\n",
       "      <th>67556</th>\n",
       "      <td>2021</td>\n",
       "      <td>12</td>\n",
       "      <td>31</td>\n",
       "      <td>2021-12-31</td>\n",
       "      <td>GA</td>\n",
       "      <td>1</td>\n",
       "      <td>0</td>\n",
       "      <td>0</td>\n",
       "      <td>33.7372</td>\n",
       "      <td>-84.9998</td>\n",
       "      <td>33.7625</td>\n",
       "      <td>-84.9633</td>\n",
       "      <td>2.75</td>\n",
       "      <td>150</td>\n",
       "    </tr>\n",
       "    <tr>\n",
       "      <th>67557</th>\n",
       "      <td>2021</td>\n",
       "      <td>12</td>\n",
       "      <td>31</td>\n",
       "      <td>2021-12-31</td>\n",
       "      <td>GA</td>\n",
       "      <td>1</td>\n",
       "      <td>6</td>\n",
       "      <td>0</td>\n",
       "      <td>33.5676</td>\n",
       "      <td>-83.9877</td>\n",
       "      <td>33.5842</td>\n",
       "      <td>-83.9498</td>\n",
       "      <td>2.50</td>\n",
       "      <td>75</td>\n",
       "    </tr>\n",
       "  </tbody>\n",
       "</table>\n",
       "<p>67558 rows × 14 columns</p>\n",
       "</div>"
      ],
      "text/plain": [
       "         yr  mo  dy        date  st  mag  inj  fat     slat     slon     elat  \\\n",
       "0      1950   1   3  1950-01-03  IL    3    3    0  39.1000 -89.3000  39.1200   \n",
       "1      1950   1   3  1950-01-03  MO    3    3    0  38.7700 -90.2200  38.8300   \n",
       "2      1950   1   3  1950-01-03  OH    1    1    0  40.8800 -84.5800   0.0000   \n",
       "3      1950   1  13  1950-01-13  AR    3    1    1  34.4000 -94.3700   0.0000   \n",
       "4      1950   1  25  1950-01-25  IL    2    0    0  41.1700 -87.3300   0.0000   \n",
       "...     ...  ..  ..         ...  ..  ...  ...  ...      ...      ...      ...   \n",
       "67553  2021  12  30  2021-12-30  GA    1    0    0  31.1703 -83.3804  31.1805   \n",
       "67554  2021  12  30  2021-12-30  GA    1    0    0  31.6900 -82.7300  31.7439   \n",
       "67555  2021  12  31  2021-12-31  AL    1    0    0  34.2875 -85.7878  34.2998   \n",
       "67556  2021  12  31  2021-12-31  GA    1    0    0  33.7372 -84.9998  33.7625   \n",
       "67557  2021  12  31  2021-12-31  GA    1    6    0  33.5676 -83.9877  33.5842   \n",
       "\n",
       "          elon    len  wid  \n",
       "0     -89.2300   3.60  130  \n",
       "1     -90.0300   9.50  150  \n",
       "2       0.0000   0.10   10  \n",
       "3       0.0000   0.60   17  \n",
       "4       0.0000   0.10  100  \n",
       "...        ...    ...  ...  \n",
       "67553 -83.3453   2.19  150  \n",
       "67554 -82.5412  11.71  300  \n",
       "67555 -85.7805   0.95   50  \n",
       "67556 -84.9633   2.75  150  \n",
       "67557 -83.9498   2.50   75  \n",
       "\n",
       "[67558 rows x 14 columns]"
      ]
     },
     "execution_count": 6,
     "metadata": {},
     "output_type": "execute_result"
    }
   ],
   "source": [
    "import pandas as pd\n",
    "\n",
    "dataframe = pd.read_csv(\"./src_data/us_tornado_dataset_1950_2021.csv\")\n",
    "dataframe  # 以 DataFrame 形式返回整个 CSV 文件内容"
   ]
  },
  {
   "cell_type": "code",
   "execution_count": 7,
   "id": "ae794cef-4d9b-4cb5-af39-8e5efa698cdd",
   "metadata": {
    "collapsed": true,
    "jupyter": {
     "outputs_hidden": true
    }
   },
   "outputs": [
    {
     "data": {
      "text/html": [
       "<div>\n",
       "<style scoped>\n",
       "    .dataframe tbody tr th:only-of-type {\n",
       "        vertical-align: middle;\n",
       "    }\n",
       "\n",
       "    .dataframe tbody tr th {\n",
       "        vertical-align: top;\n",
       "    }\n",
       "\n",
       "    .dataframe thead th {\n",
       "        text-align: right;\n",
       "    }\n",
       "</style>\n",
       "<table border=\"1\" class=\"dataframe\">\n",
       "  <thead>\n",
       "    <tr style=\"text-align: right;\">\n",
       "      <th></th>\n",
       "      <th>yr</th>\n",
       "      <th>mo</th>\n",
       "      <th>dy</th>\n",
       "      <th>date</th>\n",
       "      <th>st</th>\n",
       "      <th>mag</th>\n",
       "      <th>inj</th>\n",
       "      <th>fat</th>\n",
       "      <th>slat</th>\n",
       "      <th>slon</th>\n",
       "      <th>elat</th>\n",
       "      <th>elon</th>\n",
       "      <th>len</th>\n",
       "      <th>wid</th>\n",
       "    </tr>\n",
       "  </thead>\n",
       "  <tbody>\n",
       "    <tr>\n",
       "      <th>0</th>\n",
       "      <td>1950</td>\n",
       "      <td>1</td>\n",
       "      <td>3</td>\n",
       "      <td>1950-01-03</td>\n",
       "      <td>IL</td>\n",
       "      <td>3</td>\n",
       "      <td>3</td>\n",
       "      <td>0</td>\n",
       "      <td>39.10</td>\n",
       "      <td>-89.30</td>\n",
       "      <td>39.12</td>\n",
       "      <td>-89.23</td>\n",
       "      <td>3.6</td>\n",
       "      <td>130</td>\n",
       "    </tr>\n",
       "    <tr>\n",
       "      <th>1</th>\n",
       "      <td>1950</td>\n",
       "      <td>1</td>\n",
       "      <td>3</td>\n",
       "      <td>1950-01-03</td>\n",
       "      <td>MO</td>\n",
       "      <td>3</td>\n",
       "      <td>3</td>\n",
       "      <td>0</td>\n",
       "      <td>38.77</td>\n",
       "      <td>-90.22</td>\n",
       "      <td>38.83</td>\n",
       "      <td>-90.03</td>\n",
       "      <td>9.5</td>\n",
       "      <td>150</td>\n",
       "    </tr>\n",
       "    <tr>\n",
       "      <th>2</th>\n",
       "      <td>1950</td>\n",
       "      <td>1</td>\n",
       "      <td>3</td>\n",
       "      <td>1950-01-03</td>\n",
       "      <td>OH</td>\n",
       "      <td>1</td>\n",
       "      <td>1</td>\n",
       "      <td>0</td>\n",
       "      <td>40.88</td>\n",
       "      <td>-84.58</td>\n",
       "      <td>0.00</td>\n",
       "      <td>0.00</td>\n",
       "      <td>0.1</td>\n",
       "      <td>10</td>\n",
       "    </tr>\n",
       "    <tr>\n",
       "      <th>3</th>\n",
       "      <td>1950</td>\n",
       "      <td>1</td>\n",
       "      <td>13</td>\n",
       "      <td>1950-01-13</td>\n",
       "      <td>AR</td>\n",
       "      <td>3</td>\n",
       "      <td>1</td>\n",
       "      <td>1</td>\n",
       "      <td>34.40</td>\n",
       "      <td>-94.37</td>\n",
       "      <td>0.00</td>\n",
       "      <td>0.00</td>\n",
       "      <td>0.6</td>\n",
       "      <td>17</td>\n",
       "    </tr>\n",
       "    <tr>\n",
       "      <th>4</th>\n",
       "      <td>1950</td>\n",
       "      <td>1</td>\n",
       "      <td>25</td>\n",
       "      <td>1950-01-25</td>\n",
       "      <td>IL</td>\n",
       "      <td>2</td>\n",
       "      <td>0</td>\n",
       "      <td>0</td>\n",
       "      <td>41.17</td>\n",
       "      <td>-87.33</td>\n",
       "      <td>0.00</td>\n",
       "      <td>0.00</td>\n",
       "      <td>0.1</td>\n",
       "      <td>100</td>\n",
       "    </tr>\n",
       "  </tbody>\n",
       "</table>\n",
       "</div>"
      ],
      "text/plain": [
       "     yr  mo  dy        date  st  mag  inj  fat   slat   slon   elat   elon  \\\n",
       "0  1950   1   3  1950-01-03  IL    3    3    0  39.10 -89.30  39.12 -89.23   \n",
       "1  1950   1   3  1950-01-03  MO    3    3    0  38.77 -90.22  38.83 -90.03   \n",
       "2  1950   1   3  1950-01-03  OH    1    1    0  40.88 -84.58   0.00   0.00   \n",
       "3  1950   1  13  1950-01-13  AR    3    1    1  34.40 -94.37   0.00   0.00   \n",
       "4  1950   1  25  1950-01-25  IL    2    0    0  41.17 -87.33   0.00   0.00   \n",
       "\n",
       "   len  wid  \n",
       "0  3.6  130  \n",
       "1  9.5  150  \n",
       "2  0.1   10  \n",
       "3  0.6   17  \n",
       "4  0.1  100  "
      ]
     },
     "execution_count": 7,
     "metadata": {},
     "output_type": "execute_result"
    }
   ],
   "source": [
    "dataframe.head()  # 返回 DataFrame 的前 5 行信息"
   ]
  },
  {
   "cell_type": "code",
   "execution_count": 8,
   "id": "6ba3c326-d1b3-4bf9-829e-ea88b7789ad7",
   "metadata": {
    "collapsed": true,
    "jupyter": {
     "outputs_hidden": true
    }
   },
   "outputs": [
    {
     "data": {
      "text/html": [
       "<div>\n",
       "<style scoped>\n",
       "    .dataframe tbody tr th:only-of-type {\n",
       "        vertical-align: middle;\n",
       "    }\n",
       "\n",
       "    .dataframe tbody tr th {\n",
       "        vertical-align: top;\n",
       "    }\n",
       "\n",
       "    .dataframe thead th {\n",
       "        text-align: right;\n",
       "    }\n",
       "</style>\n",
       "<table border=\"1\" class=\"dataframe\">\n",
       "  <thead>\n",
       "    <tr style=\"text-align: right;\">\n",
       "      <th></th>\n",
       "      <th>yr</th>\n",
       "      <th>mo</th>\n",
       "      <th>dy</th>\n",
       "      <th>date</th>\n",
       "      <th>st</th>\n",
       "      <th>mag</th>\n",
       "      <th>inj</th>\n",
       "      <th>fat</th>\n",
       "      <th>slat</th>\n",
       "      <th>slon</th>\n",
       "      <th>elat</th>\n",
       "      <th>elon</th>\n",
       "      <th>len</th>\n",
       "    </tr>\n",
       "  </thead>\n",
       "  <tbody>\n",
       "    <tr>\n",
       "      <th>0</th>\n",
       "      <td>1950</td>\n",
       "      <td>1</td>\n",
       "      <td>3</td>\n",
       "      <td>1950-01-03</td>\n",
       "      <td>IL</td>\n",
       "      <td>3</td>\n",
       "      <td>3</td>\n",
       "      <td>0</td>\n",
       "      <td>39.1000</td>\n",
       "      <td>-89.3000</td>\n",
       "      <td>39.1200</td>\n",
       "      <td>-89.2300</td>\n",
       "      <td>3.60</td>\n",
       "    </tr>\n",
       "    <tr>\n",
       "      <th>1</th>\n",
       "      <td>1950</td>\n",
       "      <td>1</td>\n",
       "      <td>3</td>\n",
       "      <td>1950-01-03</td>\n",
       "      <td>MO</td>\n",
       "      <td>3</td>\n",
       "      <td>3</td>\n",
       "      <td>0</td>\n",
       "      <td>38.7700</td>\n",
       "      <td>-90.2200</td>\n",
       "      <td>38.8300</td>\n",
       "      <td>-90.0300</td>\n",
       "      <td>9.50</td>\n",
       "    </tr>\n",
       "    <tr>\n",
       "      <th>2</th>\n",
       "      <td>1950</td>\n",
       "      <td>1</td>\n",
       "      <td>3</td>\n",
       "      <td>1950-01-03</td>\n",
       "      <td>OH</td>\n",
       "      <td>1</td>\n",
       "      <td>1</td>\n",
       "      <td>0</td>\n",
       "      <td>40.8800</td>\n",
       "      <td>-84.5800</td>\n",
       "      <td>0.0000</td>\n",
       "      <td>0.0000</td>\n",
       "      <td>0.10</td>\n",
       "    </tr>\n",
       "    <tr>\n",
       "      <th>3</th>\n",
       "      <td>1950</td>\n",
       "      <td>1</td>\n",
       "      <td>13</td>\n",
       "      <td>1950-01-13</td>\n",
       "      <td>AR</td>\n",
       "      <td>3</td>\n",
       "      <td>1</td>\n",
       "      <td>1</td>\n",
       "      <td>34.4000</td>\n",
       "      <td>-94.3700</td>\n",
       "      <td>0.0000</td>\n",
       "      <td>0.0000</td>\n",
       "      <td>0.60</td>\n",
       "    </tr>\n",
       "    <tr>\n",
       "      <th>4</th>\n",
       "      <td>1950</td>\n",
       "      <td>1</td>\n",
       "      <td>25</td>\n",
       "      <td>1950-01-25</td>\n",
       "      <td>IL</td>\n",
       "      <td>2</td>\n",
       "      <td>0</td>\n",
       "      <td>0</td>\n",
       "      <td>41.1700</td>\n",
       "      <td>-87.3300</td>\n",
       "      <td>0.0000</td>\n",
       "      <td>0.0000</td>\n",
       "      <td>0.10</td>\n",
       "    </tr>\n",
       "    <tr>\n",
       "      <th>...</th>\n",
       "      <td>...</td>\n",
       "      <td>...</td>\n",
       "      <td>...</td>\n",
       "      <td>...</td>\n",
       "      <td>...</td>\n",
       "      <td>...</td>\n",
       "      <td>...</td>\n",
       "      <td>...</td>\n",
       "      <td>...</td>\n",
       "      <td>...</td>\n",
       "      <td>...</td>\n",
       "      <td>...</td>\n",
       "      <td>...</td>\n",
       "    </tr>\n",
       "    <tr>\n",
       "      <th>67553</th>\n",
       "      <td>2021</td>\n",
       "      <td>12</td>\n",
       "      <td>30</td>\n",
       "      <td>2021-12-30</td>\n",
       "      <td>GA</td>\n",
       "      <td>1</td>\n",
       "      <td>0</td>\n",
       "      <td>0</td>\n",
       "      <td>31.1703</td>\n",
       "      <td>-83.3804</td>\n",
       "      <td>31.1805</td>\n",
       "      <td>-83.3453</td>\n",
       "      <td>2.19</td>\n",
       "    </tr>\n",
       "    <tr>\n",
       "      <th>67554</th>\n",
       "      <td>2021</td>\n",
       "      <td>12</td>\n",
       "      <td>30</td>\n",
       "      <td>2021-12-30</td>\n",
       "      <td>GA</td>\n",
       "      <td>1</td>\n",
       "      <td>0</td>\n",
       "      <td>0</td>\n",
       "      <td>31.6900</td>\n",
       "      <td>-82.7300</td>\n",
       "      <td>31.7439</td>\n",
       "      <td>-82.5412</td>\n",
       "      <td>11.71</td>\n",
       "    </tr>\n",
       "    <tr>\n",
       "      <th>67555</th>\n",
       "      <td>2021</td>\n",
       "      <td>12</td>\n",
       "      <td>31</td>\n",
       "      <td>2021-12-31</td>\n",
       "      <td>AL</td>\n",
       "      <td>1</td>\n",
       "      <td>0</td>\n",
       "      <td>0</td>\n",
       "      <td>34.2875</td>\n",
       "      <td>-85.7878</td>\n",
       "      <td>34.2998</td>\n",
       "      <td>-85.7805</td>\n",
       "      <td>0.95</td>\n",
       "    </tr>\n",
       "    <tr>\n",
       "      <th>67556</th>\n",
       "      <td>2021</td>\n",
       "      <td>12</td>\n",
       "      <td>31</td>\n",
       "      <td>2021-12-31</td>\n",
       "      <td>GA</td>\n",
       "      <td>1</td>\n",
       "      <td>0</td>\n",
       "      <td>0</td>\n",
       "      <td>33.7372</td>\n",
       "      <td>-84.9998</td>\n",
       "      <td>33.7625</td>\n",
       "      <td>-84.9633</td>\n",
       "      <td>2.75</td>\n",
       "    </tr>\n",
       "    <tr>\n",
       "      <th>67557</th>\n",
       "      <td>2021</td>\n",
       "      <td>12</td>\n",
       "      <td>31</td>\n",
       "      <td>2021-12-31</td>\n",
       "      <td>GA</td>\n",
       "      <td>1</td>\n",
       "      <td>6</td>\n",
       "      <td>0</td>\n",
       "      <td>33.5676</td>\n",
       "      <td>-83.9877</td>\n",
       "      <td>33.5842</td>\n",
       "      <td>-83.9498</td>\n",
       "      <td>2.50</td>\n",
       "    </tr>\n",
       "  </tbody>\n",
       "</table>\n",
       "<p>67558 rows × 13 columns</p>\n",
       "</div>"
      ],
      "text/plain": [
       "         yr  mo  dy        date  st  mag  inj  fat     slat     slon     elat  \\\n",
       "0      1950   1   3  1950-01-03  IL    3    3    0  39.1000 -89.3000  39.1200   \n",
       "1      1950   1   3  1950-01-03  MO    3    3    0  38.7700 -90.2200  38.8300   \n",
       "2      1950   1   3  1950-01-03  OH    1    1    0  40.8800 -84.5800   0.0000   \n",
       "3      1950   1  13  1950-01-13  AR    3    1    1  34.4000 -94.3700   0.0000   \n",
       "4      1950   1  25  1950-01-25  IL    2    0    0  41.1700 -87.3300   0.0000   \n",
       "...     ...  ..  ..         ...  ..  ...  ...  ...      ...      ...      ...   \n",
       "67553  2021  12  30  2021-12-30  GA    1    0    0  31.1703 -83.3804  31.1805   \n",
       "67554  2021  12  30  2021-12-30  GA    1    0    0  31.6900 -82.7300  31.7439   \n",
       "67555  2021  12  31  2021-12-31  AL    1    0    0  34.2875 -85.7878  34.2998   \n",
       "67556  2021  12  31  2021-12-31  GA    1    0    0  33.7372 -84.9998  33.7625   \n",
       "67557  2021  12  31  2021-12-31  GA    1    6    0  33.5676 -83.9877  33.5842   \n",
       "\n",
       "          elon    len  \n",
       "0     -89.2300   3.60  \n",
       "1     -90.0300   9.50  \n",
       "2       0.0000   0.10  \n",
       "3       0.0000   0.60  \n",
       "4       0.0000   0.10  \n",
       "...        ...    ...  \n",
       "67553 -83.3453   2.19  \n",
       "67554 -82.5412  11.71  \n",
       "67555 -85.7805   0.95  \n",
       "67556 -84.9633   2.75  \n",
       "67557 -83.9498   2.50  \n",
       "\n",
       "[67558 rows x 13 columns]"
      ]
     },
     "execution_count": 8,
     "metadata": {},
     "output_type": "execute_result"
    }
   ],
   "source": [
    "another_dataframe = dataframe.iloc[:,:-1]  # 支持 NumPy 数组切片\n",
    "another_dataframe"
   ]
  },
  {
   "cell_type": "code",
   "execution_count": 9,
   "id": "7fd49b09-1eae-48e6-82cd-8c3c825e8f7f",
   "metadata": {
    "collapsed": true,
    "jupyter": {
     "outputs_hidden": true
    }
   },
   "outputs": [
    {
     "data": {
      "text/plain": [
       "array([[1950, 1, 3, ..., -89.23, 3.6, 130],\n",
       "       [1950, 1, 3, ..., -90.03, 9.5, 150],\n",
       "       [1950, 1, 3, ..., 0.0, 0.1, 10],\n",
       "       ...,\n",
       "       [2021, 12, 31, ..., -85.7805, 0.95, 50],\n",
       "       [2021, 12, 31, ..., -84.9633, 2.75, 150],\n",
       "       [2021, 12, 31, ..., -83.9498, 2.5, 75]], dtype=object)"
      ]
     },
     "execution_count": 9,
     "metadata": {},
     "output_type": "execute_result"
    }
   ],
   "source": [
    "dataframe.values  # 访问 DataFrame 数据结构"
   ]
  },
  {
   "cell_type": "markdown",
   "id": "a608a268-d14c-41b8-94c0-f1b5ada854af",
   "metadata": {},
   "source": [
    "利用索引进行输出"
   ]
  },
  {
   "cell_type": "code",
   "execution_count": 10,
   "id": "b315e5e5-a0ce-4066-ab2a-9bfa32be72d6",
   "metadata": {
    "collapsed": true,
    "jupyter": {
     "outputs_hidden": true
    }
   },
   "outputs": [
    {
     "data": {
      "text/html": [
       "<div>\n",
       "<style scoped>\n",
       "    .dataframe tbody tr th:only-of-type {\n",
       "        vertical-align: middle;\n",
       "    }\n",
       "\n",
       "    .dataframe tbody tr th {\n",
       "        vertical-align: top;\n",
       "    }\n",
       "\n",
       "    .dataframe thead th {\n",
       "        text-align: right;\n",
       "    }\n",
       "</style>\n",
       "<table border=\"1\" class=\"dataframe\">\n",
       "  <thead>\n",
       "    <tr style=\"text-align: right;\">\n",
       "      <th></th>\n",
       "      <th>yr</th>\n",
       "      <th>mo</th>\n",
       "      <th>dy</th>\n",
       "      <th>date</th>\n",
       "      <th>st</th>\n",
       "      <th>inj</th>\n",
       "      <th>fat</th>\n",
       "      <th>slat</th>\n",
       "      <th>slon</th>\n",
       "      <th>elat</th>\n",
       "      <th>elon</th>\n",
       "      <th>len</th>\n",
       "      <th>wid</th>\n",
       "    </tr>\n",
       "  </thead>\n",
       "  <tbody>\n",
       "    <tr>\n",
       "      <th>0</th>\n",
       "      <td>1950</td>\n",
       "      <td>1</td>\n",
       "      <td>3</td>\n",
       "      <td>1950-01-03</td>\n",
       "      <td>IL</td>\n",
       "      <td>3</td>\n",
       "      <td>0</td>\n",
       "      <td>39.1000</td>\n",
       "      <td>-89.3000</td>\n",
       "      <td>39.1200</td>\n",
       "      <td>-89.2300</td>\n",
       "      <td>3.60</td>\n",
       "      <td>130</td>\n",
       "    </tr>\n",
       "    <tr>\n",
       "      <th>1</th>\n",
       "      <td>1950</td>\n",
       "      <td>1</td>\n",
       "      <td>3</td>\n",
       "      <td>1950-01-03</td>\n",
       "      <td>MO</td>\n",
       "      <td>3</td>\n",
       "      <td>0</td>\n",
       "      <td>38.7700</td>\n",
       "      <td>-90.2200</td>\n",
       "      <td>38.8300</td>\n",
       "      <td>-90.0300</td>\n",
       "      <td>9.50</td>\n",
       "      <td>150</td>\n",
       "    </tr>\n",
       "    <tr>\n",
       "      <th>2</th>\n",
       "      <td>1950</td>\n",
       "      <td>1</td>\n",
       "      <td>3</td>\n",
       "      <td>1950-01-03</td>\n",
       "      <td>OH</td>\n",
       "      <td>1</td>\n",
       "      <td>0</td>\n",
       "      <td>40.8800</td>\n",
       "      <td>-84.5800</td>\n",
       "      <td>0.0000</td>\n",
       "      <td>0.0000</td>\n",
       "      <td>0.10</td>\n",
       "      <td>10</td>\n",
       "    </tr>\n",
       "    <tr>\n",
       "      <th>3</th>\n",
       "      <td>1950</td>\n",
       "      <td>1</td>\n",
       "      <td>13</td>\n",
       "      <td>1950-01-13</td>\n",
       "      <td>AR</td>\n",
       "      <td>1</td>\n",
       "      <td>1</td>\n",
       "      <td>34.4000</td>\n",
       "      <td>-94.3700</td>\n",
       "      <td>0.0000</td>\n",
       "      <td>0.0000</td>\n",
       "      <td>0.60</td>\n",
       "      <td>17</td>\n",
       "    </tr>\n",
       "    <tr>\n",
       "      <th>4</th>\n",
       "      <td>1950</td>\n",
       "      <td>1</td>\n",
       "      <td>25</td>\n",
       "      <td>1950-01-25</td>\n",
       "      <td>IL</td>\n",
       "      <td>0</td>\n",
       "      <td>0</td>\n",
       "      <td>41.1700</td>\n",
       "      <td>-87.3300</td>\n",
       "      <td>0.0000</td>\n",
       "      <td>0.0000</td>\n",
       "      <td>0.10</td>\n",
       "      <td>100</td>\n",
       "    </tr>\n",
       "    <tr>\n",
       "      <th>...</th>\n",
       "      <td>...</td>\n",
       "      <td>...</td>\n",
       "      <td>...</td>\n",
       "      <td>...</td>\n",
       "      <td>...</td>\n",
       "      <td>...</td>\n",
       "      <td>...</td>\n",
       "      <td>...</td>\n",
       "      <td>...</td>\n",
       "      <td>...</td>\n",
       "      <td>...</td>\n",
       "      <td>...</td>\n",
       "      <td>...</td>\n",
       "    </tr>\n",
       "    <tr>\n",
       "      <th>67553</th>\n",
       "      <td>2021</td>\n",
       "      <td>12</td>\n",
       "      <td>30</td>\n",
       "      <td>2021-12-30</td>\n",
       "      <td>GA</td>\n",
       "      <td>0</td>\n",
       "      <td>0</td>\n",
       "      <td>31.1703</td>\n",
       "      <td>-83.3804</td>\n",
       "      <td>31.1805</td>\n",
       "      <td>-83.3453</td>\n",
       "      <td>2.19</td>\n",
       "      <td>150</td>\n",
       "    </tr>\n",
       "    <tr>\n",
       "      <th>67554</th>\n",
       "      <td>2021</td>\n",
       "      <td>12</td>\n",
       "      <td>30</td>\n",
       "      <td>2021-12-30</td>\n",
       "      <td>GA</td>\n",
       "      <td>0</td>\n",
       "      <td>0</td>\n",
       "      <td>31.6900</td>\n",
       "      <td>-82.7300</td>\n",
       "      <td>31.7439</td>\n",
       "      <td>-82.5412</td>\n",
       "      <td>11.71</td>\n",
       "      <td>300</td>\n",
       "    </tr>\n",
       "    <tr>\n",
       "      <th>67555</th>\n",
       "      <td>2021</td>\n",
       "      <td>12</td>\n",
       "      <td>31</td>\n",
       "      <td>2021-12-31</td>\n",
       "      <td>AL</td>\n",
       "      <td>0</td>\n",
       "      <td>0</td>\n",
       "      <td>34.2875</td>\n",
       "      <td>-85.7878</td>\n",
       "      <td>34.2998</td>\n",
       "      <td>-85.7805</td>\n",
       "      <td>0.95</td>\n",
       "      <td>50</td>\n",
       "    </tr>\n",
       "    <tr>\n",
       "      <th>67556</th>\n",
       "      <td>2021</td>\n",
       "      <td>12</td>\n",
       "      <td>31</td>\n",
       "      <td>2021-12-31</td>\n",
       "      <td>GA</td>\n",
       "      <td>0</td>\n",
       "      <td>0</td>\n",
       "      <td>33.7372</td>\n",
       "      <td>-84.9998</td>\n",
       "      <td>33.7625</td>\n",
       "      <td>-84.9633</td>\n",
       "      <td>2.75</td>\n",
       "      <td>150</td>\n",
       "    </tr>\n",
       "    <tr>\n",
       "      <th>67557</th>\n",
       "      <td>2021</td>\n",
       "      <td>12</td>\n",
       "      <td>31</td>\n",
       "      <td>2021-12-31</td>\n",
       "      <td>GA</td>\n",
       "      <td>6</td>\n",
       "      <td>0</td>\n",
       "      <td>33.5676</td>\n",
       "      <td>-83.9877</td>\n",
       "      <td>33.5842</td>\n",
       "      <td>-83.9498</td>\n",
       "      <td>2.50</td>\n",
       "      <td>75</td>\n",
       "    </tr>\n",
       "  </tbody>\n",
       "</table>\n",
       "<p>67558 rows × 13 columns</p>\n",
       "</div>"
      ],
      "text/plain": [
       "         yr  mo  dy        date  st  inj  fat     slat     slon     elat  \\\n",
       "0      1950   1   3  1950-01-03  IL    3    0  39.1000 -89.3000  39.1200   \n",
       "1      1950   1   3  1950-01-03  MO    3    0  38.7700 -90.2200  38.8300   \n",
       "2      1950   1   3  1950-01-03  OH    1    0  40.8800 -84.5800   0.0000   \n",
       "3      1950   1  13  1950-01-13  AR    1    1  34.4000 -94.3700   0.0000   \n",
       "4      1950   1  25  1950-01-25  IL    0    0  41.1700 -87.3300   0.0000   \n",
       "...     ...  ..  ..         ...  ..  ...  ...      ...      ...      ...   \n",
       "67553  2021  12  30  2021-12-30  GA    0    0  31.1703 -83.3804  31.1805   \n",
       "67554  2021  12  30  2021-12-30  GA    0    0  31.6900 -82.7300  31.7439   \n",
       "67555  2021  12  31  2021-12-31  AL    0    0  34.2875 -85.7878  34.2998   \n",
       "67556  2021  12  31  2021-12-31  GA    0    0  33.7372 -84.9998  33.7625   \n",
       "67557  2021  12  31  2021-12-31  GA    6    0  33.5676 -83.9877  33.5842   \n",
       "\n",
       "          elon    len  wid  \n",
       "0     -89.2300   3.60  130  \n",
       "1     -90.0300   9.50  150  \n",
       "2       0.0000   0.10   10  \n",
       "3       0.0000   0.60   17  \n",
       "4       0.0000   0.10  100  \n",
       "...        ...    ...  ...  \n",
       "67553 -83.3453   2.19  150  \n",
       "67554 -82.5412  11.71  300  \n",
       "67555 -85.7805   0.95   50  \n",
       "67556 -84.9633   2.75  150  \n",
       "67557 -83.9498   2.50   75  \n",
       "\n",
       "[67558 rows x 13 columns]"
      ]
     },
     "execution_count": 10,
     "metadata": {},
     "output_type": "execute_result"
    }
   ],
   "source": [
    "x = dataframe.drop(\"mag\", axis=1)  # 排除 mag 索引的列\n",
    "x  # 打印 x 的行与列"
   ]
  },
  {
   "cell_type": "code",
   "execution_count": 11,
   "id": "69f5a5da-e5d3-4e3a-8633-c8dc087e4c0c",
   "metadata": {
    "collapsed": true,
    "jupyter": {
     "outputs_hidden": true
    }
   },
   "outputs": [
    {
     "data": {
      "text/plain": [
       "0        3\n",
       "1        3\n",
       "2        1\n",
       "3        3\n",
       "4        2\n",
       "        ..\n",
       "67553    1\n",
       "67554    1\n",
       "67555    1\n",
       "67556    1\n",
       "67557    1\n",
       "Name: mag, Length: 67558, dtype: int64"
      ]
     },
     "execution_count": 11,
     "metadata": {},
     "output_type": "execute_result"
    }
   ],
   "source": [
    "y = dataframe.mag  # 仅输出 mag 索引的列\n",
    "y  # 打印 y 的行与列（此处仅含有 1 列）"
   ]
  },
  {
   "cell_type": "markdown",
   "id": "d0d3c8ce-f9f1-4a7d-b5c8-f2cfa10057e4",
   "metadata": {},
   "source": [
    "使用条件表达式索引、count() 方法与 sum() 方法"
   ]
  },
  {
   "cell_type": "code",
   "execution_count": 12,
   "id": "6313cfb4-a352-47e7-9236-f70e386b3e5b",
   "metadata": {
    "collapsed": true,
    "jupyter": {
     "outputs_hidden": true
    }
   },
   "outputs": [
    {
     "data": {
      "text/plain": [
       "22885"
      ]
     },
     "execution_count": 12,
     "metadata": {},
     "output_type": "execute_result"
    }
   ],
   "source": [
    "#y == 1\n",
    "y[y == 1].count()  # 过滤 DataFrame：count() 方法统计输出值为 1 的个数\n",
    "#(y == 1).sum()  # 不过滤 DataFrame：sum() 方法统计输出值为 1 的个数"
   ]
  },
  {
   "cell_type": "markdown",
   "id": "7e794024-032b-4b9c-ac63-3f2099319c63",
   "metadata": {},
   "source": [
    "利用 corr() 方法计算每一列之间的皮尔森相关系数"
   ]
  },
  {
   "cell_type": "code",
   "execution_count": 13,
   "id": "d6a14512-75fb-4e80-97c8-640efddeb241",
   "metadata": {
    "collapsed": true,
    "jupyter": {
     "outputs_hidden": true
    }
   },
   "outputs": [
    {
     "data": {
      "text/html": [
       "<style type=\"text/css\">\n",
       "#T_0cc07_row0_col0, #T_0cc07_row1_col1, #T_0cc07_row2_col2, #T_0cc07_row3_col3, #T_0cc07_row4_col4, #T_0cc07_row5_col5, #T_0cc07_row6_col6 {\n",
       "  background-color: #023858;\n",
       "  color: #f1f1f1;\n",
       "}\n",
       "#T_0cc07_row0_col1, #T_0cc07_row1_col0 {\n",
       "  background-color: #056caa;\n",
       "  color: #f1f1f1;\n",
       "}\n",
       "#T_0cc07_row0_col2, #T_0cc07_row1_col2 {\n",
       "  background-color: #e9e5f1;\n",
       "  color: #000000;\n",
       "}\n",
       "#T_0cc07_row0_col3 {\n",
       "  background-color: #e1dfed;\n",
       "  color: #000000;\n",
       "}\n",
       "#T_0cc07_row0_col4, #T_0cc07_row1_col4, #T_0cc07_row3_col4 {\n",
       "  background-color: #6da6cd;\n",
       "  color: #f1f1f1;\n",
       "}\n",
       "#T_0cc07_row0_col5, #T_0cc07_row1_col5 {\n",
       "  background-color: #7eadd1;\n",
       "  color: #f1f1f1;\n",
       "}\n",
       "#T_0cc07_row0_col6 {\n",
       "  background-color: #96b6d7;\n",
       "  color: #000000;\n",
       "}\n",
       "#T_0cc07_row1_col3 {\n",
       "  background-color: #e3e0ee;\n",
       "  color: #000000;\n",
       "}\n",
       "#T_0cc07_row1_col6 {\n",
       "  background-color: #9cb9d9;\n",
       "  color: #000000;\n",
       "}\n",
       "#T_0cc07_row2_col0 {\n",
       "  background-color: #fbf3f9;\n",
       "  color: #000000;\n",
       "}\n",
       "#T_0cc07_row2_col1 {\n",
       "  background-color: #fbf4f9;\n",
       "  color: #000000;\n",
       "}\n",
       "#T_0cc07_row2_col3, #T_0cc07_row3_col2, #T_0cc07_row4_col5, #T_0cc07_row5_col0, #T_0cc07_row5_col1, #T_0cc07_row5_col4, #T_0cc07_row5_col6 {\n",
       "  background-color: #fff7fb;\n",
       "  color: #000000;\n",
       "}\n",
       "#T_0cc07_row2_col4 {\n",
       "  background-color: #4a98c5;\n",
       "  color: #f1f1f1;\n",
       "}\n",
       "#T_0cc07_row2_col5 {\n",
       "  background-color: #80aed2;\n",
       "  color: #f1f1f1;\n",
       "}\n",
       "#T_0cc07_row2_col6 {\n",
       "  background-color: #d9d8ea;\n",
       "  color: #000000;\n",
       "}\n",
       "#T_0cc07_row3_col0 {\n",
       "  background-color: #f5eef6;\n",
       "  color: #000000;\n",
       "}\n",
       "#T_0cc07_row3_col1 {\n",
       "  background-color: #f7f0f7;\n",
       "  color: #000000;\n",
       "}\n",
       "#T_0cc07_row3_col5 {\n",
       "  background-color: #6ba5cd;\n",
       "  color: #f1f1f1;\n",
       "}\n",
       "#T_0cc07_row3_col6 {\n",
       "  background-color: #ced0e6;\n",
       "  color: #000000;\n",
       "}\n",
       "#T_0cc07_row4_col0 {\n",
       "  background-color: #f3edf5;\n",
       "  color: #000000;\n",
       "}\n",
       "#T_0cc07_row4_col1 {\n",
       "  background-color: #f4eef6;\n",
       "  color: #000000;\n",
       "}\n",
       "#T_0cc07_row4_col2 {\n",
       "  background-color: #bfc9e1;\n",
       "  color: #000000;\n",
       "}\n",
       "#T_0cc07_row4_col3 {\n",
       "  background-color: #e0dded;\n",
       "  color: #000000;\n",
       "}\n",
       "#T_0cc07_row4_col6 {\n",
       "  background-color: #8fb4d6;\n",
       "  color: #000000;\n",
       "}\n",
       "#T_0cc07_row5_col2 {\n",
       "  background-color: #eee9f3;\n",
       "  color: #000000;\n",
       "}\n",
       "#T_0cc07_row5_col3 {\n",
       "  background-color: #dfddec;\n",
       "  color: #000000;\n",
       "}\n",
       "#T_0cc07_row6_col0 {\n",
       "  background-color: #c4cbe3;\n",
       "  color: #000000;\n",
       "}\n",
       "#T_0cc07_row6_col1 {\n",
       "  background-color: #cccfe5;\n",
       "  color: #000000;\n",
       "}\n",
       "#T_0cc07_row6_col2 {\n",
       "  background-color: #e7e3f0;\n",
       "  color: #000000;\n",
       "}\n",
       "#T_0cc07_row6_col3 {\n",
       "  background-color: #dddbec;\n",
       "  color: #000000;\n",
       "}\n",
       "#T_0cc07_row6_col4 {\n",
       "  background-color: #328dbf;\n",
       "  color: #f1f1f1;\n",
       "}\n",
       "#T_0cc07_row6_col5 {\n",
       "  background-color: #adc1dd;\n",
       "  color: #000000;\n",
       "}\n",
       "</style>\n",
       "<table id=\"T_0cc07\">\n",
       "  <thead>\n",
       "    <tr>\n",
       "      <th class=\"blank level0\" >&nbsp;</th>\n",
       "      <th id=\"T_0cc07_level0_col0\" class=\"col_heading level0 col0\" >inj</th>\n",
       "      <th id=\"T_0cc07_level0_col1\" class=\"col_heading level0 col1\" >fat</th>\n",
       "      <th id=\"T_0cc07_level0_col2\" class=\"col_heading level0 col2\" >slat</th>\n",
       "      <th id=\"T_0cc07_level0_col3\" class=\"col_heading level0 col3\" >slon</th>\n",
       "      <th id=\"T_0cc07_level0_col4\" class=\"col_heading level0 col4\" >elat</th>\n",
       "      <th id=\"T_0cc07_level0_col5\" class=\"col_heading level0 col5\" >elon</th>\n",
       "      <th id=\"T_0cc07_level0_col6\" class=\"col_heading level0 col6\" >len</th>\n",
       "    </tr>\n",
       "  </thead>\n",
       "  <tbody>\n",
       "    <tr>\n",
       "      <th id=\"T_0cc07_level0_row0\" class=\"row_heading level0 row0\" >inj</th>\n",
       "      <td id=\"T_0cc07_row0_col0\" class=\"data row0 col0\" >1.000</td>\n",
       "      <td id=\"T_0cc07_row0_col1\" class=\"data row0 col1\" >0.762</td>\n",
       "      <td id=\"T_0cc07_row0_col2\" class=\"data row0 col2\" >-0.011</td>\n",
       "      <td id=\"T_0cc07_row0_col3\" class=\"data row0 col3\" >0.032</td>\n",
       "      <td id=\"T_0cc07_row0_col4\" class=\"data row0 col4\" >0.043</td>\n",
       "      <td id=\"T_0cc07_row0_col5\" class=\"data row0 col5\" >-0.040</td>\n",
       "      <td id=\"T_0cc07_row0_col6\" class=\"data row0 col6\" >0.257</td>\n",
       "    </tr>\n",
       "    <tr>\n",
       "      <th id=\"T_0cc07_level0_row1\" class=\"row_heading level0 row1\" >fat</th>\n",
       "      <td id=\"T_0cc07_row1_col0\" class=\"data row1 col0\" >0.762</td>\n",
       "      <td id=\"T_0cc07_row1_col1\" class=\"data row1 col1\" >1.000</td>\n",
       "      <td id=\"T_0cc07_row1_col2\" class=\"data row1 col2\" >-0.011</td>\n",
       "      <td id=\"T_0cc07_row1_col3\" class=\"data row1 col3\" >0.022</td>\n",
       "      <td id=\"T_0cc07_row1_col4\" class=\"data row1 col4\" >0.037</td>\n",
       "      <td id=\"T_0cc07_row1_col5\" class=\"data row1 col5\" >-0.036</td>\n",
       "      <td id=\"T_0cc07_row1_col6\" class=\"data row1 col6\" >0.238</td>\n",
       "    </tr>\n",
       "    <tr>\n",
       "      <th id=\"T_0cc07_level0_row2\" class=\"row_heading level0 row2\" >slat</th>\n",
       "      <td id=\"T_0cc07_row2_col0\" class=\"data row2 col0\" >-0.011</td>\n",
       "      <td id=\"T_0cc07_row2_col1\" class=\"data row2 col1\" >-0.011</td>\n",
       "      <td id=\"T_0cc07_row2_col2\" class=\"data row2 col2\" >1.000</td>\n",
       "      <td id=\"T_0cc07_row2_col3\" class=\"data row2 col3\" >-0.173</td>\n",
       "      <td id=\"T_0cc07_row2_col4\" class=\"data row2 col4\" >0.182</td>\n",
       "      <td id=\"T_0cc07_row2_col5\" class=\"data row2 col5\" >-0.044</td>\n",
       "      <td id=\"T_0cc07_row2_col6\" class=\"data row2 col6\" >-0.002</td>\n",
       "    </tr>\n",
       "    <tr>\n",
       "      <th id=\"T_0cc07_level0_row3\" class=\"row_heading level0 row3\" >slon</th>\n",
       "      <td id=\"T_0cc07_row3_col0\" class=\"data row3 col0\" >0.032</td>\n",
       "      <td id=\"T_0cc07_row3_col1\" class=\"data row3 col1\" >0.022</td>\n",
       "      <td id=\"T_0cc07_row3_col2\" class=\"data row3 col2\" >-0.173</td>\n",
       "      <td id=\"T_0cc07_row3_col3\" class=\"data row3 col3\" >1.000</td>\n",
       "      <td id=\"T_0cc07_row3_col4\" class=\"data row3 col4\" >0.040</td>\n",
       "      <td id=\"T_0cc07_row3_col5\" class=\"data row3 col5\" >0.045</td>\n",
       "      <td id=\"T_0cc07_row3_col6\" class=\"data row3 col6\" >0.052</td>\n",
       "    </tr>\n",
       "    <tr>\n",
       "      <th id=\"T_0cc07_level0_row4\" class=\"row_heading level0 row4\" >elat</th>\n",
       "      <td id=\"T_0cc07_row4_col0\" class=\"data row4 col0\" >0.043</td>\n",
       "      <td id=\"T_0cc07_row4_col1\" class=\"data row4 col1\" >0.037</td>\n",
       "      <td id=\"T_0cc07_row4_col2\" class=\"data row4 col2\" >0.182</td>\n",
       "      <td id=\"T_0cc07_row4_col3\" class=\"data row4 col3\" >0.040</td>\n",
       "      <td id=\"T_0cc07_row4_col4\" class=\"data row4 col4\" >1.000</td>\n",
       "      <td id=\"T_0cc07_row4_col5\" class=\"data row4 col5\" >-0.973</td>\n",
       "      <td id=\"T_0cc07_row4_col6\" class=\"data row4 col6\" >0.277</td>\n",
       "    </tr>\n",
       "    <tr>\n",
       "      <th id=\"T_0cc07_level0_row5\" class=\"row_heading level0 row5\" >elon</th>\n",
       "      <td id=\"T_0cc07_row5_col0\" class=\"data row5 col0\" >-0.040</td>\n",
       "      <td id=\"T_0cc07_row5_col1\" class=\"data row5 col1\" >-0.036</td>\n",
       "      <td id=\"T_0cc07_row5_col2\" class=\"data row5 col2\" >-0.044</td>\n",
       "      <td id=\"T_0cc07_row5_col3\" class=\"data row5 col3\" >0.045</td>\n",
       "      <td id=\"T_0cc07_row5_col4\" class=\"data row5 col4\" >-0.973</td>\n",
       "      <td id=\"T_0cc07_row5_col5\" class=\"data row5 col5\" >1.000</td>\n",
       "      <td id=\"T_0cc07_row5_col6\" class=\"data row5 col6\" >-0.272</td>\n",
       "    </tr>\n",
       "    <tr>\n",
       "      <th id=\"T_0cc07_level0_row6\" class=\"row_heading level0 row6\" >len</th>\n",
       "      <td id=\"T_0cc07_row6_col0\" class=\"data row6 col0\" >0.257</td>\n",
       "      <td id=\"T_0cc07_row6_col1\" class=\"data row6 col1\" >0.238</td>\n",
       "      <td id=\"T_0cc07_row6_col2\" class=\"data row6 col2\" >-0.002</td>\n",
       "      <td id=\"T_0cc07_row6_col3\" class=\"data row6 col3\" >0.052</td>\n",
       "      <td id=\"T_0cc07_row6_col4\" class=\"data row6 col4\" >0.277</td>\n",
       "      <td id=\"T_0cc07_row6_col5\" class=\"data row6 col5\" >-0.272</td>\n",
       "      <td id=\"T_0cc07_row6_col6\" class=\"data row6 col6\" >1.000</td>\n",
       "    </tr>\n",
       "  </tbody>\n",
       "</table>\n"
      ],
      "text/plain": [
       "<pandas.io.formats.style.Styler at 0x7f90bbb93d00>"
      ]
     },
     "execution_count": 13,
     "metadata": {},
     "output_type": "execute_result"
    }
   ],
   "source": [
    "corrM = dataframe[[\"inj\",\"fat\",\"slat\",\"slon\",\"elat\",\"elon\",\"len\"]].corr()\n",
    "corrM.style.background_gradient().format(precision=3)"
   ]
  },
  {
   "cell_type": "markdown",
   "id": "6a236f01-076e-4fd5-ba5c-ad03bb8f12f5",
   "metadata": {},
   "source": [
    "### Matplotlib"
   ]
  },
  {
   "cell_type": "markdown",
   "id": "ca7e2d74-9462-46b2-abb4-472d426b68cc",
   "metadata": {},
   "source": [
    "三次函数示例"
   ]
  },
  {
   "cell_type": "code",
   "execution_count": 14,
   "id": "1c66eac4-0a7d-46b0-b9a6-c56c2ebc1092",
   "metadata": {
    "collapsed": true,
    "jupyter": {
     "outputs_hidden": true
    },
    "scrolled": true
   },
   "outputs": [
    {
     "data": {
      "image/png": "[encoded data removed]",
      "text/plain": [
       "<Figure size 640x480 with 1 Axes>"
      ]
     },
     "metadata": {},
     "output_type": "display_data"
    },
    {
     "name": "stdout",
     "output_type": "stream",
     "text": [
      "CPU times: user 149 ms, sys: 130 ms, total: 279 ms\n",
      "Wall time: 206 ms\n"
     ]
    }
   ],
   "source": [
    "%%time\n",
    "import numpy as np\n",
    "import matplotlib.pyplot as plt\n",
    "\n",
    "x = np.array([1, 2, 3, 4, 5, 6, 7, 8, 9, 10])\n",
    "y = x ** 3\n",
    "\n",
    "plt.plot(x, y)\n",
    "plt.xlabel('x')\n",
    "plt.ylabel('y')\n",
    "plt.show()"
   ]
  },
  {
   "cell_type": "markdown",
   "id": "fcb52c2f-2bd7-4a1d-a061-64098ebfc555",
   "metadata": {},
   "source": [
    "正弦函数示例"
   ]
  },
  {
   "cell_type": "code",
   "execution_count": 15,
   "id": "ff8d5951-ffea-4f97-9b3b-0e59d78a8297",
   "metadata": {
    "collapsed": true,
    "editable": true,
    "jupyter": {
     "outputs_hidden": true
    },
    "scrolled": true,
    "slideshow": {
     "slide_type": ""
    },
    "tags": []
   },
   "outputs": [
    {
     "data": {
      "image/png": "[encoded data removed]",
      "text/plain": [
       "<Figure size 640x480 with 1 Axes>"
      ]
     },
     "metadata": {},
     "output_type": "display_data"
    },
    {
     "name": "stdout",
     "output_type": "stream",
     "text": [
      "CPU times: user 76.4 ms, sys: 131 ms, total: 208 ms\n",
      "Wall time: 101 ms\n"
     ]
    }
   ],
   "source": [
    "%%time\n",
    "# 魔法命令（单元格命令）将后续作为参数\n",
    "import numpy as np\n",
    "import matplotlib.pyplot as plt\n",
    "\n",
    "fig, ax = plt.subplots()\n",
    "ax.plot(x, y)\n",
    "\n",
    "x = np.arange(0, 7, 0.1)\n",
    "y = np.sin(x)\n",
    "\n",
    "ax.spines['left'].set_position('zero')\n",
    "ax.spines['bottom'].set_position('zero')\n",
    "\n",
    "plt.plot(x, y)\n",
    "plt.xlabel('x')\n",
    "plt.ylabel('y')\n",
    "plt.show()"
   ]
  },
  {
   "cell_type": "markdown",
   "id": "8f9e2ea4-0db9-4e21-8a69-ef05f9df896f",
   "metadata": {},
   "source": [
    "## 参考链接"
   ]
  },
  {
   "cell_type": "markdown",
   "id": "f431120d-5540-4220-a1d4-2e22ebf0b8d2",
   "metadata": {},
   "source": [
    "[现今的机器学习介绍](https://opensource.com/article/17/9/introduction-machine-learning)"
   ]
  },
  {
   "cell_type": "markdown",
   "id": "70b3be14-70b2-4c66-a189-c5034d503751",
   "metadata": {},
   "source": [
    "[什么是 MLOps？](https://www.redhat.com/en/topics/ai/what-is-mlops)"
   ]
  },
  {
   "cell_type": "markdown",
   "id": "1418347b-4f96-431a-840c-1949d221f4da",
   "metadata": {},
   "source": [
    "[红帽 AI/ML 与 MLOps 客户成功故事](https://www.redhat.com/en/blog/red-hat-ai/ml-and-mlops-customer-success-stories)"
   ]
  },
  {
   "cell_type": "markdown",
   "id": "a7ac2063-fc6c-49b3-8cfb-7408a5581b66",
   "metadata": {},
   "source": [
    "[开发人员与数据科学家的五大协作方式](https://www.redhat.com/en/resources/top-5-ways-developers-collaborate-checklist)"
   ]
  },
  {
   "cell_type": "markdown",
   "id": "0c717e3b-e2f2-489f-b8dd-e91bc25284ab",
   "metadata": {},
   "source": [
    "[Jupyter 项目主页](https://jupyter.org/)"
   ]
  },
  {
   "cell_type": "markdown",
   "id": "e7bc0c23-c62d-4551-87b1-30ea01d626aa",
   "metadata": {},
   "source": [
    "[JupyterLab 文档](https://jupyterlab.readthedocs.io/en/3.6.x/index.html)"
   ]
  },
  {
   "cell_type": "markdown",
   "id": "86ee042d-0f7d-433e-9683-a878ddff1493",
   "metadata": {},
   "source": [
    "[ipykernel](https://docs.jupyter.org/en/latest/projects/kernels.html#term-ipykernel)"
   ]
  },
  {
   "cell_type": "markdown",
   "id": "1a95933a-55f1-4031-9e45-00b0a72123f5",
   "metadata": {},
   "source": [
    "[Jupyter 内核列表](https://github.com/jupyter/jupyter/wiki/Jupyter-kernels)"
   ]
  },
  {
   "cell_type": "markdown",
   "id": "2548743f-d700-4b5e-9442-4733f2976bf3",
   "metadata": {},
   "source": [
    "[Jupyter 内置魔法命令](https://ipython.readthedocs.io/en/stable/interactive/magics.html)"
   ]
  },
  {
   "cell_type": "markdown",
   "id": "14bba970-c828-4b5f-90d2-d4f0a3d7a0c8",
   "metadata": {},
   "source": [
    "[Git 工作流](https://nvie.com/posts/a-successful-git-branching-model/)"
   ]
  },
  {
   "cell_type": "markdown",
   "id": "25e669a8-def0-4c4d-8ba7-66d2dde7436d",
   "metadata": {},
   "source": [
    "[GitHub 工作流](https://docs.github.com/en/get-started/using-github/github-flow)"
   ]
  },
  {
   "cell_type": "markdown",
   "id": "70298df1-6701-4303-9f24-15e25ac587e4",
   "metadata": {},
   "source": [
    "[基于主干的开发](https://trunkbaseddevelopment.com/)"
   ]
  },
  {
   "cell_type": "markdown",
   "id": "298b7a23-5a20-4f6c-a09b-50b99b1cc283",
   "metadata": {},
   "source": [
    "[jupyterlab-git: 使用 Git 进行版本控制的 JupyterLab 扩展](https://github.com/jupyterlab/jupyterlab-git)"
   ]
  },
  {
   "cell_type": "markdown",
   "id": "2a3a750e-5b5c-4471-847d-e2ef79ed709a",
   "metadata": {},
   "source": [
    "[nbdime: 比较和合并 Jupyter Notebook](https://nbdime.readthedocs.io/en/stable/)"
   ]
  }
 ],
 "metadata": {
  "kernelspec": {
   "display_name": "Python 3 (ipykernel)",
   "language": "python",
   "name": "python3"
  },
  "language_info": {
   "codemirror_mode": {
    "name": "ipython",
    "version": 3
   },
   "file_extension": ".py",
   "mimetype": "text/x-python",
   "name": "python",
   "nbconvert_exporter": "python",
   "pygments_lexer": "ipython3",
   "version": "3.10.12"
  }
 },
 "nbformat": 4,
 "nbformat_minor": 5
}
