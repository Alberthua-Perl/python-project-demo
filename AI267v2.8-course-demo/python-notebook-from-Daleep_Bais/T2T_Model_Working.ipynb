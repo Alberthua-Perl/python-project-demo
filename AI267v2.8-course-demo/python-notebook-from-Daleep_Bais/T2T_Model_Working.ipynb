{
 "cells": [
  {
   "cell_type": "code",
   "execution_count": 1,
   "id": "e3088b1f-2c74-4db0-827d-f1dd06341425",
   "metadata": {
    "papermill": {
     "duration": 5.890558,
     "end_time": "2024-06-24T05:13:54.921634",
     "exception": false,
     "start_time": "2024-06-24T05:13:49.031076",
     "status": "completed"
    },
    "tags": []
   },
   "outputs": [
    {
     "name": "stderr",
     "output_type": "stream",
     "text": [
      "/home/dbais/.local/lib/python3.12/site-packages/langchain_core/_api/deprecation.py:139: LangChainDeprecationWarning: The class `HuggingFacePipeline` was deprecated in LangChain 0.0.37 and will be removed in 0.3. An updated version of the class exists in the langchain-huggingface package and should be used instead. To use it run `pip install -U langchain-huggingface` and import as `from langchain_huggingface import HuggingFacePipeline`.\n",
      "  warn_deprecated(\n"
     ]
    }
   ],
   "source": [
    "from langchain.llms import HuggingFacePipeline\n",
    "from langchain import PromptTemplate, HuggingFaceHub, LLMChain\n",
    "import torch\n",
    "from transformers import AutoTokenizer, AutoModelForCausalLM, pipeline, AutoModelForSeq2SeqLM\n",
    "\n",
    "model_id = 'google/flan-t5-large'\n",
    "tokenizer = AutoTokenizer.from_pretrained(model_id)\n",
    "model = AutoModelForSeq2SeqLM.from_pretrained(model_id)\n",
    "\n",
    "pipeline = pipeline(\n",
    "    \"text2text-generation\",\n",
    "    model=model, \n",
    "    tokenizer=tokenizer, \n",
    "    max_length=128\n",
    ")\n",
    "\n",
    "local_llm = HuggingFacePipeline(pipeline=pipeline)"
   ]
  },
  {
   "cell_type": "code",
   "execution_count": 2,
   "id": "ee291f46-9d0e-4536-a145-e7d019f73ff3",
   "metadata": {
    "papermill": {
     "duration": 0.006934,
     "end_time": "2024-06-24T05:13:54.930003",
     "exception": false,
     "start_time": "2024-06-24T05:13:54.923069",
     "status": "completed"
    },
    "tags": []
   },
   "outputs": [],
   "source": [
    "template = \"\"\"Question: {question}\n",
    "\n",
    "Answer: Let's think step by step.\"\"\"\n",
    "\n",
    "prompt = PromptTemplate(template=template, input_variables=[\"question\"])"
   ]
  },
  {
   "cell_type": "code",
   "execution_count": 4,
   "id": "fd63e43f-4e8b-4c72-a7c4-d43d63ac1a0b",
   "metadata": {
    "papermill": {
     "duration": 5.109046,
     "end_time": "2024-06-24T05:14:00.040116",
     "exception": false,
     "start_time": "2024-06-24T05:13:54.931070",
     "status": "completed"
    },
    "tags": []
   },
   "outputs": [
    {
     "name": "stdout",
     "output_type": "stream",
     "text": [
      "Thailand is a country in Southeast Asia. Southeast Asia is a region of Southeast Asia. Southeast Asia is a region of Southeast Asia. So the answer is Southeast Asia.\n"
     ]
    }
   ],
   "source": [
    "llm_chain = LLMChain(prompt=prompt, \n",
    "                     llm=local_llm\n",
    "                     )\n",
    "\n",
    "question = \"What is Thailand?\"\n",
    "\n",
    "print(llm_chain.run(question))"
   ]
  }
 ],
 "metadata": {
  "kernelspec": {
   "display_name": "Python 3 (ipykernel)",
   "language": "python",
   "name": "python3"
  },
  "language_info": {
   "codemirror_mode": {
    "name": "ipython",
    "version": 3
   },
   "file_extension": ".py",
   "mimetype": "text/x-python",
   "name": "python",
   "nbconvert_exporter": "python",
   "pygments_lexer": "ipython3",
   "version": "3.12.3"
  },
  "papermill": {
   "default_parameters": {},
   "duration": 12.766937,
   "end_time": "2024-06-24T05:14:01.164924",
   "environment_variables": {},
   "exception": null,
   "input_path": "/home/dbais/Downloads/newllm/T2T_Model_Working.ipynb",
   "output_path": "/home/dbais/Downloads/newllm/T2T_Model_Working.ipynb",
   "parameters": {},
   "start_time": "2024-06-24T05:13:48.397987",
   "version": "2.6.0"
  }
 },
 "nbformat": 4,
 "nbformat_minor": 5
}
