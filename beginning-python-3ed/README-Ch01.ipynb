{
 "cells": [
  {
   "cell_type": "markdown",
   "id": "0ab2cc31-be33-41e0-b5a3-eee45c735e25",
   "metadata": {},
   "source": [
    "# 第 1 章  快速上手：基础知识"
   ]
  },
  {
   "cell_type": "markdown",
   "id": "5ab265f0-47b4-4f01-9570-e79127e98339",
   "metadata": {},
   "source": [
    "## 变量、语句"
   ]
  },
  {
   "cell_type": "markdown",
   "id": "ebaba367-645b-4b82-814c-4593f4dc41ed",
   "metadata": {},
   "source": [
    "- Python 交互提示符中可直接提供十六进制、八进制与二进制数，返回十进制的值。\n",
    "- Python 中的变量名称称为标识符\n",
    "- 区分表达式与语句：表达式是一些东西，语句做一些事情。\n",
    "- 取模运算（求余数）的示例："
   ]
  },
  {
   "cell_type": "code",
   "execution_count": 2,
   "id": "52155e26-8943-44ef-9df7-8584dadd7b7b",
   "metadata": {},
   "outputs": [
    {
     "name": "stdout",
     "output_type": "stream",
     "text": [
      "Now full ten minutes!\n"
     ]
    }
   ],
   "source": [
    "time = 40\n",
    "if time % 10 == 0:\n",
    "  print(\"Now full ten minutes!\")\n",
    "else:\n",
    "  print(\"Not full ten minutes!\")"
   ]
  },
  {
   "cell_type": "code",
   "execution_count": 3,
   "id": "9c130f7d-3c16-452f-9326-b5ac1dd6777b",
   "metadata": {},
   "outputs": [
    {
     "name": "stdout",
     "output_type": "stream",
     "text": [
      "Not full ten minutes!\n"
     ]
    }
   ],
   "source": [
    "time = 43\n",
    "if time % 10 == 0:\n",
    "  print(\"Now full ten minutes!\")\n",
    "else:\n",
    "  print(\"Not full ten minutes!\")\n",
    "# 以上两个示例用于判断当前的分钟是否为整十分，如果为整十，那么可被 10 整除。"
   ]
  },
  {
   "cell_type": "markdown",
   "id": "056f52d1-0cb6-49e5-8d8f-c6e6d9782205",
   "metadata": {},
   "source": [
    "## 获取用户输入、函数与模块"
   ]
  },
  {
   "cell_type": "markdown",
   "id": "5b65b34c-43a3-4d5e-9863-f35926da015f",
   "metadata": {},
   "source": [
    "- 内置函数：  \n",
    "  - help([object])：提供交互式帮助\n",
    "  - print(object, ...)：将提供的实参打印出来，转译特殊字符，并用空格分隔，如 print(\"Hello world!\")。  \n",
    "  - input(prompt)：给定参数（实参），以标准输出打印，阻塞等待用户的输入，返回用户输入的字符串。\n",
    "  - pow(m, n)：返回计算 m 的 n 次方"
   ]
  },
  {
   "cell_type": "code",
   "execution_count": 4,
   "id": "37cd32dc-7eab-46c9-854b-19eb6f4b1385",
   "metadata": {
    "collapsed": true,
    "jupyter": {
     "outputs_hidden": true
    }
   },
   "outputs": [
    {
     "name": "stdin",
     "output_type": "stream",
     "text": [
      "Type one number:  35\n"
     ]
    },
    {
     "data": {
      "text/plain": [
       "'35'"
      ]
     },
     "execution_count": 4,
     "metadata": {},
     "output_type": "execute_result"
    }
   ],
   "source": [
    "input(\"Type one number: \")"
   ]
  },
  {
   "cell_type": "markdown",
   "id": "17708889-a2c1-41e7-a810-b1a58349c64b",
   "metadata": {},
   "source": [
    "- 类型转换函数：\n",
    "  - int()：转换浮点数为整形数（向下取整）  \n",
    "  - round(number[, ndigits])：将浮点数取整到最接近的整形数，四舍五入为指定的精度，正好为 5 时舍入到偶数，如 `round(3.853234245435, 2)` 返回 3.85。\n",
    "  - abs(number)：返回指定数的绝对值  \n",
    "  - math.floor(number)：使用 math 模块中的 floor 函数将浮点数向下取整，如 `math.floor(34.5)` 返回 34。  \n",
    "  - math.ceil(number)：使用 math 模块中的 ceil 函数将浮点数向上取整，如 `ath.ceil(36.3)` 返回 37。\n",
    "  - math.sqrt(number)：返回数的平方根（不可用于负数）\n",
    "  - cmath.sqrt(number)：返回数的平方根（可用于负数）"
   ]
  },
  {
   "cell_type": "code",
   "execution_count": 5,
   "id": "26a4626c-70dd-431b-977b-34e600e2dfb5",
   "metadata": {},
   "outputs": [
    {
     "data": {
      "text/plain": [
       "34"
      ]
     },
     "execution_count": 5,
     "metadata": {},
     "output_type": "execute_result"
    }
   ],
   "source": [
    "import math\n",
    "math.floor(34.5)\n",
    "# 方法1：返回 34"
   ]
  },
  {
   "cell_type": "code",
   "execution_count": 6,
   "id": "bb5ceaf6-48c8-4d1d-8a7a-97f26e8bad02",
   "metadata": {},
   "outputs": [
    {
     "data": {
      "text/plain": [
       "34"
      ]
     },
     "execution_count": 6,
     "metadata": {},
     "output_type": "execute_result"
    }
   ],
   "source": [
    "from math import floor\n",
    "floor(34.5)\n",
    "# 方法2：返回 34"
   ]
  },
  {
   "cell_type": "markdown",
   "id": "e38ad170-408a-45b8-8f1b-f2680dc189f5",
   "metadata": {},
   "source": [
    "- 以上两种语法格式相互等同，第 2 种方法 `from module import function` 避免了每次调用 math 模块时的冗余，不指定模块前缀。\n",
    "- 由于 Python 中处理复数的模块也用 sqrt 函数，因此，直接使用 from cmath import sqrt 方式可能和使用 from math import sqrt 中的 sqrt 函数冲突。因此，依然建议直接使用 import。"
   ]
  },
  {
   "cell_type": "markdown",
   "id": "c6f856fa-9472-4198-b16e-d8407e8be432",
   "metadata": {},
   "source": [
    "> 注意：\n",
    "> 1. 浮点数在 int、round 等函数中总是向下取整\n",
    "> 2. Java 是完全面向对象的语言，函数在 Java 中以方法的形式使用，因此，在 import 导入包中文件后，定义声明新对象或使用 this 引用方法。\n",
    "> 3. Python 是面向过程且支持面向对象的语言，具有内置函数库，因此，在使用函数时可直接调用函数或使用 `module.function` 调用外部模块中的函数。"
   ]
  },
  {
   "cell_type": "markdown",
   "id": "0e8ac9ec-5c44-420a-8275-7822666858b7",
   "metadata": {},
   "source": [
    "- float(object) 类：将字符串或数字转换为浮点数。"
   ]
  },
  {
   "cell_type": "markdown",
   "id": "4bc65a46-e3d8-412c-8317-8dc8152f8dc4",
   "metadata": {},
   "source": [
    "## 字符串"
   ]
  },
  {
   "cell_type": "markdown",
   "id": "9fcfbef4-0733-47fb-b5f3-83b19ba47367",
   "metadata": {},
   "source": [
    "- Python3 中所有字符串都是 Unicode 字符串\n",
    "- 反斜杠转译说明：使用 `\\` 转译单引号表示其本身"
   ]
  },
  {
   "cell_type": "code",
   "execution_count": 7,
   "id": "6156d798-f1ab-44f7-abe1-4ad046424186",
   "metadata": {},
   "outputs": [
    {
     "ename": "SyntaxError",
     "evalue": "unterminated string literal (detected at line 1) (2744493770.py, line 1)",
     "output_type": "error",
     "traceback": [
      "\u001b[1;36m  Cell \u001b[1;32mIn[7], line 1\u001b[1;36m\u001b[0m\n\u001b[1;33m    Let's say \"Hello world!\"\u001b[0m\n\u001b[1;37m       ^\u001b[0m\n\u001b[1;31mSyntaxError\u001b[0m\u001b[1;31m:\u001b[0m unterminated string literal (detected at line 1)\n"
     ]
    }
   ],
   "source": [
    "Let's say \"Hello world!\""
   ]
  },
  {
   "cell_type": "code",
   "execution_count": 8,
   "id": "a70d6d18-1c97-4631-a6a8-3f1672e35afe",
   "metadata": {},
   "outputs": [
    {
     "ename": "SyntaxError",
     "evalue": "unterminated string literal (detected at line 1) (4229304456.py, line 1)",
     "output_type": "error",
     "traceback": [
      "\u001b[1;36m  Cell \u001b[1;32mIn[8], line 1\u001b[1;36m\u001b[0m\n\u001b[1;33m    'Let's say \"Hello world!\"'\u001b[0m\n\u001b[1;37m                             ^\u001b[0m\n\u001b[1;31mSyntaxError\u001b[0m\u001b[1;31m:\u001b[0m unterminated string literal (detected at line 1)\n"
     ]
    }
   ],
   "source": [
    "'Let's say \"Hello world!\"'"
   ]
  },
  {
   "cell_type": "code",
   "execution_count": 9,
   "id": "7d4c848f-49e3-4b28-9ef6-ebdc59cdf43a",
   "metadata": {},
   "outputs": [
    {
     "data": {
      "text/plain": [
       "'Let\\'s say \"Hello world!\"'"
      ]
     },
     "execution_count": 9,
     "metadata": {},
     "output_type": "execute_result"
    }
   ],
   "source": [
    "'Let\\'s say \"Hello world!\"'"
   ]
  },
  {
   "cell_type": "markdown",
   "id": "cf16fb93-e989-4f0e-a714-d39dfce93714",
   "metadata": {},
   "source": [
    "- 常规字符串也可横跨多行。只要在行尾加上反斜杠，反斜杠和换行符将被转义，即被忽略。\n",
    "- 字符串合并操作符：`+`"
   ]
  },
  {
   "cell_type": "code",
   "execution_count": 10,
   "id": "aa6b7b2c-a0f8-44a1-8e07-49d7e24dd60a",
   "metadata": {},
   "outputs": [
    {
     "data": {
      "text/plain": [
       "'Hello world!'"
      ]
     },
     "execution_count": 10,
     "metadata": {},
     "output_type": "execute_result"
    }
   ],
   "source": [
    "x = 'Hello'\n",
    "y = 'world!'\n",
    "x + ' ' + y"
   ]
  },
  {
   "cell_type": "markdown",
   "id": "3c12e06a-3ce9-48bb-9975-8ab2bcd58b1a",
   "metadata": {},
   "source": [
    "- Python 打印所有的字符串时，都用引号将其括起。这是因为 Python 打印值时，保留其在代码中的样子，而不是希望用户看到的样子。\n",
    "- 直接使用交互式提示符打印字符串与 print 函数打印存在差异，前者返回值使用引号，而后者不使用引号并解释特殊字符。\n",
    "- 字符串相关函数与类：\n",
    "  - str(object) 类：将指定的值转换为字符串。用于转换 bytes 时，可指定编码和错误处理方式。\n",
    "  - repr(object) 函数：返回指定值的字符串表示"
   ]
  },
  {
   "cell_type": "code",
   "execution_count": 11,
   "id": "648653e0-4077-4007-9232-7367ff142f44",
   "metadata": {},
   "outputs": [
    {
     "name": "stdout",
     "output_type": "stream",
     "text": [
      "Hello,\n",
      "world!\n"
     ]
    }
   ],
   "source": [
    "print(str(\"Hello,\\nworld!\"))"
   ]
  },
  {
   "cell_type": "code",
   "execution_count": 12,
   "id": "bd8a81c3-6d7c-4d6a-a7ba-239fb057ba41",
   "metadata": {},
   "outputs": [
    {
     "name": "stdout",
     "output_type": "stream",
     "text": [
      "'Hello,\\nworld!'\n"
     ]
    }
   ],
   "source": [
    "print(repr(\"Hello,\\nworld!\"))"
   ]
  },
  {
   "cell_type": "markdown",
   "id": "a3d41247-1724-4a58-927b-4b48367e3b2e",
   "metadata": {},
   "source": [
    "- 三引号（单引号与双引号均可）让解释器能够识别表示字符串开始和结束位置的引号，因此字符串本身可包含单引号和双引号，无需使用反斜杠进行转义。\n",
    "- 保留特殊字符本身："
   ]
  },
  {
   "cell_type": "code",
   "execution_count": 17,
   "id": "b2441ac1-4bef-4eb7-8982-694e83ef18b8",
   "metadata": {},
   "outputs": [
    {
     "name": "stdout",
     "output_type": "stream",
     "text": [
      "C:\\Program Files\f",
      "nord\f",
      "oaaz\f",
      "rozozz\n"
     ]
    },
    {
     "name": "stderr",
     "output_type": "stream",
     "text": [
      "<>:1: SyntaxWarning: invalid escape sequence '\\P'\n",
      "<>:1: SyntaxWarning: invalid escape sequence '\\P'\n",
      "C:\\Users\\hualf\\AppData\\Local\\Temp\\ipykernel_14156\\2708545279.py:1: SyntaxWarning: invalid escape sequence '\\P'\n",
      "  print(\"C:\\Program Files\\fnord\\foo\\bar\\baz\\frozz\\bozz\")\n"
     ]
    }
   ],
   "source": [
    "print(\"C:\\Program Files\\fnord\\foo\\bar\\baz\\frozz\\bozz\")"
   ]
  }
 ],
 "metadata": {
  "kernelspec": {
   "display_name": "Python 3 (ipykernel)",
   "language": "python",
   "name": "python3"
  },
  "language_info": {
   "codemirror_mode": {
    "name": "ipython",
    "version": 3
   },
   "file_extension": ".py",
   "mimetype": "text/x-python",
   "name": "python",
   "nbconvert_exporter": "python",
   "pygments_lexer": "ipython3",
   "version": "3.12.2"
  }
 },
 "nbformat": 4,
 "nbformat_minor": 5
}
