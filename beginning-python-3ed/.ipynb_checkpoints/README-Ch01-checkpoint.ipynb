{
 "cells": [
  {
   "cell_type": "markdown",
   "id": "0ab2cc31-be33-41e0-b5a3-eee45c735e25",
   "metadata": {},
   "source": [
    "# 第 1 章  快速上手：基础知识"
   ]
  },
  {
   "cell_type": "markdown",
   "id": "5ab265f0-47b4-4f01-9570-e79127e98339",
   "metadata": {},
   "source": [
    "## 变量、语句"
   ]
  },
  {
   "cell_type": "markdown",
   "id": "ebaba367-645b-4b82-814c-4593f4dc41ed",
   "metadata": {},
   "source": [
    "- Python 交互提示符中可直接提供十六进制、八进制与二进制数，返回十进制的值。\n",
    "- Python 中的变量名称称为标识符\n",
    "- 区分表达式与语句：表达式是一些东西，语句做一些事情。\n",
    "- 取模运算（求余数）的示例："
   ]
  },
  {
   "cell_type": "code",
   "execution_count": 2,
   "id": "52155e26-8943-44ef-9df7-8584dadd7b7b",
   "metadata": {},
   "outputs": [
    {
     "name": "stdout",
     "output_type": "stream",
     "text": [
      "Now full ten minutes!\n"
     ]
    }
   ],
   "source": [
    "time = 40\n",
    "if time % 10 == 0:\n",
    "  print(\"Now full ten minutes!\")\n",
    "else:\n",
    "  print(\"Not full ten minutes!\")"
   ]
  },
  {
   "cell_type": "code",
   "execution_count": 3,
   "id": "9c130f7d-3c16-452f-9326-b5ac1dd6777b",
   "metadata": {},
   "outputs": [
    {
     "name": "stdout",
     "output_type": "stream",
     "text": [
      "Not full ten minutes!\n"
     ]
    }
   ],
   "source": [
    "time = 43\n",
    "if time % 10 == 0:\n",
    "  print(\"Now full ten minutes!\")\n",
    "else:\n",
    "  print(\"Not full ten minutes!\")\n",
    "# 以上两个示例用于判断当前的分钟是否为整十分，如果为整十，那么可被 10 整除。"
   ]
  },
  {
   "cell_type": "markdown",
   "id": "056f52d1-0cb6-49e5-8d8f-c6e6d9782205",
   "metadata": {},
   "source": [
    "## 获取用户输入、函数与模块"
   ]
  },
  {
   "cell_type": "markdown",
   "id": "5b65b34c-43a3-4d5e-9863-f35926da015f",
   "metadata": {},
   "source": [
    "- 内置函数：  \n",
    "  - help([object])：提供交互式帮助\n",
    "  - print(object, ...)：将提供的实参打印出来，转译特殊字符，并用空格分隔，如 print(\"Hello world!\")。  \n",
    "  - input(prompt)：给定参数（实参），以标准输出打印，阻塞等待用户的输入，返回用户输入的字符串。\n",
    "  - pow(m, n)：返回计算 m 的 n 次方"
   ]
  },
  {
   "cell_type": "code",
   "execution_count": 4,
   "id": "37cd32dc-7eab-46c9-854b-19eb6f4b1385",
   "metadata": {},
   "outputs": [
    {
     "name": "stdin",
     "output_type": "stream",
     "text": [
      "Type one number:  35\n"
     ]
    },
    {
     "data": {
      "text/plain": [
       "'35'"
      ]
     },
     "execution_count": 4,
     "metadata": {},
     "output_type": "execute_result"
    }
   ],
   "source": [
    "input(\"Type one number: \")"
   ]
  },
  {
   "cell_type": "markdown",
   "id": "17708889-a2c1-41e7-a810-b1a58349c64b",
   "metadata": {},
   "source": [
    "  "
   ]
  }
 ],
 "metadata": {
  "kernelspec": {
   "display_name": "Python 3 (ipykernel)",
   "language": "python",
   "name": "python3"
  },
  "language_info": {
   "codemirror_mode": {
    "name": "ipython",
    "version": 3
   },
   "file_extension": ".py",
   "mimetype": "text/x-python",
   "name": "python",
   "nbconvert_exporter": "python",
   "pygments_lexer": "ipython3",
   "version": "3.12.2"
  }
 },
 "nbformat": 4,
 "nbformat_minor": 5
}
