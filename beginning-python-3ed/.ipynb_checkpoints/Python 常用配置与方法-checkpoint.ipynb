{
 "cells": [
  {
   "cell_type": "markdown",
   "id": "a1ed7e40-bffc-45ff-82d0-97b17d60ecad",
   "metadata": {},
   "source": [
    "# **Python 常用配置方法**"
   ]
  },
  {
   "cell_type": "markdown",
   "id": "4cba5206-04e4-4455-b4ee-039d01386268",
   "metadata": {},
   "source": [
    "## Python 学习快速入门"
   ]
  },
  {
   "cell_type": "markdown",
   "id": "ebc3bb79-a81e-4b30-8b00-2a45890148aa",
   "metadata": {},
   "source": [
    "![python-learning-pic](images/python-learning-pic.jpg)"
   ]
  },
  {
   "cell_type": "markdown",
   "id": "d73e75e6-2824-4a40-b2f2-5d3ee4f60257",
   "metadata": {},
   "source": [
    "## Python 正则表达式汇总"
   ]
  },
  {
   "cell_type": "markdown",
   "id": "3197780a-4e83-4f57-8711-4e741d8090a0",
   "metadata": {},
   "source": [
    "该正则表达式可适用于 `Ansible Playbook` 的模块中。"
   ]
  },
  {
   "cell_type": "markdown",
   "id": "4e95f21e-69b5-452a-bedd-45b9e35be38d",
   "metadata": {},
   "source": [
    "![python-regular-expression](images/python-regular-expression.jpg)"
   ]
  },
  {
   "cell_type": "markdown",
   "id": "18a0bff5-484a-432a-baac-e75814432009",
   "metadata": {},
   "source": [
    "## 查看 Python 内置函数使用说明"
   ]
  },
  {
   "cell_type": "markdown",
   "id": "041a9f66-d490-49a4-a122-99e94b63f0bf",
   "metadata": {},
   "source": [
    "![python-buildin-function-info](images/python-buildin-function-info.jpg)"
   ]
  },
  {
   "cell_type": "markdown",
   "id": "1159c0f9-3c01-44d3-a1d4-9f40c435cb3c",
   "metadata": {},
   "source": [
    "## Python3 模块管理工具：pip3"
   ]
  },
  {
   "cell_type": "markdown",
   "id": "4ea81dd1-dc72-454b-b7d2-4e895fe0c6c2",
   "metadata": {},
   "source": [
    "### 安装 pip3 模块管理工具（该软件包无依赖的软件包）"
   ]
  },
  {
   "cell_type": "raw",
   "id": "cfdb19a5-ea06-4aa9-bd7a-1b3db8698575",
   "metadata": {},
   "source": [
    "$ sudo yum install -y python3-pip"
   ]
  },
  {
   "cell_type": "markdown",
   "id": "358aea73-63d9-4fc3-8f1a-80df38d08341",
   "metadata": {},
   "source": [
    "### pip3 搜索 Python 模块"
   ]
  },
  {
   "cell_type": "raw",
   "id": "7a0a7c1d-7389-4c65-8eb9-d91faea04b4f",
   "metadata": {},
   "source": [
    "$ pip3 search docker-py\n",
    "# 搜索 docker-py 模块，该模块为 Ansible 中的 docker_image 模块所依赖。"
   ]
  },
  {
   "cell_type": "markdown",
   "id": "7a3730ad-521b-45b1-b935-67344acf6aaa",
   "metadata": {},
   "source": [
    "### 安装 Python 模块"
   ]
  },
  {
   "cell_type": "markdown",
   "id": "a980b3b9-6bc9-41f2-bb11-9f74d26ba9ea",
   "metadata": {},
   "source": [
    "#### **方法一：** pip3 安装指定的 Python 模块"
   ]
  },
  {
   "cell_type": "raw",
   "id": "31ce74d1-d4b2-4fd9-82bf-6b64514f20e8",
   "metadata": {},
   "source": [
    "$ pip3 install docker-py\n",
    "# 安装 docker-py 模块\n",
    "\n",
    "$ pip3 install uncompyle\n",
    "# 安装 Python 反编译模块 uncompyle"
   ]
  },
  {
   "cell_type": "markdown",
   "id": "cbf396f9-453b-4bba-af62-0147b399e148",
   "metadata": {},
   "source": [
    "![pip-install-uncompyle-module](images/pip-install-uncompyle-module.jpg)"
   ]
  },
  {
   "cell_type": "markdown",
   "id": "b9229fd9-dc23-4df6-9fbc-08a6cd82175c",
   "metadata": {},
   "source": [
    "#### **方法二：** 使用模块源代码安装"
   ]
  },
  {
   "cell_type": "raw",
   "id": "c115b05f-a9cd-4244-96b5-033ea670fd89",
   "metadata": {},
   "source": [
    "$ python setup.py install\n",
    "# 使用 python 模块中的 setup.py 脚本安装模块"
   ]
  },
  {
   "cell_type": "markdown",
   "id": "8743e138-6eef-48bf-9b44-e6eed69046e4",
   "metadata": {},
   "source": [
    "### 升级 pip3"
   ]
  },
  {
   "cell_type": "raw",
   "id": "9b58a44c-fb4e-413a-9fda-eba10e6790f9",
   "metadata": {},
   "source": [
    "$ python3 -m pip install --upgrade pip\n",
    "$ pip3 install --upgrade pip\n",
    "# 以上2个命令效果等同"
   ]
  },
  {
   "cell_type": "markdown",
   "id": "92044ce0-5831-4880-96a4-9e380471a402",
   "metadata": {},
   "source": [
    "![upgrade-pip](images/upgrade-pip.jpg)"
   ]
  },
  {
   "cell_type": "markdown",
   "id": "e8e38cd6-9986-4dfc-bab5-7f70b439635d",
   "metadata": {},
   "source": [
    "![win10-upgrade-pip](images/win10-upgrade-pip.jpg)"
   ]
  },
  {
   "cell_type": "markdown",
   "id": "db840307-fc6a-4d5d-9540-84d02567c4fe",
   "metadata": {},
   "source": [
    "## 配置 pip3 模块安装源"
   ]
  },
  {
   "cell_type": "markdown",
   "id": "49531c82-71b9-4133-9146-1b1105afad66",
   "metadata": {},
   "source": [
    "pip3 模块安装源默认情况下使用 Python 官方源下载安装，常由于网络问题而超时中断，因此可替换源 URL，加速模块的下载安装。"
   ]
  },
  {
   "cell_type": "markdown",
   "id": "d0a639fa-d36f-4c61-a331-e05a8a2185b2",
   "metadata": {},
   "source": [
    "**方法一：** 代码替换"
   ]
  },
  {
   "cell_type": "raw",
   "id": "454098b0-ccca-4512-8306-a46668b03589",
   "metadata": {},
   "source": [
    "$ pip3 config set global.index-url https://mirrors.aliyun.com/pypi/simple\n",
    "$ pip3 config set install.trusted-host mirrors.aliyun.com\n",
    "$ pip3 -v config list\n",
    "# 查看更新后的 pip3 模块安装源"
   ]
  },
  {
   "cell_type": "markdown",
   "id": "37160589-2b54-4ef9-a063-c212bd79bc46",
   "metadata": {},
   "source": [
    "**方法二：** 手动替换"
   ]
  },
  {
   "cell_type": "raw",
   "id": "08bd99be-9e3d-4b88-b11c-ff67fed58f3a",
   "metadata": {},
   "source": [
    "$ mkdir $HOME/.pip\n",
    "$ mkdir $HOME/.config/pip\n",
    "# 以上两个目录均可存储 pip.conf 配置文件\n",
    "# 当前用户环境中使用 pip3\n",
    "\n",
    "$ vim $HOME/.pip/pip.conf\n",
    "[global]\n",
    "index-url=https://mirrors.aliyun.com/pypi/simple/\n",
    "[install]\n",
    "trusted-host=mirrors.aliyun.com\n",
    "\n",
    "$ pip3 -v config list"
   ]
  }
 ],
 "metadata": {
  "kernelspec": {
   "display_name": "Python 3 (ipykernel)",
   "language": "python",
   "name": "python3"
  },
  "language_info": {
   "codemirror_mode": {
    "name": "ipython",
    "version": 3
   },
   "file_extension": ".py",
   "mimetype": "text/x-python",
   "name": "python",
   "nbconvert_exporter": "python",
   "pygments_lexer": "ipython3",
   "version": "3.12.2"
  }
 },
 "nbformat": 4,
 "nbformat_minor": 5
}
