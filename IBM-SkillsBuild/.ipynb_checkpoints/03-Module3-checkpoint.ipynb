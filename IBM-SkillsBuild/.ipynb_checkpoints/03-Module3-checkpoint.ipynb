{
 "cells": [
  {
   "cell_type": "markdown",
   "id": "4ccf4728-45f5-496d-b9d7-3b76e8ed94e5",
   "metadata": {},
   "source": [
    "# Module3: Chatbots use NLP to interact with humans"
   ]
  },
  {
   "cell_type": "markdown",
   "id": "8e388cfa-6158-4b5b-93d0-fef4ce45e716",
   "metadata": {},
   "source": [
    "## Chatbot structure（聊天机器人结构）"
   ]
  },
  {
   "cell_type": "markdown",
   "id": "49198f5f-7eac-4def-bf68-efb0aca1cb41",
   "metadata": {},
   "source": [
    "如果你在网上点击聊天按钮，遇到了一个非人类聊天机器人，你可能会注意到两件事：\n",
    "\n",
    "- 当你问一个与网站目的相关的明确问题时，比如问一个购物聊天机器人 \"我怎样才能退款？\" 它通常会给你一个与你的问题相关的回答。\n",
    "- 当你问一个不清楚或与网站目的无关的问题时，比如问购物聊天机器人 \"有给妹妹的票吗？\" 对方的回答多半是 \"对不起，我没听懂你的问题。\""
   ]
  },
  {
   "cell_type": "markdown",
   "id": "4942e483-77b0-480f-a805-d2bc75710e03",
   "metadata": {},
   "source": [
    "之所以会出现这种情况，是因为聊天机器人被编程为只能回答有关特定主题的有限问题。"
   ]
  },
  {
   "cell_type": "markdown",
   "id": "8b6b6d8f-761c-4bf6-a7d6-1d16cdc555c3",
   "metadata": {},
   "source": [
    "即使有这样的限制，聊天机器人在从零售到即时护理医学等领域都很有用。你可以随时在线与聊天机器人交流。聊天机器人总是准备好回答你的问题（即使它不能回答你）。一些机构经常使用聊天机器人，因为它们不像电视广告那样播放广告。当人们与它们互动时，聊天机器人会倾听，并回答一些重复的问题，否则企业就需要付钱给人类来处理这些问题。"
   ]
  },
  {
   "cell_type": "markdown",
   "id": "077b4154-53ec-44ac-b59f-ebfdfd29781c",
   "metadata": {},
   "source": [
    "聊天机器人处理小数据（small data）。这意味着它们的规模要有限得多。一家连锁电影公司的聊天机器人可能只需要回答有关电影名称、地点和时间的问题，而搜索社交媒体的更通用的人工智能可能需要回答有关数百万人想法的广泛问题。人工智能研究人员表示，聊天机器人 \"以小数据为食\"。"
   ]
  },
  {
   "cell_type": "markdown",
   "id": "44693f3b-96ed-472d-b5e9-44e0c6581cdc",
   "metadata": {},
   "source": [
    "### A chatbot has a \"frontend\" and a \"backend\"（聊天机器人有前端与后端）"
   ]
  },
  {
   "cell_type": "markdown",
   "id": "5d29b816-ac8b-4ec1-b594-c13ad262fe9e",
   "metadata": {},
   "source": [
    "- 聊天机器人的前端是消息传递通道。前端与提问的人进行交互，包括听（或读）和说（或呈现文本）。\n",
    "- 聊天机器人的后端是进行艰苦工作的地方。后端操作应用程序逻辑，并且有足够的内存在对话继续进行时记住对话的早期部分。"
   ]
  },
  {
   "cell_type": "markdown",
   "id": "1e72b898-827e-4763-b68c-7f14b0056572",
   "metadata": {},
   "source": [
    "## The chatbot backend（聊天机器人后端）"
   ]
  },
  {
   "cell_type": "markdown",
   "id": "e4e044a9-c733-4b90-a8ff-07a5aaed407d",
   "metadata": {},
   "source": [
    "### 聊天机器人的后端完成了理解和响应的艰苦工作"
   ]
  },
  {
   "cell_type": "markdown",
   "id": "7bcb87e9-f603-45dc-9a78-2a214a73edf0",
   "metadata": {},
   "source": [
    "原文：A chatbot’s backend does the hard work of understanding and responding"
   ]
  },
  {
   "cell_type": "markdown",
   "id": "08ac8f77-5f8a-4617-94d6-6c2dc2113bef",
   "metadata": {},
   "source": [
    "假设聊天机器人的部分工作是在你丢失或忘记密码时帮助你。您可以输入 \"我如何重置我的密码\"，这对聊天机器人来说很容易处理。为了描述这个动作，聊天机器人程序员可能会这样思考："
   ]
  },
  {
   "cell_type": "raw",
   "id": "2db4616d-eefd-4683-b032-1d6229c1b577",
   "metadata": {},
   "source": [
    "IF question = \"How do I reset my password\"\n",
    "THEN reply = \"Here’s how to create a new password\""
   ]
  },
  {
   "cell_type": "markdown",
   "id": "b7493621-9023-449c-a7d6-7e52eccae045",
   "metadata": {},
   "source": [
    "但人类并不总是那么容易理解。他们可能会问或输入：\n",
    "\n",
    "- \"How come I can’t log into my account?!\"\n",
    "- \"I forgot my @#$ password!\"\n",
    "- \"It says my password is wrong.\"\n",
    "- \"fergot paswrd\""
   ]
  },
  {
   "cell_type": "markdown",
   "id": "75c6f799-931b-4914-9e66-729a113d0aca",
   "metadata": {},
   "source": [
    "这告诉您，一个聊天机器人响应（\"这就是创建新密码的方式\"）可以由大量用户查询（包括列出的所有查询，以及更多）触发。"
   ]
  },
  {
   "cell_type": "markdown",
   "id": "9b0ea8d0-c13e-4a6a-89ac-698dfd4d8d56",
   "metadata": {},
   "source": [
    "这对于分类器算法（**classifiers**）来说是一项伟大的工作。分类器可以将许多不同的提问方式映射到非常小的一组答案。多小? 一些零售聊天机器人对数百个不同的问题做出回应，只有五到六个可能的答案。聊天机器人无法回答的问题会被发送给人类客户服务代表。"
   ]
  },
  {
   "cell_type": "markdown",
   "id": "11e1f65d-bdc7-4205-8014-fe5cc6efc901",
   "metadata": {},
   "source": [
    "## Intents, entities, and dialog（意图、实体和对话）"
   ]
  },
  {
   "cell_type": "markdown",
   "id": "a35880f8-96fe-4e21-adf8-34b50598e727",
   "metadata": {},
   "source": [
    "### 聊天机器人后端通常包括三个部分：意图、实体和对话"
   ]
  },
  {
   "cell_type": "markdown",
   "id": "48f1e6ed-5a4b-45c0-a3dc-0cac079a7574",
   "metadata": {},
   "source": [
    "原文：A chatbot backend usually includes three parts: intents, entities, and dialog"
   ]
  },
  {
   "cell_type": "markdown",
   "id": "5211e85c-e032-4387-ae68-0cf0ab66e5eb",
   "metadata": {},
   "source": [
    "聊天机器人通过将问题分解成几个部分，并将这些部分与记忆中的事物联系起来来理解问题。聊天机器人的目标是识别所谓的实体（entities）和意图（intents），然后使用发现的内容触发对话（dialog）。这些术语是什么意思？"
   ]
  },
  {
   "cell_type": "markdown",
   "id": "0794c63a-4be6-4dfb-9bde-70106140c961",
   "metadata": {},
   "source": [
    "**意图**（Intent）：\n",
    "- 意图是一种目的：用户联系聊天机器人的原因。\n",
    "- 把它想象成一个动词：一种动作。\n",
    "- 用户可能打算提出投诉，询问方向，与销售人员交谈。"
   ]
  },
  {
   "cell_type": "markdown",
   "id": "61f325a8-6a3c-4365-947d-21b6399e95da",
   "metadata": {},
   "source": [
    "一个机构可能有许多客户或成员的意图，它希望聊天机器人来处理。假设您受聘为一家连锁餐厅创建聊天机器人。一个可能的目的是找出餐馆什么时候开门。你可以先采访一个以前在电话中处理过这类问题的人。然后，你的任务是列出来电者可能询问餐馆何时营业的所有不同方式。下表提供了许多映射到这种意图的可能的用户输入示例。"
   ]
  },
  {
   "cell_type": "markdown",
   "id": "61a19839-be0d-4a4d-b2fd-3fce1d768042",
   "metadata": {},
   "source": [
    "![intent-example](images/intent-example.png)"
   ]
  },
  {
   "cell_type": "markdown",
   "id": "7dd8a07d-3bfb-42b6-8825-ba55a81f9263",
   "metadata": {},
   "source": [
    "**实体**（Entity）：\n",
    "- 实体是一个名词：一个人、一个地方或一件事。"
   ]
  },
  {
   "cell_type": "markdown",
   "id": "e7253ca3-7f46-4021-97ac-2b9662074f6a",
   "metadata": {},
   "source": [
    "如果用户问：\"Austin 的营业时间是什么时候？\"，那么提供营业时间就是目的，而 Austin 就是实体。聊天机器人需要一个完整的实体列表才能提供帮助。\n",
    "\n",
    "下表列出了映射到上一个连锁餐厅示例的意图和可能的用户输入的实体示例。"
   ]
  },
  {
   "cell_type": "markdown",
   "id": "158dc54c-9984-402c-baa3-1ad262f63a3e",
   "metadata": {},
   "source": [
    "![entity-example](images/entity-example.png)"
   ]
  },
  {
   "cell_type": "markdown",
   "id": "f8bf2373-849a-48d4-bc08-5afc2b78f321",
   "metadata": {},
   "source": [
    "**对话**（Dialog）：\n",
    "- 对话是一个流程图 —— 一个 IF / THEN 树状结构，说明了机器将如何响应用户意图。\n",
    "- 对话是机器在人类提出问题后的回答。\n",
    "- 即使一个人使用了不连贯的句子、蹩脚的语法、聊天消息表达等等，人工智能也能让 NL P理解得足够好，从而提供回应。"
   ]
  },
  {
   "cell_type": "markdown",
   "id": "eae42e96-edc7-449a-b36d-1a7963fe5e24",
   "metadata": {},
   "source": [
    "对话表示用户可能输入的每个可能的单词或短语、与聊天机器人匹配的响应，以及用户接下来可能做出的许多后续回复。对于普通的流程图来说，这太多了（你可能需要三到四个维度！），所以聊天机器人软件将对话的每个时刻浓缩成一个节点（**node**）。**节点包含聊天机器人的一条语句和一长串可扩展的可能回复列表。**"
   ]
  },
  {
   "cell_type": "markdown",
   "id": "786bf0cb-72b8-4348-80d6-05d40882f99a",
   "metadata": {},
   "source": [
    "规划这个流程图将是一次冒险！在聊天机器人发出问候后，您需要为每个可能的用户输入分配一个回复。对于餐厅营业时间的例子，关于餐厅营业时间的所有可能问题将导致一个单一的回答。下一个问题（可能是餐馆的地址）将继续这样做，以此类推。**大量可能的问题会被映射到少量可能的答案上，直到对话结束。**"
   ]
  }
 ],
 "metadata": {
  "kernelspec": {
   "display_name": "Python 3 (ipykernel)",
   "language": "python",
   "name": "python3"
  },
  "language_info": {
   "codemirror_mode": {
    "name": "ipython",
    "version": 3
   },
   "file_extension": ".py",
   "mimetype": "text/x-python",
   "name": "python",
   "nbconvert_exporter": "python",
   "pygments_lexer": "ipython3",
   "version": "3.12.2"
  }
 },
 "nbformat": 4,
 "nbformat_minor": 5
}
