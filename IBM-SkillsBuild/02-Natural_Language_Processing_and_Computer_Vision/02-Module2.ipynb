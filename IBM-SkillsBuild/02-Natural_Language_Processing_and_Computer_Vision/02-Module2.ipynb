{
 "cells": [
  {
   "cell_type": "markdown",
   "id": "e5b3a3b1-5361-4a9b-bf14-956b0d0b876d",
   "metadata": {},
   "source": [
    "# Module2: AI performs natural language processing"
   ]
  },
  {
   "cell_type": "markdown",
   "id": "844d49bd-4e61-4f8d-8c7d-3d281c9bf5b5",
   "metadata": {},
   "source": [
    "## NLP sentence segmentation and tokens"
   ]
  },
  {
   "cell_type": "markdown",
   "id": "5c097379-02ee-444e-aa64-84b0ee337387",
   "metadata": {},
   "source": [
    "### 自然语言处理"
   ]
  },
  {
   "cell_type": "markdown",
   "id": "feac868b-a8e6-43ae-9893-946460a75258",
   "metadata": {},
   "source": [
    "计算机最擅长处理结构化数据，在这些数据中，一切都被整齐地分组和标记。不幸的是，对于机器来说，人类语言根本不是结构化的。你一生中大部分时间都在使用语言。你的大脑通过一些地球上最复杂的神经回路来完成这一点。但是要制造出能够处理人类语言的机器是非常困难的。"
   ]
  },
  {
   "cell_type": "markdown",
   "id": "feb4a808-08bc-459a-b12b-7a729d430ec5",
   "metadata": {},
   "source": [
    "### **在 NLP 中，机器将句子分段，并从人类语言的 \"符号\" 中提取意义**"
   ]
  },
  {
   "cell_type": "markdown",
   "id": "271a61d8-b98c-4a22-a545-e7d12b79dd93",
   "metadata": {},
   "source": [
    "原文：In NLP, machines segment sentences and extract meaning from \"tokens\" of human language."
   ]
  },
  {
   "cell_type": "markdown",
   "id": "6cb0b758-a700-41fc-ba17-86a35dd54be6",
   "metadata": {},
   "source": [
    "人类的语言是非结构化的。尽管我们的语言是由语法规则松散地结合在一起的，但它表达信息的方式却令人困惑。与结构化信息不同的是，结构化信息可以排列在带有整齐标记的行和列的表格或矩阵中，非结构化信息混乱且难以理解。想知道为什么，想想格劳乔·马克思的这个著名笑话。"
   ]
  },
  {
   "cell_type": "markdown",
   "id": "be3552e7-5aa0-4a11-a60a-e5867737a4f6",
   "metadata": {},
   "source": [
    "为了处理非结构化信息的 \"混乱（messiness）\"，计算机每次从一个句子开始。这被称为句子切分（**sentence segmentation**）。然后，计算机将这些信息分解成小块信息，称为词元（**tokens**），这些信息可以单独分类。一旦文本中的标记根据其含义被分类成一个结构，NLP 就可以处理它们。\n",
    "\n",
    "下面的活动向您展示了如何将 Groucho Marx 的笑话标记为称为实体（**entities**）和关系（**relationships**）的有用类别。在你继续学习的过程中，你会学到这些单词的意思。"
   ]
  },
  {
   "cell_type": "markdown",
   "id": "67d1ab47-3a52-478f-a97c-b8fc6c0f3ffb",
   "metadata": {},
   "source": [
    "![entity-relationship-concept-1](images/entity-relationship-concept-1.png)"
   ]
  },
  {
   "cell_type": "markdown",
   "id": "3316a062-8d35-43ae-84f4-2c15dc0678c6",
   "metadata": {},
   "source": [
    "**实体**（entity）：实体是一个名词，代表一个人、一个地方或一件事。它不是形容词、动词或其他冠词。\n",
    "\n",
    "> 以上的实体：I, elephant, pajamas"
   ]
  },
  {
   "cell_type": "markdown",
   "id": "30a56c5b-e4d5-4270-83fb-9497ad663252",
   "metadata": {},
   "source": [
    "**关系**（relationship）：关系是由两个或多个**实体**组成的一组，它们彼此之间有很强的联系。\n",
    "\n",
    "> 以上的关系包括：I+elephant, elephant+pajamas, I+pajamas"
   ]
  },
  {
   "cell_type": "markdown",
   "id": "78478d61-d867-4630-a80b-544411b1ecc1",
   "metadata": {},
   "source": [
    "一旦人工智能对文本或语音中的实体和关系进行了分类，人工智能就可以开始构建信息，作为理解信息的一步。顺便说一下，你的大脑也在做同样的事情，这可能帮助你在之前的活动中找到实体和关系。"
   ]
  },
  {
   "cell_type": "markdown",
   "id": "50e63a37-dcec-4578-a56f-a5f2ed05260c",
   "metadata": {},
   "source": [
    "例如，考虑下面的两个句子：\"Armen broke the glass. He always breaks the glass.\" 注意这两个句子之间的关系：单词 \"he\" 和单词 \"Armen\" 有关。机器使用 NLP 来识别这种关系。"
   ]
  },
  {
   "cell_type": "markdown",
   "id": "dad87ae4-63f8-4426-822e-7e3195afa813",
   "metadata": {},
   "source": [
    "**概念**（concepts）：概念是指在句子中隐含但没有实际陈述的东西。这是比较棘手的，因为它涉及到匹配的想法，而不是特定的单词出现在句子中。"
   ]
  },
  {
   "cell_type": "markdown",
   "id": "bc7a1504-e99e-4929-8104-3538ae3d5554",
   "metadata": {},
   "source": [
    "![entity-relationship-concept-2](images/entity-relationship-concept-2.png)"
   ]
  },
  {
   "cell_type": "markdown",
   "id": "cc586a9a-82ee-435a-8793-c563ad4138a7",
   "metadata": {},
   "source": [
    "以上的 Safari, Photographed 与 Rifle 虽然在原句中未明确指出，但从上下文含义中可进行推测。"
   ]
  },
  {
   "cell_type": "markdown",
   "id": "0cf60150-06ff-4bd8-a7fd-14869a6ebf1e",
   "metadata": {},
   "source": [
    "## Emotion detection and sentiment analysis (情感检测与情感分析)"
   ]
  },
  {
   "cell_type": "markdown",
   "id": "a5b66aab-1e03-48e8-85e5-31b76a94b0bb",
   "metadata": {},
   "source": [
    "### 情感检测与情感分析不是同一件事"
   ]
  },
  {
   "cell_type": "markdown",
   "id": "4a52dc71-d807-4d33-ab2f-bbc41c10eab2",
   "metadata": {},
   "source": [
    "虽然情绪和情绪处理的是感觉，而不是事实或行为，但区分它们可以帮助人工智能更好地理解句子。"
   ]
  },
  {
   "cell_type": "markdown",
   "id": "19b77166-ba30-42bc-96ac-472eeac6ecc0",
   "metadata": {},
   "source": [
    "👉 情感检测（**emotion detection**）识别不同的人类情感类型。\n",
    "\n",
    "例如，您可以在阅读在线客户满意度调查中的用户评分和评论后确定所表达的情绪是愤怒，快乐还是恐惧。\n",
    "\n",
    "人工智能可以被训练来对情绪进行分类。当人工智能系统在阅读社交媒体帖子或客服聊天时，识别正确的情感符号会产生很大的影响，在这些情况下，不同的情绪会显著改变句子的含义。"
   ]
  },
  {
   "cell_type": "markdown",
   "id": "76878857-bbb0-4ed7-8cdb-3da508b02d86",
   "metadata": {},
   "source": [
    "👉 情感分析（**sentiment analysis**）并不是一种特定的情感 —— 至少不是计算机科学家使用的术语。相反，它是一种情绪强度的衡量标准。\n",
    "\n",
    "你可以把情绪想象成一个介于积极和消极之间的刻度，中性在中间。\n",
    "\n",
    "情绪分析是一种评估数据是积极的、消极的还是中性的方法。"
   ]
  },
  {
   "cell_type": "markdown",
   "id": "69b24c00-748c-4c73-9c4f-45157c1ae1de",
   "metadata": {},
   "source": [
    "## The classification problem（分类问题）"
   ]
  },
  {
   "cell_type": "markdown",
   "id": "96e229be-5555-40f4-8da6-b137320d9874",
   "metadata": {},
   "source": [
    "### 人类语言使得分类具有挑战性"
   ]
  },
  {
   "cell_type": "markdown",
   "id": "e4456204-5d78-4fc2-b79c-90d1d050755e",
   "metadata": {},
   "source": [
    "考虑这个老式谜语：Why does your nose run and your feet smell?"
   ]
  },
  {
   "cell_type": "markdown",
   "id": "e30ee342-53a2-483a-b928-d2e70e2bda8d",
   "metadata": {},
   "source": [
    "人类语言中充满了**含糊不清**或具有**双重含义**的术语。这被称为分类问题（**classification problem**）。在这个谜语中，run 和 smell 各有两个意思。\n",
    "\n",
    "\"A runny nose（流鼻涕）\" 的意思是你感冒了，需要用纸巾擦鼻子。\n",
    "\"A smelly foot（臭脚）\" 的意思是你的脚有一种难闻的气味。"
   ]
  },
  {
   "cell_type": "markdown",
   "id": "b59eb54d-16af-4c95-aaf6-56b81921b997",
   "metadata": {},
   "source": [
    "你可能只需要花一点时间就能理解这个笑话，但人工智能系统可能很难对其元素进行分类。考虑一下这些例子：\n",
    "\n",
    "原文：\n",
    "- You can **ship** a box by train.\n",
    "- When a building **burns down**, it **burns up**.\n",
    "- You can **fill in** a form by **filling it out**.\n",
    "- A wise **guy** is not the same as a wise **person**.\n",
    "\n",
    "译文：\n",
    "- 你可以用火车运一个箱子。\n",
    "- 当一座建筑物被烧毁时，它就会被烧毁。\n",
    "- 你可以填一下表格。\n",
    "- 聪明的家伙和聪明的人是不一样的。"
   ]
  },
  {
   "cell_type": "markdown",
   "id": "b2a68b25-3758-47ce-acf3-1707710bf3d2",
   "metadata": {},
   "source": [
    "对于人工智能系统来说，分类可能比识别标记更困难，因为分类在很大程度上取决于句子所包含的**上下文**。比较 **I went to the docks to ship my box** 和 **I went to the station to ship my box**。这两个句子都指出了箱子的移动从哪里开始，但都没有说明它将如何移动。AI 系统必须将单词 ship 与单词 station 或 docks 联系起来，然后将其与正确的概念（train 或 ship）联系起来。"
   ]
  },
  {
   "cell_type": "markdown",
   "id": "bf3acee6-6059-4671-b613-884f0b1e2b1a",
   "metadata": {},
   "source": [
    "人工智能系统如何处理这个问题？在收集了数千个从码头发货到乘船旅行，而从车站发货到铁路运输的实例后，人工智能系统识别出地点和旅行类型相关联的频率。渐渐地，系统的分类能力越来越好，出错的次数也越来越少。然而，与人类一样，人工智能系统的分类永远不会 100% 完美。（这就是为什么设计良好的人工智能系统不仅会给出响应，还会给出置信度 (confidence value)。）"
   ]
  }
 ],
 "metadata": {
  "kernelspec": {
   "display_name": "Python 3 (ipykernel)",
   "language": "python",
   "name": "python3"
  },
  "language_info": {
   "codemirror_mode": {
    "name": "ipython",
    "version": 3
   },
   "file_extension": ".py",
   "mimetype": "text/x-python",
   "name": "python",
   "nbconvert_exporter": "python",
   "pygments_lexer": "ipython3",
   "version": "3.10.12"
  }
 },
 "nbformat": 4,
 "nbformat_minor": 5
}
