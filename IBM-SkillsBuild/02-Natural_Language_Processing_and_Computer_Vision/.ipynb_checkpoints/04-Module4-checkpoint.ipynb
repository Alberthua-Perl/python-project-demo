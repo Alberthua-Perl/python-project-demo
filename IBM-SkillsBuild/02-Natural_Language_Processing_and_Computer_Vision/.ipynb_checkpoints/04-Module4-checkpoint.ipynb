{
 "cells": [
  {
   "cell_type": "markdown",
   "id": "37461e95-c4d6-429d-b144-aa38c69539a5",
   "metadata": {},
   "source": [
    "# Module4: AI classifies images"
   ]
  },
  {
   "cell_type": "markdown",
   "id": "5b332934-c999-4761-8996-a15335cd90a0",
   "metadata": {},
   "source": [
    "- 本模块介绍卷积神经网络（CNN）的使用场景，可查看 [YOUTUBE](https://cdn.embedly.com/widgets/media.html?src=https%3A%2F%2Fwww.youtube.com%2Fembed%2FQzY57FaENXg%3Ffeature%3Doembed&display_name=YouTube&url=https%3A%2F%2Fwww.youtube.com%2Fwatch%3Fv%3DQzY57FaENXg&image=https%3A%2F%2Fi.ytimg.com%2Fvi%2FQzY57FaENXg%2Fhqdefault.jpg&key=40cb30655a7f4a46adaaf18efb05db21&type=text%2Fhtml&schema=youtube) 加以了解。"
   ]
  },
  {
   "cell_type": "markdown",
   "id": "88807f7e-0af3-48e5-9fae-00c523969b4b",
   "metadata": {},
   "source": [
    "- 🐱‍💻 以上视频并未具体展开其内部的原理与实现过程，为了能更加深入地理解 CNN 的结构与工作原理，可查看此 [GitHub 链接](https://github.com/Alberthua-Perl/python-project-demo/blob/develop/machine-learning-practice/%E5%9F%BA%E4%BA%8E%20TensorFlow%20%E5%AE%9E%E7%8E%B0%20CNN%20%E6%89%8B%E5%86%99%E6%95%B0%E5%AD%97%E8%AF%86%E5%88%AB/%E5%9F%BA%E4%BA%8E%20TensorFlow%20%E5%AE%9E%E7%8E%B0%20CNN%20%E6%89%8B%E5%86%99%E6%95%B0%E5%AD%97%E8%AF%86%E5%88%AB.ipynb)，实现 \"**基于 TensorFlow 实现 CNN 手写数字识别**\"。"
   ]
  }
 ],
 "metadata": {
  "kernelspec": {
   "display_name": "Python 3 (ipykernel)",
   "language": "python",
   "name": "python3"
  },
  "language_info": {
   "codemirror_mode": {
    "name": "ipython",
    "version": 3
   },
   "file_extension": ".py",
   "mimetype": "text/x-python",
   "name": "python",
   "nbconvert_exporter": "python",
   "pygments_lexer": "ipython3",
   "version": "3.12.2"
  }
 },
 "nbformat": 4,
 "nbformat_minor": 5
}
