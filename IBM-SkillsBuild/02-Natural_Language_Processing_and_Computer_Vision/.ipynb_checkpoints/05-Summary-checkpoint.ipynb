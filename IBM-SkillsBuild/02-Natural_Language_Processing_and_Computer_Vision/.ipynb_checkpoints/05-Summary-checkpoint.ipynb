{
 "cells": [
  {
   "cell_type": "markdown",
   "id": "da2460a0-53b0-4c82-8ba4-0e89611dcab3",
   "metadata": {},
   "source": [
    "# Summary: Key points to remember"
   ]
  },
  {
   "cell_type": "markdown",
   "id": "26db2c0f-e0ba-463d-867f-a1994f5df6a1",
   "metadata": {},
   "source": [
    "- 机器需要称为自然语言处理（NLP）的系统来理解人类语言。人类的语言是非结构化的。在 NLP 中，机器将句子分割成小块的信息，称为标记（token）。机器将标记（token）分类和排序到一个结构中，这样 NLP 就可以使用它们来提取意义。  \n",
    "- IBM Project Debater 的目标是建立一个人工智能系统，帮助人们在答案不明显的困难话题上做出基于证据、无偏见的决定。\n",
    "- 辩手 AI 系统的四个步骤包括：\n",
    "  - 第一步：学习和理解主题\n",
    "  - 第二步：建立立场\n",
    "  - 第三步：组织你的证明\n",
    "  - 第四步：回应你的对手\n",
    "- 情感检测识别不同的人类情感类型。人工智能可以被训练来对情绪进行分类。\n",
    "- 情绪分析是一种衡量情绪强度的方法。它的结果是评估数据是积极的、消极的还是中性的。\n",
    "- 聊天机器人已经准备好回答您的问题！\n",
    "  - 前端与提出问题的人交互。它可以听（或读）和说（或呈现文本）。\n",
    "  - 后端操作应用程序逻辑，并且有足够的内存在对话继续进行时记住对话的早期部分。\n",
    "- 聊天机器人识别实体和意图，然后使用它找到的内容触发对话。\n",
    "  - 意图是一个目的，或者用户联系聊天机器人的原因。把它想象成一个动词或要采取的行动。\n",
    "  - 实体是指人、地点或事物。把它当作一个名词。\n",
    "  - 对话框是一个流程图，说明了聊天机器人对用户意图的回应。\n",
    "- 利用卷积神经网络（CNN），AI 系统可以分析图像。通过生成对抗网络（GAN），AI 系统可以创建新的绘图和照片。\n",
    "- 自然语言处理和计算机视觉是扩展人类专业知识的有效途径。"
   ]
  }
 ],
 "metadata": {
  "kernelspec": {
   "display_name": "Python 3 (ipykernel)",
   "language": "python",
   "name": "python3"
  },
  "language_info": {
   "codemirror_mode": {
    "name": "ipython",
    "version": 3
   },
   "file_extension": ".py",
   "mimetype": "text/x-python",
   "name": "python",
   "nbconvert_exporter": "python",
   "pygments_lexer": "ipython3",
   "version": "3.12.2"
  }
 },
 "nbformat": 4,
 "nbformat_minor": 5
}
