{
 "cells": [
  {
   "cell_type": "markdown",
   "id": "32191c80-3d1b-41aa-81b0-93ac9f858219",
   "metadata": {},
   "source": [
    "# Module1: The Debater Project"
   ]
  },
  {
   "cell_type": "markdown",
   "id": "6dea8691-26de-4aa5-bc38-7129f97b2002",
   "metadata": {},
   "source": [
    "## AI 能赢得辩论吗？"
   ]
  },
  {
   "cell_type": "markdown",
   "id": "0c7c23a5-c0d9-4d39-8187-9ea633107f0c",
   "metadata": {},
   "source": [
    "如果你问一个人工智能系统一个关于它已经训练过的话题的问题，它可以查找一个答案。智力竞赛节目 Jeopardy！多年前，我就证明了这一点。但是，人工智能系统能否进行持续的对话，并对每次交流的内容做出回应？让我们把这个问题变得更难：人工智能能在与人类专家就一个复杂话题的辩论中获胜吗？要回答这个问题，考虑一个著名的实验，然后学习人工智能如何与口语和书面语合作。"
   ]
  },
  {
   "cell_type": "markdown",
   "id": "8970dbe1-bdd9-4ba2-834a-5b801167f7eb",
   "metadata": {},
   "source": [
    "IBM 于 2012 年开始开发 \"辩手项目（**Project Debater**）\"，希望制造出一台不仅仅能赢得与人类辩论的机器。换句话说，IBM Project Debater 需要能够做的不仅仅是用人类语言回答问题；它需要有能力倾听人类提出的一系列竞争性论点，并对它们做出智能回应。IBM 的最终目标是建立一个系统，帮助人们在答案不明显的困难话题上做出基于证据、无偏见的决定。"
   ]
  },
  {
   "cell_type": "markdown",
   "id": "46c0dea0-87c3-4d9b-9c83-4d56ee45a24b",
   "metadata": {},
   "source": [
    "## 辩论步骤"
   ]
  },
  {
   "cell_type": "markdown",
   "id": "b16eb74f-8427-44ad-934f-d3a32da6d6eb",
   "metadata": {},
   "source": [
    "### 赢得一场辩论的4个步骤"
   ]
  },
  {
   "cell_type": "markdown",
   "id": "65c281e7-adea-48f6-b8e7-683da9925e37",
   "metadata": {},
   "source": [
    "为了感受赢得辩论需要什么，试着把自己放在人工智能的位置上。怎样才能让你聪明地与人类对手辩论？"
   ]
  },
  {
   "cell_type": "markdown",
   "id": "ad170232-3179-416e-bd1e-14563a01dd87",
   "metadata": {},
   "source": [
    "### 你将如何思考呢？"
   ]
  },
  {
   "cell_type": "markdown",
   "id": "ab642e93-991a-48b1-b217-3985491fe4f2",
   "metadata": {},
   "source": [
    "辩论的4个步骤：学习和理解主题，建立一个立场，组织你的证据，回应你的对手"
   ]
  },
  {
   "cell_type": "markdown",
   "id": "f8d6728e-add2-4946-925d-9aabe56566b6",
   "metadata": {},
   "source": [
    "- 1️⃣ 学习和理解主题：从报纸、书籍和期刊上阅读几十亿个段落。（人工智能研究人员将这种学习材料的集合称为语料库。）然后，构建所有内容，以便您可以将概念相互关联并评估它们，即使它们以不同的方式陈述。"
   ]
  },
  {
   "cell_type": "markdown",
   "id": "31675fa2-9747-432a-8431-8dba53f25988",
   "metadata": {},
   "source": [
    "- 2️⃣ 建立一个立场：用从语料库中粘贴出来的短段文本创建一个开场白。你的演讲应该详细说明你对辩论主题的立场。它不可能是一堆乱七八糟的短语。它必须提出一个令人信服的论点，合乎逻辑的顺序，使用良好的语法。"
   ]
  },
  {
   "cell_type": "markdown",
   "id": "c60f909b-ed13-49d0-969b-c559f481113e",
   "metadata": {},
   "source": [
    "- 3️⃣ 组织你的证据：了解围绕你的主题的事实的更深层次的含义。决定什么证据是最有力的，并按主题安排你的证据。每次有新证据时，都要调整你的安排。这将帮助你找到最新的或全新的信息，可以对你的对手的立场得分。"
   ]
  },
  {
   "cell_type": "markdown",
   "id": "bbe37e87-4de2-4dc9-8e8e-2b78184d0df0",
   "metadata": {},
   "source": [
    "- 4️⃣ 回应你的对手：倾听你的对手的论点和反驳，然后给出一个令人信服的反驳，反驳你的对手，进一步证明你的观点。"
   ]
  },
  {
   "cell_type": "markdown",
   "id": "f9838792-e423-4cb3-b33f-822f0f70859a",
   "metadata": {},
   "source": [
    "👉 为什么我们要关注这四个步骤？因为它们反映和测试了**认知系统**所做的四件事："
   ]
  },
  {
   "cell_type": "markdown",
   "id": "d3c425f3-2d80-489b-9dea-065788aa4ba2",
   "metadata": {},
   "source": [
    "![NLPandVision_CognitiveSystems_en](module1-images/NLPandVision_CognitiveSystems_en.jpg)"
   ]
  },
  {
   "cell_type": "markdown",
   "id": "85f105af-59dc-43ac-a06a-95d5b8d84288",
   "metadata": {},
   "source": [
    "## 自然语言处理的步骤"
   ]
  },
  {
   "cell_type": "markdown",
   "id": "607671d9-5601-498f-96c9-67cf0809f55f",
   "metadata": {},
   "source": [
    "### 理解自然语言是困难的吗？"
   ]
  },
  {
   "cell_type": "markdown",
   "id": "edcd9c82-9274-4a67-ac9c-599a510a8311",
   "metadata": {},
   "source": [
    "理解人类语言是很困难的，即使对那些伴随语言长大的人来说也是如此。人类的语言极其复杂，充满了似乎相互矛盾的奇怪表达，需要文化知识才能理解的隐喻，以及有时将简单的想法变成绕口令的语法结构。机器需要研究科学家称之为自然语言处理（NLP）的系统来理解人类语言。IBM Project Debater 是 IBM 研究院为理解人类语言而构建的最复杂的人工智能系统。"
   ]
  },
  {
   "cell_type": "markdown",
   "id": "265a19d9-fb36-4f47-817b-f42433f5e598",
   "metadata": {},
   "source": [
    "无论您是否同意 IBM Project Debater 在这场辩论中的立场，IBM Project Debater 都用清晰且论证充分的陈述反驳了对手，并配有示例甚至隐喻。这是自然语言处理领域向前迈出的重要一步。\n",
    "\n",
    "IBM Project Debater 取得了成功。渐渐地，这个人工智能变得越来越熟练，直到它可以经常赢得辩论。再一次，这是自然语言处理领域向前迈出的重要一步。"
   ]
  }
 ],
 "metadata": {
  "kernelspec": {
   "display_name": "Python 3 (ipykernel)",
   "language": "python",
   "name": "python3"
  },
  "language_info": {
   "codemirror_mode": {
    "name": "ipython",
    "version": 3
   },
   "file_extension": ".py",
   "mimetype": "text/x-python",
   "name": "python",
   "nbconvert_exporter": "python",
   "pygments_lexer": "ipython3",
   "version": "3.12.2"
  }
 },
 "nbformat": 4,
 "nbformat_minor": 5
}
