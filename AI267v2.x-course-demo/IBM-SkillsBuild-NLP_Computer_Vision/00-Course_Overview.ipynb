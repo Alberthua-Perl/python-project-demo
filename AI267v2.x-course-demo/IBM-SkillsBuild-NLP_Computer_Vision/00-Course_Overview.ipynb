{
 "cells": [
  {
   "cell_type": "markdown",
   "id": "cd2bfc27-f9ba-4919-9234-3634747a7726",
   "metadata": {},
   "source": [
    "# Course Overview"
   ]
  },
  {
   "cell_type": "markdown",
   "id": "52caaa07-7abb-4a8b-ad2e-38b8a635ae6c",
   "metadata": {},
   "source": [
    "## Learning objectives\n",
    "\n",
    "After completing this course, you should be able to: \n",
    "\n",
    "- Define natural language processing\n",
    "- Explain how AI uses natural language processing to derive meaning from text\n",
    "- Explain the classification problem and its solutions\n",
    "- Describe how a chatbot understands, reasons, learns, and interacts with users\n",
    "- Distinguish between intents, entities, and dialogs\n",
    "- Identify appropriate uses for chatbots\n",
    "- Identify real-world uses for natural language processing\n",
    "- Describe how AI classifies images to derive meaning from them\n",
    "- **Describe how a convolutional neural network (CNN) analyzes an image**\n",
    "- **Describe how a generative adversarial network (GAN) creates a credible image**\n",
    "- Identify real-world uses for computer vision"
   ]
  },
  {
   "cell_type": "markdown",
   "id": "c040835b-bd54-47df-ba4a-d366729bbad5",
   "metadata": {},
   "source": [
    "## Estimated duration\n",
    "\n",
    "1 hour, 30 minutes"
   ]
  }
 ],
 "metadata": {
  "kernelspec": {
   "display_name": "Python 3 (ipykernel)",
   "language": "python",
   "name": "python3"
  },
  "language_info": {
   "codemirror_mode": {
    "name": "ipython",
    "version": 3
   },
   "file_extension": ".py",
   "mimetype": "text/x-python",
   "name": "python",
   "nbconvert_exporter": "python",
   "pygments_lexer": "ipython3",
   "version": "3.12.2"
  }
 },
 "nbformat": 4,
 "nbformat_minor": 5
}
