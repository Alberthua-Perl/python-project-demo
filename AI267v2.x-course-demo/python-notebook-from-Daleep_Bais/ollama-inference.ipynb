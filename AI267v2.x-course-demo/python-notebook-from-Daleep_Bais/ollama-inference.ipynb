{
 "cells": [
  {
   "cell_type": "code",
   "execution_count": 1,
   "id": "409c5ed4-817a-4dc5-a944-22a3a397d118",
   "metadata": {
    "tags": []
   },
   "outputs": [
    {
     "name": "stdout",
     "output_type": "stream",
     "text": [
      "A question that has puzzled humans for centuries!\n",
      "\n",
      "The short answer is: the sky appears blue because of a phenomenon called scattering, which occurs when sunlight interacts with tiny molecules of gases in the Earth's atmosphere.\n",
      "\n",
      "Here's a more detailed explanation:\n",
      "\n",
      "1. **Sunlight**: The sun emits white light, which is made up of all the colors of the visible spectrum (red, orange, yellow, green, blue, indigo, and violet).\n",
      "2. **Atmosphere**: When this sunlight enters the Earth's atmosphere, it encounters tiny molecules of gases such as nitrogen (N2) and oxygen (O2). These molecules are much smaller than the wavelength of light.\n",
      "3. **Scattering**: As the sunlight hits these molecules, they scatter the shorter wavelengths of light (like blue and violet) more than the longer wavelengths (like red and orange). This is known as Rayleigh scattering, named after the British physicist Lord Rayleigh, who first described the phenomenon in the late 19th century.\n",
      "4. **Blue dominance**: Since blue light is scattered more than other colors, it reaches our eyes from all directions, making the sky appear blue during the daytime. The color we see is actually a combination of the direct sunlight and the scattered blue light.\n",
      "5. **Atmospheric conditions**: Factors like air pollution, dust, and water vapor can affect the apparent color of the sky, making it appear more hazy or gray. However, in general, the blue color of the sky remains because the scattering effect is still present.\n",
      "\n",
      "In summary, the sky appears blue because of the scattering of sunlight by tiny molecules in the Earth's atmosphere, which favors shorter wavelengths like blue and violet over longer wavelengths like red and orange.\n"
     ]
    }
   ],
   "source": [
    "import requests\n",
    "import json\n",
    "url = \"http://localhost:11434/api/generate\"\n",
    "\n",
    "headers = {\n",
    "\t\"Content-Type\": \"application/json\"\n",
    "\t}\n",
    "data = {\n",
    "\t\"model\": \"llama3\",\n",
    "\t\"prompt\": \"why is sky blue?\",\n",
    "\t\"stream\": False\n",
    "\t}\n",
    "response = requests.post(url, headers=headers, data=json.dumps(data))\n",
    "\t\n",
    "if response.status_code == 200:\n",
    "\tresponse_text = response.text\n",
    "\tdata = json.loads(response_text)\n",
    "\tactual_response = data[\"response\"]\n",
    "\tprint(actual_response)\n",
    "else:\n",
    "\tprint(\"Error:\", response.status_code, response.text)"
   ]
  }
 ],
 "metadata": {
  "kernelspec": {
   "display_name": "Python 3 (ipykernel)",
   "language": "python",
   "name": "python3"
  },
  "language_info": {
   "codemirror_mode": {
    "name": "ipython",
    "version": 3
   },
   "file_extension": ".py",
   "mimetype": "text/x-python",
   "name": "python",
   "nbconvert_exporter": "python",
   "pygments_lexer": "ipython3",
   "version": "3.12.3"
  }
 },
 "nbformat": 4,
 "nbformat_minor": 5
}
