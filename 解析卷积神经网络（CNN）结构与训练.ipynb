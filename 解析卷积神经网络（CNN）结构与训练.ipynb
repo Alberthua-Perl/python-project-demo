{
 "cells": [
  {
   "cell_type": "markdown",
   "id": "0eee1e60-2892-4bca-82a8-997dfc246d05",
   "metadata": {},
   "source": [
    "# 🦾 解析卷积神经网络（CNN）结构与训练"
   ]
  },
  {
   "cell_type": "markdown",
   "id": "854faeca-02bc-4f77-aaad-172a27766477",
   "metadata": {},
   "source": [
    "## 目录"
   ]
  },
  {
   "cell_type": "markdown",
   "id": "a6e656c3-8212-4a12-8e6e-d21abfcae7fe",
   "metadata": {},
   "source": [
    "## 参考链接"
   ]
  },
  {
   "cell_type": "markdown",
   "id": "dad8cf19-872f-4ab1-adba-9340fdae20da",
   "metadata": {},
   "source": [
    "- [一文彻底搞懂CNN - 模型架构（Model Architecture）](https://mp.weixin.qq.com/s/XW1KxYjmxKZcDBefZr3gJA)\n",
    "- [一文彻底搞懂CNN - 卷积和池化（Convolution And Pooling）](https://mp.weixin.qq.com/s?__biz=MzkzMTEzMzI5Ng==&mid=2247490190&idx=1&sn=436a8901375f58df734056df532ab91a&chksm=c26ef891f51971876697c4df30851e23c4073e1874ba2783f13abd620ff6d4ace96d0c985a60&scene=21#wechat_redirect)\n",
    "- []()\n",
    "- []()"
   ]
  }
 ],
 "metadata": {
  "kernelspec": {
   "display_name": "Python 3 (ipykernel)",
   "language": "python",
   "name": "python3"
  },
  "language_info": {
   "codemirror_mode": {
    "name": "ipython",
    "version": 3
   },
   "file_extension": ".py",
   "mimetype": "text/x-python",
   "name": "python",
   "nbconvert_exporter": "python",
   "pygments_lexer": "ipython3",
   "version": "3.12.2"
  }
 },
 "nbformat": 4,
 "nbformat_minor": 5
}
