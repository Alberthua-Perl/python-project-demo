{
 "cells": [
  {
   "cell_type": "markdown",
   "id": "f4470cfc-8f69-4531-89ac-16de97bbeb32",
   "metadata": {},
   "source": [
    "# **深度学习系列：梯度 & 梯度下降算法**"
   ]
  }
 ],
 "metadata": {
  "kernelspec": {
   "display_name": "Python 3 (ipykernel)",
   "language": "python",
   "name": "python3"
  },
  "language_info": {
   "codemirror_mode": {
    "name": "ipython",
    "version": 3
   },
   "file_extension": ".py",
   "mimetype": "text/x-python",
   "name": "python",
   "nbconvert_exporter": "python",
   "pygments_lexer": "ipython3",
   "version": "3.12.2"
  }
 },
 "nbformat": 4,
 "nbformat_minor": 5
}
