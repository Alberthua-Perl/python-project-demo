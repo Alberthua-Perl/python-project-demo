{
 "cells": [
  {
   "cell_type": "markdown",
   "id": "4ac434bf-e442-47a7-8d5c-af1f216fa28e",
   "metadata": {},
   "source": [
    "# **1.2 深度学习系列（1）：感知机（perceptron）**"
   ]
  },
  {
   "cell_type": "markdown",
   "id": "13a7d581-9b2a-433d-83e5-2858b5ec8531",
   "metadata": {},
   "source": [
    "在机器学习中，感知机（perceptron）是最简单的神经网络模型之一，只有 **输入层** 和 **输出层**，是 **二分类的线性分类器**。它可以解决**与（AND）**、**或（OR）** 等简单的线性可分问题，但无法解决复杂的 **异或（XOR）** 等非线性可分问题。"
   ]
  },
  {
   "cell_type": "markdown",
   "id": "70200537-dac6-4638-b236-9cf0ddaaf765",
   "metadata": {},
   "source": [
    "## **单层感知机**"
   ]
  },
  {
   "cell_type": "markdown",
   "id": "860c968c-9c8d-4651-bcee-6a16f2345be1",
   "metadata": {},
   "source": [
    "### **感知机（perceptron）是什么？** \n",
    "- 感知机是由美国学者 `Frank Rosenblatt` 在 1957 年提出的，它是一种 **模拟人脑神经元工作原理的模型**。感知机接收多个输入信号，通过 **加权求和并加上偏置值**，然后通过一个 **激活函数** 将结果转化为输出信号。\n",
    "- 感知器是一种简单的 **二元分类器**，它试图将数据分为两类。简单来说，感知器可以被视为一个线性模型，它使用线性函数（通常是加权和）来预测输入数据的类别。"
   ]
  },
  {
   "cell_type": "markdown",
   "id": "e54c2230-b982-4ce1-bd73-c9884923cafc",
   "metadata": {},
   "source": [
    "### **感知机的基本结构**"
   ]
  },
  {
   "cell_type": "markdown",
   "id": "342e9b04-5584-481e-bf05-247bb56e16c6",
   "metadata": {},
   "source": [
    "- 输入层：由输入向量组成，每个输入都有一个权重。接收外部信息，不进行信息处理，只是将信息传递给输出层。\n",
    "- 输出层：接收输入层的信号，通过加权求和并加上偏置值，然后通过一个激活函数（如 **阶跃函数**）将结果转化为输出信号。"
   ]
  },
  {
   "cell_type": "markdown",
   "id": "6e0c3582-945b-466f-bd3d-2f2a8d7b462a",
   "metadata": {},
   "source": [
    "为什么要学习这么古老的算法？感知机是神经网络的起源算法，它的工作原理和概念构成了深度学习算法的基础。通过了解感知机，可以掌握神经网络的基本组成单元、工作原理和训练方法，为后续学习更复杂的模型打下基础。"
   ]
  },
  {
   "cell_type": "markdown",
   "id": "bfbf8b64-e669-4367-aa50-05481f15ce32",
   "metadata": {},
   "source": [
    "### **感知机的工作原理是什么？** "
   ]
  },
  {
   "cell_type": "markdown",
   "id": "01df33c7-0739-4e77-8c52-3f8984a5716f",
   "metadata": {},
   "source": [
    "单层感知机通过加权求和输入信号并加上偏置值，然后经过阶跃激活函数处理，输出二分类结果。\n",
    "- 加权求和：输入信号被送往输出层时，会被分别乘以各自的权重，然后求和。\n",
    "- 偏置值：用于调整输出层的激活阈值。\n",
    "- 激活函数：在单层感知机中，常用的 **激活函数是阶跃函数**，它将大于某个阈值的结果输出为 1，小于阈值的结果输出为 0。"
   ]
  },
  {
   "cell_type": "markdown",
   "id": "b0e5a169-8873-496b-a725-97d74a816bd8",
   "metadata": {},
   "source": [
    "### **数学公式**"
   ]
  },
  {
   "cell_type": "markdown",
   "id": "1ea12681-5f8a-4715-ae29-49644e5a9481",
   "metadata": {},
   "source": [
    "假设我们有一个输入向量 $\\mathbf{x}=[x_1, x_2, \\ldots, x_n]$，权重向量 $\\mathbf{w}=[w_1, w_2, \\ldots, w_n]$，以及一个阈值 $b$。感知机的输出 $y$ 可以用以下公式（**阶跃函数**）计算："
   ]
  },
  {
   "cell_type": "markdown",
   "id": "a3c0a8bb-3ead-4fce-a43c-32421dab002d",
   "metadata": {},
   "source": [
    "<div style=\"text-align:center\">\n",
    "    \\[ \n",
    "    y = \\begin{cases} \n",
    "    1 & \\text{if } \\sum w_i x_1 + b > 0 \\\\ \n",
    "    0 & \\text{if } \\sum w_i x_i +b \\leq 0\n",
    "    \\end{cases} \n",
    "    \\]\n",
    "</div>"
   ]
  },
  {
   "cell_type": "markdown",
   "id": "f70a51ed-2d3f-43b9-989d-f9594007f5b7",
   "metadata": {},
   "source": [
    "这里的 $\\sum\\limits_{i=1}\\limits^{n}w_i x_i$ 表示输入向量与权重向量的点积。如果加权和大于阈值 $b$，则输出为1，表示正类；否则输出为 0，表示负类。"
   ]
  },
  {
   "cell_type": "markdown",
   "id": "189588c1-b49f-44ff-b60b-2794b8294db8",
   "metadata": {},
   "source": [
    "![perceptron-detail-1](images/01-deeplearning_perceptron/perceptron-detail-1.png)"
   ]
  },
  {
   "cell_type": "markdown",
   "id": "0cad1362-73a5-495f-aceb-27ce6b47fc45",
   "metadata": {},
   "source": [
    "### **感知机的几何解释**"
   ]
  },
  {
   "cell_type": "markdown",
   "id": "c50515e0-8154-4f3b-98ed-f65123ae838f",
   "metadata": {},
   "source": [
    "- 在二维空间中，感知机可以被视作 **一条直线**，这条直线将平面划分为两部分。输入向量位于这条直线的一侧或另一侧决定了输出类别。\n",
    "- 在更高维度中，感知机可以被视作 **一个超平面**，它将空间划分为两部分。"
   ]
  },
  {
   "cell_type": "markdown",
   "id": "253218bc-a676-40ab-bcb7-aa3dc059ffbb",
   "metadata": {},
   "source": [
    "![perceptron-merge](images/01-deeplearning_perceptron/perceptron-merge.png)"
   ]
  },
  {
   "cell_type": "markdown",
   "id": "29e35505-568c-4c56-bdac-0149c54da8fa",
   "metadata": {},
   "source": [
    "### **感知机的训练过程是什么？** "
   ]
  },
  {
   "cell_type": "markdown",
   "id": "14e4f261-297b-417d-bcaf-382009e7cb04",
   "metadata": {},
   "source": [
    "通过调整权重和偏置值，感知机可以在有限的迭代次数中收敛到一个能够将训练数据集正确分类的 **分离超平面**。"
   ]
  },
  {
   "cell_type": "markdown",
   "id": "81b6fb14-f04a-4f91-9910-2edb3e3863ed",
   "metadata": {},
   "source": [
    "- 定义损失函数：通常使用 **误分类点到分离超平面的距离** 作为损失函数。\n",
    "- 优化方法：采用 **梯度下降法** 或 **其变种** 来优化损失函数，通过迭代更新权重和偏置值，使损失函数不断减小。\n",
    "- 迭代更新：在每次迭代中，使用当前的权重和偏置值对训练数据集进行预测，计算预测值与真实标签之间的误差，并根据误差值来调整权重和偏置值。"
   ]
  },
  {
   "cell_type": "markdown",
   "id": "68992501-aad6-4b68-a24f-e0e69c10c694",
   "metadata": {},
   "source": [
    "![perceptron-detail-2](images/01-deeplearning_perceptron/perceptron-detail-2.png)"
   ]
  }
 ],
 "metadata": {
  "kernelspec": {
   "display_name": "Python 3 (ipykernel)",
   "language": "python",
   "name": "python3"
  },
  "language_info": {
   "codemirror_mode": {
    "name": "ipython",
    "version": 3
   },
   "file_extension": ".py",
   "mimetype": "text/x-python",
   "name": "python",
   "nbconvert_exporter": "python",
   "pygments_lexer": "ipython3",
   "version": "3.12.2"
  }
 },
 "nbformat": 4,
 "nbformat_minor": 5
}
