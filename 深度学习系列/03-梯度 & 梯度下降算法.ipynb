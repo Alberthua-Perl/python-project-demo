{
 "cells": [
  {
   "cell_type": "markdown",
   "id": "f4470cfc-8f69-4531-89ac-16de97bbeb32",
   "metadata": {},
   "source": [
    "# **深度学习系列：梯度 & 散度**"
   ]
  },
  {
   "cell_type": "markdown",
   "id": "954a5622-55c6-42bf-b5a2-0e1faff25706",
   "metadata": {},
   "source": [
    "## **1. 梯度**"
   ]
  },
  {
   "cell_type": "markdown",
   "id": "649bf653-3af3-4df8-80a1-403e34574d35",
   "metadata": {},
   "source": [
    "## **2. 梯度下降算法**"
   ]
  },
  {
   "cell_type": "markdown",
   "id": "ba644920-7499-43ac-9dd2-13398bd3e0ce",
   "metadata": {},
   "source": [
    "## **3. 散度（拉普拉斯算子）**"
   ]
  }
 ],
 "metadata": {
  "kernelspec": {
   "display_name": "Python 3 (ipykernel)",
   "language": "python",
   "name": "python3"
  },
  "language_info": {
   "codemirror_mode": {
    "name": "ipython",
    "version": 3
   },
   "file_extension": ".py",
   "mimetype": "text/x-python",
   "name": "python",
   "nbconvert_exporter": "python",
   "pygments_lexer": "ipython3",
   "version": "3.12.2"
  }
 },
 "nbformat": 4,
 "nbformat_minor": 5
}
