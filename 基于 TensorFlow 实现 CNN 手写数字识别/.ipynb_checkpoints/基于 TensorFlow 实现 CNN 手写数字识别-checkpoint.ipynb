{
 "cells": [
  {
   "cell_type": "markdown",
   "id": "83c89eb7-c3eb-4da0-88fb-d86297de7fc9",
   "metadata": {},
   "source": [
    "# 🧠 基于 TensorFlow 实现 CNN 手写数字识别"
   ]
  },
  {
   "cell_type": "markdown",
   "id": "c4b77656-960d-4693-bb1e-4721fcbb765e",
   "metadata": {},
   "source": [
    "## 示例目标"
   ]
  },
  {
   "cell_type": "markdown",
   "id": "ecc7c8f3-1ef1-4f1b-8353-2fcd40f31ab4",
   "metadata": {},
   "source": [
    "- 了解如何在 Win10 本地部署对应版本的 NVIDIA CUDA 环境\n",
    "- 基于 MNIST 数据集训练与测试 CNN 卷积神经网络并保存模型\n",
    "- 将模型部署于 Flask 应用内实现用户前端的手写数字识别预测\n",
    "- 使用前端 HTML 手写板与 Flask 应用接收用户的手写数字提交请求"
   ]
  },
  {
   "cell_type": "markdown",
   "id": "e61dc15b-0714-4d92-9d92-ccf80244467e",
   "metadata": {},
   "source": [
    "## 尝试启用本地 NVIDIA CUDA"
   ]
  },
  {
   "cell_type": "markdown",
   "id": "4362b4a6-7557-45a0-9702-0d9a6ac206e2",
   "metadata": {},
   "source": [
    "此次实验于 Win10 平台中做测试，因此，尝试启用 NVIDIA CUDA 与 TensorFlow 加速 CNN 模型的训练过程。"
   ]
  },
  {
   "cell_type": "markdown",
   "id": "042ee1b2-4f37-4ef7-851b-1215cf747106",
   "metadata": {},
   "source": [
    "## 如何为 NVIDIA GeForce 940MX 安装 CUDA 开发工具？"
   ]
  },
  {
   "cell_type": "markdown",
   "id": "58ee3a39-6f7c-40a4-860a-9a80bcb5fad5",
   "metadata": {},
   "source": [
    "- 确认本地环境中的 NVIDIA GeForce 940MX 显卡是否支持 CUDA 的安装（可使用 GPU-Z 工具确认）\n",
    "\n",
    "![GPU-Z_CUDA-supported](images/GPU-Z_CUDA-supported.png)\n",
    "- 此显卡可支持 CUDA 11.x 及以上版本，笔者使用 CUDA 11.8 开发工具。可在 [CUDA Toolkit Archive](https://developer.nvidia.com/cuda-toolkit-archive) 中检索并从 [CUDA Toolkit 11.8 Downloads](https://developer.nvidia.com/cuda-11-8-0-download-archive?target_os=Windows&target_arch=x86_64&target_version=10&target_type=exe_local) 中下载。安装手册点击 [CUDA Installation Guide for Microsoft Windows](https://docs.nvidia.com/cuda/cuda-installation-guide-microsoft-windows/index.html)。\n",
    "- 下载 CUDA 安装软件之前，请确保 NVIDIA 驱动程序与 CUDA 安装软件的版本相兼容。如，笔者计算机的 NVIDIA 驱动程序版本为 522.06，因此，CUDA 安装软件版本应不低于此版本。\n",
    "- 双击下载的 `cuda_11.8.0_522.06_windows.exe` 软件，按照步骤安装即可。安装完成后，重启计算机，使用以下方法查看显卡信息。\n",
    "\n",
    "![NVIDIA-CUDA-supported](images/NVIDIA-CUDA-supported.png)"
   ]
  },
  {
   "cell_type": "markdown",
   "id": "5797659d-08cd-4f1a-bb8d-45130e2d7076",
   "metadata": {},
   "source": [
    "## 确认 TensorFlow 支持 GPU 加速"
   ]
  },
  {
   "cell_type": "markdown",
   "id": "a514dba2-d980-41fc-9c7e-552d9c17bb10",
   "metadata": {},
   "source": [
    "若成功安装 CUDA，运行以下程序，返回空列表，表示未有可用的 GPU 支持；反之将返回 GPU 列表。"
   ]
  },
  {
   "cell_type": "code",
   "execution_count": 1,
   "id": "42822ca7-200d-4edf-89db-5eb5c2102b25",
   "metadata": {},
   "outputs": [
    {
     "name": "stdout",
     "output_type": "stream",
     "text": [
      "Available GPUs is: []\n"
     ]
    }
   ],
   "source": [
    "import tensorflow as tf\n",
    "\n",
    "print(\"Available GPUs is:\", tf.config.list_physical_devices('GPU'))"
   ]
  },
  {
   "cell_type": "markdown",
   "id": "e04a1244-6340-4af7-9895-59ac6f198fea",
   "metadata": {},
   "source": [
    "❗ 由于本地安装的 TensorFlow 版本为 2.18.0，而该版本兼容 CUDA 10.0 或 10.1，不能兼容 CUDA 11.8，因此，以上 GPU 列表返回为空列表。尝试使用 GPU 加速训练过程不能支持，继而采用 CPU 进行训练。"
   ]
  },
  {
   "cell_type": "markdown",
   "id": "8349e559-6407-4c85-88f2-7a65dfe150da",
   "metadata": {},
   "source": [
    "## 启用 Windows 本地防火墙端口"
   ]
  },
  {
   "cell_type": "markdown",
   "id": "d6a724eb-6eeb-4eec-a0f7-eddd6b652d3d",
   "metadata": {},
   "source": [
    "Flask 应用本地调试将使用 5000/tcp 端口，因此，Win10 本地需启用此端口（使用管理员权限）："
   ]
  },
  {
   "cell_type": "raw",
   "id": "fd2f1733-362b-4caf-962a-b7d807c268ec",
   "metadata": {},
   "source": [
    "> netsh advfirewall firewall add rule name=\"Open Port 5000\" dir=in action=allow protocol=TCP localport=5000"
   ]
  },
  {
   "cell_type": "raw",
   "id": "7895050e-df4a-4ee1-acb0-b61c8fc02998",
   "metadata": {},
   "source": [
    "> netsh advfirewall firewall show rule name=\"Open Port 5000\""
   ]
  },
  {
   "cell_type": "markdown",
   "id": "971265d0-7e2b-4f39-b597-b23f5b0a1eec",
   "metadata": {},
   "source": [
    "## 🦾 模型训练与测试"
   ]
  },
  {
   "cell_type": "markdown",
   "id": "f6079372-8c23-4762-ad46-fed080eaa127",
   "metadata": {},
   "source": [
    "此次示例参考 [此链接](https://mp.weixin.qq.com/s/ft5p09ZRVG3h3aE8wyMroQ)，使用以下模型完成训练与测试，可直接在当前 Cell 中执行；也可单独保存此代码，在 CLI 中执行，用以生成并保存模型文件。"
   ]
  },
  {
   "cell_type": "code",
   "execution_count": 6,
   "id": "a1bc19f4-892c-4e4e-97d0-2f2b5b942c93",
   "metadata": {},
   "outputs": [],
   "source": [
    "# 导入所需的模块\n",
    "import tensorflow as tf\n",
    "from tensorflow.keras import layers, models\n",
    "import numpy as np\n",
    "import matplotlib.pyplot as plt"
   ]
  },
  {
   "cell_type": "code",
   "execution_count": 7,
   "id": "42e2f1fc-4040-4133-af00-c12ef9a01af7",
   "metadata": {},
   "outputs": [],
   "source": [
    "# 加载 MNIST 数据集\n",
    "(x_train, y_train), (x_test, y_test) = tf.keras.datasets.mnist.load_data()"
   ]
  },
  {
   "cell_type": "code",
   "execution_count": 8,
   "id": "25e94e46-7728-4341-b0bd-6a9f05a962e1",
   "metadata": {},
   "outputs": [],
   "source": [
    "# 数据预处理\n",
    "x_train = x_train.reshape((-1, 28, 28, 1)).astype('float32') / 255.0\n",
    "x_test = x_test.reshape((-1, 28, 28, 1)).astype('float32') / 255.0"
   ]
  },
  {
   "cell_type": "code",
   "execution_count": 9,
   "id": "70821d46-06c3-4847-9fca-48fe03672335",
   "metadata": {},
   "outputs": [],
   "source": [
    "# 构建 CNN 模型\n",
    "model = models.Sequential([\n",
    "    layers.Conv2D(32, (3,3), activation='relu', input_shape=(28, 28, 1)),\n",
    "    layers.MaxPooling2D((2,2)),\n",
    "    layers.Conv2D(64, (3,3), activation='relu'),\n",
    "    layers.MaxPooling2D((2,2)),\n",
    "    layers.Flatten(),\n",
    "    layers.Dense(128, activation='relu'),\n",
    "    layers.Dense(10, activation='softmax')\n",
    "])"
   ]
  },
  {
   "cell_type": "code",
   "execution_count": 10,
   "id": "17328f96-c911-4a19-b058-814685cd63f1",
   "metadata": {},
   "outputs": [
    {
     "data": {
      "text/html": [
       "<pre style=\"white-space:pre;overflow-x:auto;line-height:normal;font-family:Menlo,'DejaVu Sans Mono',consolas,'Courier New',monospace\"><span style=\"font-weight: bold\">Model: \"sequential_2\"</span>\n",
       "</pre>\n"
      ],
      "text/plain": [
       "\u001b[1mModel: \"sequential_2\"\u001b[0m\n"
      ]
     },
     "metadata": {},
     "output_type": "display_data"
    },
    {
     "data": {
      "text/html": [
       "<pre style=\"white-space:pre;overflow-x:auto;line-height:normal;font-family:Menlo,'DejaVu Sans Mono',consolas,'Courier New',monospace\">┏━━━━━━━━━━━━━━━━━━━━━━━━━━━━━━━━━┳━━━━━━━━━━━━━━━━━━━━━━━━┳━━━━━━━━━━━━━━━┓\n",
       "┃<span style=\"font-weight: bold\"> Layer (type)                    </span>┃<span style=\"font-weight: bold\"> Output Shape           </span>┃<span style=\"font-weight: bold\">       Param # </span>┃\n",
       "┡━━━━━━━━━━━━━━━━━━━━━━━━━━━━━━━━━╇━━━━━━━━━━━━━━━━━━━━━━━━╇━━━━━━━━━━━━━━━┩\n",
       "│ conv2d_4 (<span style=\"color: #0087ff; text-decoration-color: #0087ff\">Conv2D</span>)               │ (<span style=\"color: #00d7ff; text-decoration-color: #00d7ff\">None</span>, <span style=\"color: #00af00; text-decoration-color: #00af00\">26</span>, <span style=\"color: #00af00; text-decoration-color: #00af00\">26</span>, <span style=\"color: #00af00; text-decoration-color: #00af00\">32</span>)     │           <span style=\"color: #00af00; text-decoration-color: #00af00\">320</span> │\n",
       "├─────────────────────────────────┼────────────────────────┼───────────────┤\n",
       "│ max_pooling2d_4 (<span style=\"color: #0087ff; text-decoration-color: #0087ff\">MaxPooling2D</span>)  │ (<span style=\"color: #00d7ff; text-decoration-color: #00d7ff\">None</span>, <span style=\"color: #00af00; text-decoration-color: #00af00\">13</span>, <span style=\"color: #00af00; text-decoration-color: #00af00\">13</span>, <span style=\"color: #00af00; text-decoration-color: #00af00\">32</span>)     │             <span style=\"color: #00af00; text-decoration-color: #00af00\">0</span> │\n",
       "├─────────────────────────────────┼────────────────────────┼───────────────┤\n",
       "│ conv2d_5 (<span style=\"color: #0087ff; text-decoration-color: #0087ff\">Conv2D</span>)               │ (<span style=\"color: #00d7ff; text-decoration-color: #00d7ff\">None</span>, <span style=\"color: #00af00; text-decoration-color: #00af00\">11</span>, <span style=\"color: #00af00; text-decoration-color: #00af00\">11</span>, <span style=\"color: #00af00; text-decoration-color: #00af00\">64</span>)     │        <span style=\"color: #00af00; text-decoration-color: #00af00\">18,496</span> │\n",
       "├─────────────────────────────────┼────────────────────────┼───────────────┤\n",
       "│ max_pooling2d_5 (<span style=\"color: #0087ff; text-decoration-color: #0087ff\">MaxPooling2D</span>)  │ (<span style=\"color: #00d7ff; text-decoration-color: #00d7ff\">None</span>, <span style=\"color: #00af00; text-decoration-color: #00af00\">5</span>, <span style=\"color: #00af00; text-decoration-color: #00af00\">5</span>, <span style=\"color: #00af00; text-decoration-color: #00af00\">64</span>)       │             <span style=\"color: #00af00; text-decoration-color: #00af00\">0</span> │\n",
       "├─────────────────────────────────┼────────────────────────┼───────────────┤\n",
       "│ flatten_2 (<span style=\"color: #0087ff; text-decoration-color: #0087ff\">Flatten</span>)             │ (<span style=\"color: #00d7ff; text-decoration-color: #00d7ff\">None</span>, <span style=\"color: #00af00; text-decoration-color: #00af00\">1600</span>)           │             <span style=\"color: #00af00; text-decoration-color: #00af00\">0</span> │\n",
       "├─────────────────────────────────┼────────────────────────┼───────────────┤\n",
       "│ dense_4 (<span style=\"color: #0087ff; text-decoration-color: #0087ff\">Dense</span>)                 │ (<span style=\"color: #00d7ff; text-decoration-color: #00d7ff\">None</span>, <span style=\"color: #00af00; text-decoration-color: #00af00\">128</span>)            │       <span style=\"color: #00af00; text-decoration-color: #00af00\">204,928</span> │\n",
       "├─────────────────────────────────┼────────────────────────┼───────────────┤\n",
       "│ dense_5 (<span style=\"color: #0087ff; text-decoration-color: #0087ff\">Dense</span>)                 │ (<span style=\"color: #00d7ff; text-decoration-color: #00d7ff\">None</span>, <span style=\"color: #00af00; text-decoration-color: #00af00\">10</span>)             │         <span style=\"color: #00af00; text-decoration-color: #00af00\">1,290</span> │\n",
       "└─────────────────────────────────┴────────────────────────┴───────────────┘\n",
       "</pre>\n"
      ],
      "text/plain": [
       "┏━━━━━━━━━━━━━━━━━━━━━━━━━━━━━━━━━┳━━━━━━━━━━━━━━━━━━━━━━━━┳━━━━━━━━━━━━━━━┓\n",
       "┃\u001b[1m \u001b[0m\u001b[1mLayer (type)                   \u001b[0m\u001b[1m \u001b[0m┃\u001b[1m \u001b[0m\u001b[1mOutput Shape          \u001b[0m\u001b[1m \u001b[0m┃\u001b[1m \u001b[0m\u001b[1m      Param #\u001b[0m\u001b[1m \u001b[0m┃\n",
       "┡━━━━━━━━━━━━━━━━━━━━━━━━━━━━━━━━━╇━━━━━━━━━━━━━━━━━━━━━━━━╇━━━━━━━━━━━━━━━┩\n",
       "│ conv2d_4 (\u001b[38;5;33mConv2D\u001b[0m)               │ (\u001b[38;5;45mNone\u001b[0m, \u001b[38;5;34m26\u001b[0m, \u001b[38;5;34m26\u001b[0m, \u001b[38;5;34m32\u001b[0m)     │           \u001b[38;5;34m320\u001b[0m │\n",
       "├─────────────────────────────────┼────────────────────────┼───────────────┤\n",
       "│ max_pooling2d_4 (\u001b[38;5;33mMaxPooling2D\u001b[0m)  │ (\u001b[38;5;45mNone\u001b[0m, \u001b[38;5;34m13\u001b[0m, \u001b[38;5;34m13\u001b[0m, \u001b[38;5;34m32\u001b[0m)     │             \u001b[38;5;34m0\u001b[0m │\n",
       "├─────────────────────────────────┼────────────────────────┼───────────────┤\n",
       "│ conv2d_5 (\u001b[38;5;33mConv2D\u001b[0m)               │ (\u001b[38;5;45mNone\u001b[0m, \u001b[38;5;34m11\u001b[0m, \u001b[38;5;34m11\u001b[0m, \u001b[38;5;34m64\u001b[0m)     │        \u001b[38;5;34m18,496\u001b[0m │\n",
       "├─────────────────────────────────┼────────────────────────┼───────────────┤\n",
       "│ max_pooling2d_5 (\u001b[38;5;33mMaxPooling2D\u001b[0m)  │ (\u001b[38;5;45mNone\u001b[0m, \u001b[38;5;34m5\u001b[0m, \u001b[38;5;34m5\u001b[0m, \u001b[38;5;34m64\u001b[0m)       │             \u001b[38;5;34m0\u001b[0m │\n",
       "├─────────────────────────────────┼────────────────────────┼───────────────┤\n",
       "│ flatten_2 (\u001b[38;5;33mFlatten\u001b[0m)             │ (\u001b[38;5;45mNone\u001b[0m, \u001b[38;5;34m1600\u001b[0m)           │             \u001b[38;5;34m0\u001b[0m │\n",
       "├─────────────────────────────────┼────────────────────────┼───────────────┤\n",
       "│ dense_4 (\u001b[38;5;33mDense\u001b[0m)                 │ (\u001b[38;5;45mNone\u001b[0m, \u001b[38;5;34m128\u001b[0m)            │       \u001b[38;5;34m204,928\u001b[0m │\n",
       "├─────────────────────────────────┼────────────────────────┼───────────────┤\n",
       "│ dense_5 (\u001b[38;5;33mDense\u001b[0m)                 │ (\u001b[38;5;45mNone\u001b[0m, \u001b[38;5;34m10\u001b[0m)             │         \u001b[38;5;34m1,290\u001b[0m │\n",
       "└─────────────────────────────────┴────────────────────────┴───────────────┘\n"
      ]
     },
     "metadata": {},
     "output_type": "display_data"
    },
    {
     "data": {
      "text/html": [
       "<pre style=\"white-space:pre;overflow-x:auto;line-height:normal;font-family:Menlo,'DejaVu Sans Mono',consolas,'Courier New',monospace\"><span style=\"font-weight: bold\"> Total params: </span><span style=\"color: #00af00; text-decoration-color: #00af00\">225,034</span> (879.04 KB)\n",
       "</pre>\n"
      ],
      "text/plain": [
       "\u001b[1m Total params: \u001b[0m\u001b[38;5;34m225,034\u001b[0m (879.04 KB)\n"
      ]
     },
     "metadata": {},
     "output_type": "display_data"
    },
    {
     "data": {
      "text/html": [
       "<pre style=\"white-space:pre;overflow-x:auto;line-height:normal;font-family:Menlo,'DejaVu Sans Mono',consolas,'Courier New',monospace\"><span style=\"font-weight: bold\"> Trainable params: </span><span style=\"color: #00af00; text-decoration-color: #00af00\">225,034</span> (879.04 KB)\n",
       "</pre>\n"
      ],
      "text/plain": [
       "\u001b[1m Trainable params: \u001b[0m\u001b[38;5;34m225,034\u001b[0m (879.04 KB)\n"
      ]
     },
     "metadata": {},
     "output_type": "display_data"
    },
    {
     "data": {
      "text/html": [
       "<pre style=\"white-space:pre;overflow-x:auto;line-height:normal;font-family:Menlo,'DejaVu Sans Mono',consolas,'Courier New',monospace\"><span style=\"font-weight: bold\"> Non-trainable params: </span><span style=\"color: #00af00; text-decoration-color: #00af00\">0</span> (0.00 B)\n",
       "</pre>\n"
      ],
      "text/plain": [
       "\u001b[1m Non-trainable params: \u001b[0m\u001b[38;5;34m0\u001b[0m (0.00 B)\n"
      ]
     },
     "metadata": {},
     "output_type": "display_data"
    }
   ],
   "source": [
    "# 显示模型结构\n",
    "model.summary()"
   ]
  },
  {
   "cell_type": "code",
   "execution_count": 11,
   "id": "240b40fa-26fe-4ffd-990e-3ec6cb09b9ea",
   "metadata": {},
   "outputs": [],
   "source": [
    "# 编译模型\n",
    "model.compile(optimizer='adam',\n",
    "              loss='sparse_categorical_crossentropy',\n",
    "              metrics=['accuracy'])"
   ]
  },
  {
   "cell_type": "code",
   "execution_count": 12,
   "id": "b0bb6f8b-f250-46bf-9b13-27eaeb4976bd",
   "metadata": {},
   "outputs": [
    {
     "name": "stdout",
     "output_type": "stream",
     "text": [
      "Epoch 1/5\n",
      "\u001b[1m938/938\u001b[0m \u001b[32m━━━━━━━━━━━━━━━━━━━━\u001b[0m\u001b[37m\u001b[0m \u001b[1m20s\u001b[0m 19ms/step - accuracy: 0.8865 - loss: 0.3728 - val_accuracy: 0.9837 - val_loss: 0.0519\n",
      "Epoch 2/5\n",
      "\u001b[1m938/938\u001b[0m \u001b[32m━━━━━━━━━━━━━━━━━━━━\u001b[0m\u001b[37m\u001b[0m \u001b[1m18s\u001b[0m 19ms/step - accuracy: 0.9838 - loss: 0.0518 - val_accuracy: 0.9873 - val_loss: 0.0361\n",
      "Epoch 3/5\n",
      "\u001b[1m938/938\u001b[0m \u001b[32m━━━━━━━━━━━━━━━━━━━━\u001b[0m\u001b[37m\u001b[0m \u001b[1m19s\u001b[0m 20ms/step - accuracy: 0.9899 - loss: 0.0329 - val_accuracy: 0.9880 - val_loss: 0.0368\n",
      "Epoch 4/5\n",
      "\u001b[1m938/938\u001b[0m \u001b[32m━━━━━━━━━━━━━━━━━━━━\u001b[0m\u001b[37m\u001b[0m \u001b[1m20s\u001b[0m 22ms/step - accuracy: 0.9930 - loss: 0.0243 - val_accuracy: 0.9896 - val_loss: 0.0301\n",
      "Epoch 5/5\n",
      "\u001b[1m938/938\u001b[0m \u001b[32m━━━━━━━━━━━━━━━━━━━━\u001b[0m\u001b[37m\u001b[0m \u001b[1m20s\u001b[0m 21ms/step - accuracy: 0.9944 - loss: 0.0177 - val_accuracy: 0.9904 - val_loss: 0.0308\n"
     ]
    }
   ],
   "source": [
    "# 训练模型\n",
    "history = model.fit(x_train, y_train, \n",
    "                    epochs=5, batch_size=64, \n",
    "                    validation_data=(x_test, y_test))"
   ]
  },
  {
   "cell_type": "code",
   "execution_count": 13,
   "id": "0c3eb67a-b3f5-466d-8a9a-7b70105e5545",
   "metadata": {},
   "outputs": [
    {
     "name": "stdout",
     "output_type": "stream",
     "text": [
      "Accuracy on test set: 99.04%\n"
     ]
    }
   ],
   "source": [
    "# 评估模型\n",
    "test_loss, test_acc = model.evaluate(x_test, y_test, verbose=0)\n",
    "print(f'Accuracy on test set: {test_acc * 100:.2f}%')"
   ]
  },
  {
   "cell_type": "code",
   "execution_count": 14,
   "id": "fd9c32bb-928f-40c1-86fb-2ff416c97588",
   "metadata": {},
   "outputs": [],
   "source": [
    "# 保存模型\n",
    "#model.save('mnist_cnn.h5')\n",
    "model.save('mnist_cnn.keras')"
   ]
  },
  {
   "cell_type": "code",
   "execution_count": 15,
   "id": "4c7f4311-feb0-49e3-8828-d873aa052dfc",
   "metadata": {},
   "outputs": [
    {
     "name": "stdout",
     "output_type": "stream",
     "text": [
      "\u001b[1m4/4\u001b[0m \u001b[32m━━━━━━━━━━━━━━━━━━━━\u001b[0m\u001b[37m\u001b[0m \u001b[1m0s\u001b[0m 33ms/step\n"
     ]
    }
   ],
   "source": [
    "# 进行预测并可视化\n",
    "predictions = model.predict(x_test[:100])\n",
    "predicted_labels = np.argmax(predictions, axis=1)"
   ]
  },
  {
   "cell_type": "code",
   "execution_count": 16,
   "id": "8ff27583-9164-446a-b67b-f804ab7f71f1",
   "metadata": {},
   "outputs": [
    {
     "data": {
      "image/png": "[encoded data removed]",
      "text/plain": [
       "<Figure size 1000x600 with 10 Axes>"
      ]
     },
     "metadata": {},
     "output_type": "display_data"
    }
   ],
   "source": [
    "# 显示预测结果\n",
    "fig, axes = plt.subplots(2, 5, figsize=(10, 6))\n",
    "axes = axes.flatten()\n",
    "for img, true_label, pred_label, ax in zip(x_test[:10], y_test[:10], predicted_labels[:10], axes):\n",
    "    ax.imshow(img.squeeze(), cmap='gray')\n",
    "    ax.set_title(f'True: {true_label}, Pred: {pred_label}')\n",
    "    ax.axis('off')\n",
    " \n",
    "plt.tight_layout()\n",
    "plt.show()"
   ]
  },
  {
   "cell_type": "markdown",
   "id": "3cedc73d-7835-4523-be90-3cf9f85b6ba1",
   "metadata": {},
   "source": [
    "若将以上程序单独保存为脚本，命名为 train_mnist_model.py 并直接运行训练模型，将保存 `.keras` 格式的模型文件。"
   ]
  },
  {
   "cell_type": "raw",
   "id": "cb12a0e5-7dff-43c7-bfd9-f0abe166737f",
   "metadata": {},
   "source": [
    "$ python train_mnist_model.py\n",
    "# 运行训练模型"
   ]
  },
  {
   "cell_type": "markdown",
   "id": "8da36696-3d06-497c-acd8-a804a8fed2b0",
   "metadata": {},
   "source": [
    "## 其他 PyTorch 版本示例：**保存模型 & 保存权重 & 训练准确率 & 训练损失率**"
   ]
  },
  {
   "cell_type": "markdown",
   "id": "8439bf61-4c50-43ae-be35-3dfb6e9791bf",
   "metadata": {},
   "source": [
    "以下示例代码仅用于演示，了解 PyTorch 框架的训练过程。"
   ]
  },
  {
   "cell_type": "markdown",
   "id": "4c45fbde-6bae-4394-b42e-67fdf0704649",
   "metadata": {},
   "source": [
    "为了在 PyTorch 训练过程中添加可视化，可以使用 matplotlib 库来绘制训练和验证过程中的损失和准确率。\n",
    "- 数据收集：在训练过程中收集损失和准确率数据。\n",
    "- 绘图：在每个 epoch 结束后，绘制损失和准确率的图表。"
   ]
  },
  {
   "cell_type": "markdown",
   "id": "5a06584b-3c79-437c-bafd-32b96c4062b3",
   "metadata": {},
   "source": [
    "以下示例是对 [PyTorch 手写数字识别-深度学习基础分享](https://mp.weixin.qq.com/s/6zmfqMaBnpc2rsI3jYkgLQ) 的优化改进："
   ]
  },
  {
   "cell_type": "code",
   "execution_count": 1,
   "id": "ac6cc8e9-2faa-48be-8e8e-83414cc8a0af",
   "metadata": {},
   "outputs": [
    {
     "name": "stderr",
     "output_type": "stream",
     "text": [
      "E:\\Programme Files 1\\Lib\\site-packages\\torch\\utils\\_pytree.py:185: FutureWarning: optree is installed but the version is too old to support PyTorch Dynamo in C++ pytree. C++ pytree support is disabled. Please consider upgrading optree using `python3 -m pip install --upgrade 'optree>=0.13.0'`.\n",
      "  warnings.warn(\n"
     ]
    },
    {
     "data": {
      "image/png": "[encoded data removed]",
      "text/plain": [
       "<Figure size 1200x400 with 2 Axes>"
      ]
     },
     "metadata": {},
     "output_type": "display_data"
    }
   ],
   "source": [
    "import torch\n",
    "import torch.nn as nn\n",
    "import torchvision\n",
    "import torchvision.transforms as transforms\n",
    "import matplotlib.pyplot as plt\n",
    "\n",
    "# 训练数据集\n",
    "train_data = torchvision.datasets.MNIST(\n",
    "    root=\"data\",    # 表示把 MINST 保存在 data 文件夹下\n",
    "    download=True,  # 表示需要从网络上下载。下载过一次后，下一次就不会再重复下载了\n",
    "    train=True,     # 表示这是训练数据集\n",
    "    transform=transforms.ToTensor()\n",
    "                    # 要把数据集中的数据转换为 pytorch 能够使用的 Tensor 类型\n",
    ")\n",
    "\n",
    "# 测试数据集\n",
    "test_data = torchvision.datasets.MNIST(\n",
    "    root=\"data\",    # 表示把 MINST 保存在 data 文件夹下\n",
    "    download=True,  # 表示需要从网络上下载。下载过一次后，下一次就不会再重复下载了\n",
    "    train=False,    # 表示这是测试数据集\n",
    "    transform=transforms.ToTensor()\n",
    "                    # 要把数据集中的数据转换为 pytorch 能够使用的 Tensor 类型\n",
    ")\n",
    "\n",
    "# 创建 DataLoader\n",
    "train_dataloader = torch.utils.data.DataLoader(train_data, batch_size=64, shuffle=True)\n",
    "test_dataloader = torch.utils.data.DataLoader(test_data, batch_size=1000, shuffle=False)\n",
    "\n",
    "# 定义卷积神经网络类\n",
    "class RLS_CNN(nn.Module):\n",
    "    def __init__(self):\n",
    "        super(RLS_CNN, self).__init__()\n",
    "        self.net = nn.Sequential(\n",
    "            nn.Conv2d(in_channels=1, out_channels=16,   # 输入、输出通道数，输出通道数可以理解为提取了几种特征\n",
    "                      kernel_size=(3, 3),               # 卷积核尺寸 \n",
    "                      stride=(1, 1),                    # 卷积核每次移动多少个像素 \n",
    "                      padding=1),                       # 原图片边缘加几个空白像素\n",
    "                                                        # 输入图片尺寸为 1×28×28\n",
    "                                                        # 第一次卷积，尺寸为 16×28×28\n",
    "            nn.MaxPool2d(kernel_size=2),                # 第一次池化，尺寸为 16×14×14\n",
    "            nn.Conv2d(16, 32, 3, 1, 1),                 # 第二次卷积，尺寸为 32×14×14\n",
    "            nn.MaxPool2d(2),                            # 第二次池化，尺寸为 32×7×7\n",
    "            nn.Flatten(),                               # 将三维数组变成一维数组\n",
    "            nn.Linear(32*7*7, 16),                      # 变成 16 个卷积核，每一个卷积核是 1*1，最后输出 16 个数字\n",
    "            nn.ReLU(),                                  # 激活函数 x<0 y=0  x>0 y=x，用在反向传导\n",
    "            nn.Linear(16, 10)                           # 将 16 变成 10，预测 0-9 之间概率值\n",
    "        )\n",
    "\n",
    "    def forward(self, x):\n",
    "        return self.net(x)\n",
    "\n",
    "# 初始化模型\n",
    "model = RLS_CNN()\n",
    "\n",
    "# 交叉熵损失函数，选择一种方法计算误差值\n",
    "loss_func = torch.nn.CrossEntropyLoss()\n",
    "\n",
    "# 优化器，随机梯度下降算法\n",
    "optimizer = torch.optim.SGD(model.parameters(), lr=0.2)\n",
    "\n",
    "# 定义训练次数\n",
    "num_epochs = 5  # 训练5个循环\n",
    "\n",
    "# 用于存储训练和验证过程中的损失和准确率\n",
    "train_losses = []\n",
    "val_losses = []\n",
    "train_accuracies = []\n",
    "val_accuracies = []\n",
    "\n",
    "# 循环训练\n",
    "for epoch in range(num_epochs):\n",
    "    # 把训练集中的数据训练一遍\n",
    "    model.train()\n",
    "    running_loss = 0.0\n",
    "    correct = 0\n",
    "\n",
    "    for imgs, labels in train_dataloader:\n",
    "        optimizer.zero_grad()\n",
    "        outputs = model(imgs)              # 输出 0~9 预测的结果概率\n",
    "        loss = loss_func(outputs, labels)  # 和输入做一个比较，得到一个误差\n",
    "        #optimizer.zero_grad()             # 初始化梯度，清空梯度。注意清空优化器的梯度，防止累计\n",
    "        loss.backward()                    # 反向传播计算\n",
    "        optimizer.step()                   # 累加 1，执行一次\n",
    "        running_loss += loss.item()\n",
    "        correct += (outputs.argmax(1) == labels).sum().item()\n",
    "\n",
    "    train_losses.append(running_loss / len(train_dataloader))\n",
    "    train_accuracies.append(correct / len(train_dataloader.dataset))\n",
    "\n",
    "    model.eval()\n",
    "    with torch.no_grad():\n",
    "        running_loss = 0.0\n",
    "        correct = 0\n",
    "\n",
    "        for imgs, labels in test_dataloader:\n",
    "            outputs = model(imgs)\n",
    "            loss = loss_func(outputs, labels)\n",
    "            running_loss += loss.item()\n",
    "            correct += (outputs.argmax(1) == labels).sum().item()\n",
    "\n",
    "    val_losses.append(running_loss / len(test_dataloader))\n",
    "    val_accuracies.append(correct / len(test_dataloader.dataset))\n",
    "\n",
    "# 保存训练的结果（包括模型和参数）\n",
    "torch.save(model.state_dict(), \"mnist_cnn_pytorch.pth\")  # 保存模型权重\n",
    "\n",
    "# 保存模型为HDF5格式\n",
    "torch.save(model, \"mnist_cnn_pytorch.h5\")\n",
    "\n",
    "# 绘制损失图\n",
    "plt.figure(figsize=(12, 4))\n",
    "plt.subplot(1, 2, 1)\n",
    "plt.plot(train_losses, label='Train Loss')\n",
    "plt.plot(val_losses, label='Validation Loss')\n",
    "plt.title('Loss During Training')\n",
    "plt.xlabel('Epochs')\n",
    "plt.ylabel('Loss')\n",
    "plt.legend()\n",
    "\n",
    "# 绘制准确率图\n",
    "plt.subplot(1, 2, 2)\n",
    "plt.plot(train_accuracies, label='Train Accuracy')\n",
    "plt.plot(val_accuracies, label='Validation Accuracy')\n",
    "plt.title('Accuracy During Training')\n",
    "plt.xlabel('Epochs')\n",
    "plt.ylabel('Accuracy')\n",
    "plt.legend()\n",
    "\n",
    "plt.show()"
   ]
  },
  {
   "cell_type": "markdown",
   "id": "0dfad1e3-d167-407d-9ca9-dc161e892a75",
   "metadata": {},
   "source": [
    "## 🌶 使用 Flask 应用部署模型"
   ]
  },
  {
   "cell_type": "markdown",
   "id": "8e6b9c91-b849-4994-832f-a1a8c4c1aec0",
   "metadata": {},
   "source": [
    "创建 Flask 应用，将训练好的模型部署于此应用中，完成前端用户请求的手写数字图片的推理与预测。下图中的 \"推理预测\" 部分需要前端 HTML 手写板中由用户提交图像数据后才能返回结果。"
   ]
  },
  {
   "cell_type": "raw",
   "id": "aeb78ac7-b09f-47a6-9b10-b8b5ad533f1f",
   "metadata": {},
   "source": [
    "$ python app.py\n",
    "# 运行 Flask 应用"
   ]
  },
  {
   "cell_type": "markdown",
   "id": "f348d1d1-9916-46a3-ad92-04b73696981d",
   "metadata": {},
   "source": [
    "![flask-run-predict](images/flask-run-predict.png)"
   ]
  },
  {
   "cell_type": "markdown",
   "id": "c8575508-55b0-4fa4-ae97-b4094b53a3f3",
   "metadata": {},
   "source": [
    "## ✍ 创建前端 HTML 手写板用于数字识别验证"
   ]
  },
  {
   "cell_type": "markdown",
   "id": "4b9e36b6-9282-4cc5-ad35-b828f1c423b9",
   "metadata": {},
   "source": [
    "用户在前端 HTML 手写板中绘制 0~9 中任意一个数字，尽可能绘制地大些，以便能更准确地被识别预测。每次绘制完成后，点击 Submit 提交查看预测结果。若想再次尝试，可点击 Clear 清除手写板中的数字，绘制后再次提交即可。预测的推理过程可在 Flask 应用的后端查看（如上图）。"
   ]
  },
  {
   "cell_type": "markdown",
   "id": "a4c33031-c5db-4ca5-8c5f-36a8ae9224c8",
   "metadata": {},
   "source": [
    "HTML 手写板样例如下所示：\n",
    "\n",
    "![html-demo-1](images/html-demo-1.png)\n",
    "\n",
    "![html-demo-2](images/html-demo-2.png)"
   ]
  }
 ],
 "metadata": {
  "kernelspec": {
   "display_name": "Python 3 (ipykernel)",
   "language": "python",
   "name": "python3"
  },
  "language_info": {
   "codemirror_mode": {
    "name": "ipython",
    "version": 3
   },
   "file_extension": ".py",
   "mimetype": "text/x-python",
   "name": "python",
   "nbconvert_exporter": "python",
   "pygments_lexer": "ipython3",
   "version": "3.12.2"
  }
 },
 "nbformat": 4,
 "nbformat_minor": 5
}
