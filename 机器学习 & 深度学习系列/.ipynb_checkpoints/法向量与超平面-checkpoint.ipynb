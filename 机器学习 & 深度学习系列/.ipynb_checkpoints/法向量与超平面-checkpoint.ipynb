{
 "cells": [
  {
   "cell_type": "markdown",
   "id": "29bb6142-a35a-47b5-b012-bfa5ddbb8912",
   "metadata": {},
   "source": [
    "# **法向量与超平面**"
   ]
  },
  {
   "cell_type": "markdown",
   "id": "e837e2d1-51c6-4857-a11e-c13de74f49e9",
   "metadata": {},
   "source": [
    "## **超平面的推导与定义**"
   ]
  },
  {
   "cell_type": "markdown",
   "id": "7f68bc7d-08dd-4d86-930a-747dd78514b6",
   "metadata": {},
   "source": [
    "首先明确几个定义：\n",
    "\n",
    "- 超平面是指 $n$ 维线性空间中维度为 $n-1$ 的子空间。它可以把线性空间分割成不相交的两部分。比如二维空间中，一条直线是一维的，它把平面分成了两块；三维空间中，一个平面是二维的，它把空间分成了两块。\n",
    "- 法向量是指垂直于超平面的向量。"
   ]
  },
  {
   "cell_type": "markdown",
   "id": "412ca877-7ebb-450d-a5fc-36a5a608da1b",
   "metadata": {},
   "source": [
    "在 $\\mathbb{R}^3$ 空间中，假如有法向量 $\\mathbf{\\omega}$，过原点的平面内任意原点出发的向量 $x$ 必然与之满足 $\\omega^\\top x = 0$。如果平面沿着法向量的方向上上下平移，那么这个方程就不再成立。\n",
    "\n",
    "我们假设平移之后平面经过 $x^{\\prime}(x^{\\prime}_1,x^{\\prime}_2,x^{\\prime}_3)$，平面内任一点为 $x(x_1,x_2,x_3)$，法向量记为 $\\omega(\\omega_1,\\omega_2,\\omega_3)$，如下图所示："
   ]
  },
  {
   "cell_type": "code",
   "execution_count": null,
   "id": "8b11809f-53ad-4849-923f-4f9fd94d0f72",
   "metadata": {},
   "outputs": [],
   "source": []
  },
  {
   "cell_type": "markdown",
   "id": "e80f33c6-5a88-4438-8a6a-e6bcf08a0db9",
   "metadata": {},
   "source": [
    "## **$n$ 维空间中点到超平面的距离**"
   ]
  },
  {
   "cell_type": "markdown",
   "id": "4969f9f9-93d9-404f-a121-be59a6739ad4",
   "metadata": {},
   "source": [
    "## **参考链接**"
   ]
  }
 ],
 "metadata": {
  "kernelspec": {
   "display_name": "Python 3 (ipykernel)",
   "language": "python",
   "name": "python3"
  },
  "language_info": {
   "codemirror_mode": {
    "name": "ipython",
    "version": 3
   },
   "file_extension": ".py",
   "mimetype": "text/x-python",
   "name": "python",
   "nbconvert_exporter": "python",
   "pygments_lexer": "ipython3",
   "version": "3.12.2"
  }
 },
 "nbformat": 4,
 "nbformat_minor": 5
}
